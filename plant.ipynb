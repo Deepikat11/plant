{
  "nbformat": 4,
  "nbformat_minor": 0,
  "metadata": {
    "colab": {
      "provenance": [],
      "gpuType": "T4"
    },
    "kernelspec": {
      "name": "python3",
      "display_name": "Python 3"
    },
    "language_info": {
      "name": "python"
    },
    "accelerator": "GPU"
  },
  "cells": [
    {
      "cell_type": "code",
      "source": [
        "!pip install roboflow\n",
        "\n",
        "from roboflow import Roboflow\n",
        "rf = Roboflow(api_key=\"jhuAhoL64t63R7zIVTpt\")\n",
        "project = rf.workspace(\"personal-enkcf\").project(\"tomato-leaf-disease-detection-gyozv\")\n",
        "version = project.version(6)\n",
        "dataset = version.download(\"yolov8\")\n"
      ],
      "metadata": {
        "id": "amgiPhs48Ibf",
        "colab": {
          "base_uri": "https://localhost:8080/"
        },
        "outputId": "d4477932-2a92-444c-fc9b-142aa4f3182f"
      },
      "execution_count": null,
      "outputs": [
        {
          "output_type": "stream",
          "name": "stdout",
          "text": [
            "Collecting roboflow\n",
            "  Downloading roboflow-1.2.1-py3-none-any.whl.metadata (9.7 kB)\n",
            "Requirement already satisfied: certifi in /usr/local/lib/python3.11/dist-packages (from roboflow) (2025.7.14)\n",
            "Collecting idna==3.7 (from roboflow)\n",
            "  Downloading idna-3.7-py3-none-any.whl.metadata (9.9 kB)\n",
            "Requirement already satisfied: cycler in /usr/local/lib/python3.11/dist-packages (from roboflow) (0.12.1)\n",
            "Requirement already satisfied: kiwisolver>=1.3.1 in /usr/local/lib/python3.11/dist-packages (from roboflow) (1.4.8)\n",
            "Requirement already satisfied: matplotlib in /usr/local/lib/python3.11/dist-packages (from roboflow) (3.10.0)\n",
            "Requirement already satisfied: numpy>=1.18.5 in /usr/local/lib/python3.11/dist-packages (from roboflow) (2.0.2)\n",
            "Collecting opencv-python-headless==4.10.0.84 (from roboflow)\n",
            "  Downloading opencv_python_headless-4.10.0.84-cp37-abi3-manylinux_2_17_x86_64.manylinux2014_x86_64.whl.metadata (20 kB)\n",
            "Requirement already satisfied: Pillow>=7.1.2 in /usr/local/lib/python3.11/dist-packages (from roboflow) (11.2.1)\n",
            "Collecting pillow-heif<2 (from roboflow)\n",
            "  Downloading pillow_heif-1.0.0-cp311-cp311-manylinux_2_17_x86_64.manylinux2014_x86_64.whl.metadata (9.6 kB)\n",
            "Collecting pillow-avif-plugin<2 (from roboflow)\n",
            "  Downloading pillow_avif_plugin-1.5.2-cp311-cp311-manylinux_2_28_x86_64.whl.metadata (2.1 kB)\n",
            "Requirement already satisfied: python-dateutil in /usr/local/lib/python3.11/dist-packages (from roboflow) (2.9.0.post0)\n",
            "Collecting python-dotenv (from roboflow)\n",
            "  Downloading python_dotenv-1.1.1-py3-none-any.whl.metadata (24 kB)\n",
            "Requirement already satisfied: requests in /usr/local/lib/python3.11/dist-packages (from roboflow) (2.32.3)\n",
            "Requirement already satisfied: six in /usr/local/lib/python3.11/dist-packages (from roboflow) (1.17.0)\n",
            "Requirement already satisfied: urllib3>=1.26.6 in /usr/local/lib/python3.11/dist-packages (from roboflow) (2.4.0)\n",
            "Requirement already satisfied: tqdm>=4.41.0 in /usr/local/lib/python3.11/dist-packages (from roboflow) (4.67.1)\n",
            "Requirement already satisfied: PyYAML>=5.3.1 in /usr/local/lib/python3.11/dist-packages (from roboflow) (6.0.2)\n",
            "Requirement already satisfied: requests-toolbelt in /usr/local/lib/python3.11/dist-packages (from roboflow) (1.0.0)\n",
            "Collecting filetype (from roboflow)\n",
            "  Downloading filetype-1.2.0-py2.py3-none-any.whl.metadata (6.5 kB)\n",
            "Requirement already satisfied: contourpy>=1.0.1 in /usr/local/lib/python3.11/dist-packages (from matplotlib->roboflow) (1.3.2)\n",
            "Requirement already satisfied: fonttools>=4.22.0 in /usr/local/lib/python3.11/dist-packages (from matplotlib->roboflow) (4.58.5)\n",
            "Requirement already satisfied: packaging>=20.0 in /usr/local/lib/python3.11/dist-packages (from matplotlib->roboflow) (25.0)\n",
            "Requirement already satisfied: pyparsing>=2.3.1 in /usr/local/lib/python3.11/dist-packages (from matplotlib->roboflow) (3.2.3)\n",
            "Requirement already satisfied: charset-normalizer<4,>=2 in /usr/local/lib/python3.11/dist-packages (from requests->roboflow) (3.4.2)\n",
            "Downloading roboflow-1.2.1-py3-none-any.whl (86 kB)\n",
            "\u001b[2K   \u001b[90m━━━━━━━━━━━━━━━━━━━━━━━━━━━━━━━━━━━━━━━━\u001b[0m \u001b[32m86.9/86.9 kB\u001b[0m \u001b[31m5.4 MB/s\u001b[0m eta \u001b[36m0:00:00\u001b[0m\n",
            "\u001b[?25hDownloading idna-3.7-py3-none-any.whl (66 kB)\n",
            "\u001b[2K   \u001b[90m━━━━━━━━━━━━━━━━━━━━━━━━━━━━━━━━━━━━━━━━\u001b[0m \u001b[32m66.8/66.8 kB\u001b[0m \u001b[31m6.4 MB/s\u001b[0m eta \u001b[36m0:00:00\u001b[0m\n",
            "\u001b[?25hDownloading opencv_python_headless-4.10.0.84-cp37-abi3-manylinux_2_17_x86_64.manylinux2014_x86_64.whl (49.9 MB)\n",
            "\u001b[2K   \u001b[90m━━━━━━━━━━━━━━━━━━━━━━━━━━━━━━━━━━━━━━━━\u001b[0m \u001b[32m49.9/49.9 MB\u001b[0m \u001b[31m18.6 MB/s\u001b[0m eta \u001b[36m0:00:00\u001b[0m\n",
            "\u001b[?25hDownloading pillow_avif_plugin-1.5.2-cp311-cp311-manylinux_2_28_x86_64.whl (4.2 MB)\n",
            "\u001b[2K   \u001b[90m━━━━━━━━━━━━━━━━━━━━━━━━━━━━━━━━━━━━━━━━\u001b[0m \u001b[32m4.2/4.2 MB\u001b[0m \u001b[31m27.7 MB/s\u001b[0m eta \u001b[36m0:00:00\u001b[0m\n",
            "\u001b[?25hDownloading pillow_heif-1.0.0-cp311-cp311-manylinux_2_17_x86_64.manylinux2014_x86_64.whl (4.9 MB)\n",
            "\u001b[2K   \u001b[90m━━━━━━━━━━━━━━━━━━━━━━━━━━━━━━━━━━━━━━━━\u001b[0m \u001b[32m4.9/4.9 MB\u001b[0m \u001b[31m76.5 MB/s\u001b[0m eta \u001b[36m0:00:00\u001b[0m\n",
            "\u001b[?25hDownloading filetype-1.2.0-py2.py3-none-any.whl (19 kB)\n",
            "Downloading python_dotenv-1.1.1-py3-none-any.whl (20 kB)\n",
            "Installing collected packages: pillow-avif-plugin, filetype, python-dotenv, pillow-heif, opencv-python-headless, idna, roboflow\n",
            "  Attempting uninstall: opencv-python-headless\n",
            "    Found existing installation: opencv-python-headless 4.12.0.88\n",
            "    Uninstalling opencv-python-headless-4.12.0.88:\n",
            "      Successfully uninstalled opencv-python-headless-4.12.0.88\n",
            "  Attempting uninstall: idna\n",
            "    Found existing installation: idna 3.10\n",
            "    Uninstalling idna-3.10:\n",
            "      Successfully uninstalled idna-3.10\n",
            "Successfully installed filetype-1.2.0 idna-3.7 opencv-python-headless-4.10.0.84 pillow-avif-plugin-1.5.2 pillow-heif-1.0.0 python-dotenv-1.1.1 roboflow-1.2.1\n",
            "loading Roboflow workspace...\n",
            "loading Roboflow project...\n"
          ]
        },
        {
          "output_type": "stream",
          "name": "stderr",
          "text": [
            "Downloading Dataset Version Zip in Tomato-Leaf-Disease-Detection-6 to yolov8:: 100%|██████████| 733405/733405 [00:42<00:00, 17290.07it/s]"
          ]
        },
        {
          "output_type": "stream",
          "name": "stdout",
          "text": [
            "\n"
          ]
        },
        {
          "output_type": "stream",
          "name": "stderr",
          "text": [
            "\n",
            "Extracting Dataset Version Zip to Tomato-Leaf-Disease-Detection-6 in yolov8:: 100%|██████████| 21200/21200 [00:03<00:00, 5786.15it/s]\n"
          ]
        }
      ]
    },
    {
      "cell_type": "code",
      "source": [
        "!pip install ultralytics\n"
      ],
      "metadata": {
        "colab": {
          "base_uri": "https://localhost:8080/"
        },
        "id": "UjejiG3u9dE7",
        "outputId": "b9aad81c-37a3-404c-e4b0-e907849e82c3"
      },
      "execution_count": null,
      "outputs": [
        {
          "output_type": "stream",
          "name": "stdout",
          "text": [
            "Collecting ultralytics\n",
            "  Downloading ultralytics-8.3.168-py3-none-any.whl.metadata (37 kB)\n",
            "Requirement already satisfied: numpy>=1.23.0 in /usr/local/lib/python3.11/dist-packages (from ultralytics) (2.0.2)\n",
            "Requirement already satisfied: matplotlib>=3.3.0 in /usr/local/lib/python3.11/dist-packages (from ultralytics) (3.10.0)\n",
            "Requirement already satisfied: opencv-python>=4.6.0 in /usr/local/lib/python3.11/dist-packages (from ultralytics) (4.11.0.86)\n",
            "Requirement already satisfied: pillow>=7.1.2 in /usr/local/lib/python3.11/dist-packages (from ultralytics) (11.2.1)\n",
            "Requirement already satisfied: pyyaml>=5.3.1 in /usr/local/lib/python3.11/dist-packages (from ultralytics) (6.0.2)\n",
            "Requirement already satisfied: requests>=2.23.0 in /usr/local/lib/python3.11/dist-packages (from ultralytics) (2.32.3)\n",
            "Requirement already satisfied: scipy>=1.4.1 in /usr/local/lib/python3.11/dist-packages (from ultralytics) (1.15.3)\n",
            "Requirement already satisfied: torch>=1.8.0 in /usr/local/lib/python3.11/dist-packages (from ultralytics) (2.6.0+cu124)\n",
            "Requirement already satisfied: torchvision>=0.9.0 in /usr/local/lib/python3.11/dist-packages (from ultralytics) (0.21.0+cu124)\n",
            "Requirement already satisfied: tqdm>=4.64.0 in /usr/local/lib/python3.11/dist-packages (from ultralytics) (4.67.1)\n",
            "Requirement already satisfied: psutil in /usr/local/lib/python3.11/dist-packages (from ultralytics) (5.9.5)\n",
            "Requirement already satisfied: py-cpuinfo in /usr/local/lib/python3.11/dist-packages (from ultralytics) (9.0.0)\n",
            "Requirement already satisfied: pandas>=1.1.4 in /usr/local/lib/python3.11/dist-packages (from ultralytics) (2.2.2)\n",
            "Collecting ultralytics-thop>=2.0.0 (from ultralytics)\n",
            "  Downloading ultralytics_thop-2.0.14-py3-none-any.whl.metadata (9.4 kB)\n",
            "Requirement already satisfied: contourpy>=1.0.1 in /usr/local/lib/python3.11/dist-packages (from matplotlib>=3.3.0->ultralytics) (1.3.2)\n",
            "Requirement already satisfied: cycler>=0.10 in /usr/local/lib/python3.11/dist-packages (from matplotlib>=3.3.0->ultralytics) (0.12.1)\n",
            "Requirement already satisfied: fonttools>=4.22.0 in /usr/local/lib/python3.11/dist-packages (from matplotlib>=3.3.0->ultralytics) (4.58.5)\n",
            "Requirement already satisfied: kiwisolver>=1.3.1 in /usr/local/lib/python3.11/dist-packages (from matplotlib>=3.3.0->ultralytics) (1.4.8)\n",
            "Requirement already satisfied: packaging>=20.0 in /usr/local/lib/python3.11/dist-packages (from matplotlib>=3.3.0->ultralytics) (25.0)\n",
            "Requirement already satisfied: pyparsing>=2.3.1 in /usr/local/lib/python3.11/dist-packages (from matplotlib>=3.3.0->ultralytics) (3.2.3)\n",
            "Requirement already satisfied: python-dateutil>=2.7 in /usr/local/lib/python3.11/dist-packages (from matplotlib>=3.3.0->ultralytics) (2.9.0.post0)\n",
            "Requirement already satisfied: pytz>=2020.1 in /usr/local/lib/python3.11/dist-packages (from pandas>=1.1.4->ultralytics) (2025.2)\n",
            "Requirement already satisfied: tzdata>=2022.7 in /usr/local/lib/python3.11/dist-packages (from pandas>=1.1.4->ultralytics) (2025.2)\n",
            "Requirement already satisfied: charset-normalizer<4,>=2 in /usr/local/lib/python3.11/dist-packages (from requests>=2.23.0->ultralytics) (3.4.2)\n",
            "Requirement already satisfied: idna<4,>=2.5 in /usr/local/lib/python3.11/dist-packages (from requests>=2.23.0->ultralytics) (3.7)\n",
            "Requirement already satisfied: urllib3<3,>=1.21.1 in /usr/local/lib/python3.11/dist-packages (from requests>=2.23.0->ultralytics) (2.4.0)\n",
            "Requirement already satisfied: certifi>=2017.4.17 in /usr/local/lib/python3.11/dist-packages (from requests>=2.23.0->ultralytics) (2025.7.14)\n",
            "Requirement already satisfied: filelock in /usr/local/lib/python3.11/dist-packages (from torch>=1.8.0->ultralytics) (3.18.0)\n",
            "Requirement already satisfied: typing-extensions>=4.10.0 in /usr/local/lib/python3.11/dist-packages (from torch>=1.8.0->ultralytics) (4.14.1)\n",
            "Requirement already satisfied: networkx in /usr/local/lib/python3.11/dist-packages (from torch>=1.8.0->ultralytics) (3.5)\n",
            "Requirement already satisfied: jinja2 in /usr/local/lib/python3.11/dist-packages (from torch>=1.8.0->ultralytics) (3.1.6)\n",
            "Requirement already satisfied: fsspec in /usr/local/lib/python3.11/dist-packages (from torch>=1.8.0->ultralytics) (2025.3.2)\n",
            "Collecting nvidia-cuda-nvrtc-cu12==12.4.127 (from torch>=1.8.0->ultralytics)\n",
            "  Downloading nvidia_cuda_nvrtc_cu12-12.4.127-py3-none-manylinux2014_x86_64.whl.metadata (1.5 kB)\n",
            "Collecting nvidia-cuda-runtime-cu12==12.4.127 (from torch>=1.8.0->ultralytics)\n",
            "  Downloading nvidia_cuda_runtime_cu12-12.4.127-py3-none-manylinux2014_x86_64.whl.metadata (1.5 kB)\n",
            "Collecting nvidia-cuda-cupti-cu12==12.4.127 (from torch>=1.8.0->ultralytics)\n",
            "  Downloading nvidia_cuda_cupti_cu12-12.4.127-py3-none-manylinux2014_x86_64.whl.metadata (1.6 kB)\n",
            "Collecting nvidia-cudnn-cu12==9.1.0.70 (from torch>=1.8.0->ultralytics)\n",
            "  Downloading nvidia_cudnn_cu12-9.1.0.70-py3-none-manylinux2014_x86_64.whl.metadata (1.6 kB)\n",
            "Collecting nvidia-cublas-cu12==12.4.5.8 (from torch>=1.8.0->ultralytics)\n",
            "  Downloading nvidia_cublas_cu12-12.4.5.8-py3-none-manylinux2014_x86_64.whl.metadata (1.5 kB)\n",
            "Collecting nvidia-cufft-cu12==11.2.1.3 (from torch>=1.8.0->ultralytics)\n",
            "  Downloading nvidia_cufft_cu12-11.2.1.3-py3-none-manylinux2014_x86_64.whl.metadata (1.5 kB)\n",
            "Collecting nvidia-curand-cu12==10.3.5.147 (from torch>=1.8.0->ultralytics)\n",
            "  Downloading nvidia_curand_cu12-10.3.5.147-py3-none-manylinux2014_x86_64.whl.metadata (1.5 kB)\n",
            "Collecting nvidia-cusolver-cu12==11.6.1.9 (from torch>=1.8.0->ultralytics)\n",
            "  Downloading nvidia_cusolver_cu12-11.6.1.9-py3-none-manylinux2014_x86_64.whl.metadata (1.6 kB)\n",
            "Collecting nvidia-cusparse-cu12==12.3.1.170 (from torch>=1.8.0->ultralytics)\n",
            "  Downloading nvidia_cusparse_cu12-12.3.1.170-py3-none-manylinux2014_x86_64.whl.metadata (1.6 kB)\n",
            "Requirement already satisfied: nvidia-cusparselt-cu12==0.6.2 in /usr/local/lib/python3.11/dist-packages (from torch>=1.8.0->ultralytics) (0.6.2)\n",
            "Requirement already satisfied: nvidia-nccl-cu12==2.21.5 in /usr/local/lib/python3.11/dist-packages (from torch>=1.8.0->ultralytics) (2.21.5)\n",
            "Requirement already satisfied: nvidia-nvtx-cu12==12.4.127 in /usr/local/lib/python3.11/dist-packages (from torch>=1.8.0->ultralytics) (12.4.127)\n",
            "Collecting nvidia-nvjitlink-cu12==12.4.127 (from torch>=1.8.0->ultralytics)\n",
            "  Downloading nvidia_nvjitlink_cu12-12.4.127-py3-none-manylinux2014_x86_64.whl.metadata (1.5 kB)\n",
            "Requirement already satisfied: triton==3.2.0 in /usr/local/lib/python3.11/dist-packages (from torch>=1.8.0->ultralytics) (3.2.0)\n",
            "Requirement already satisfied: sympy==1.13.1 in /usr/local/lib/python3.11/dist-packages (from torch>=1.8.0->ultralytics) (1.13.1)\n",
            "Requirement already satisfied: mpmath<1.4,>=1.1.0 in /usr/local/lib/python3.11/dist-packages (from sympy==1.13.1->torch>=1.8.0->ultralytics) (1.3.0)\n",
            "Requirement already satisfied: six>=1.5 in /usr/local/lib/python3.11/dist-packages (from python-dateutil>=2.7->matplotlib>=3.3.0->ultralytics) (1.17.0)\n",
            "Requirement already satisfied: MarkupSafe>=2.0 in /usr/local/lib/python3.11/dist-packages (from jinja2->torch>=1.8.0->ultralytics) (3.0.2)\n",
            "Downloading ultralytics-8.3.168-py3-none-any.whl (1.0 MB)\n",
            "\u001b[2K   \u001b[90m━━━━━━━━━━━━━━━━━━━━━━━━━━━━━━━━━━━━━━━━\u001b[0m \u001b[32m1.0/1.0 MB\u001b[0m \u001b[31m40.6 MB/s\u001b[0m eta \u001b[36m0:00:00\u001b[0m\n",
            "\u001b[?25hDownloading nvidia_cublas_cu12-12.4.5.8-py3-none-manylinux2014_x86_64.whl (363.4 MB)\n",
            "\u001b[2K   \u001b[90m━━━━━━━━━━━━━━━━━━━━━━━━━━━━━━━━━━━━━━━━\u001b[0m \u001b[32m363.4/363.4 MB\u001b[0m \u001b[31m3.1 MB/s\u001b[0m eta \u001b[36m0:00:00\u001b[0m\n",
            "\u001b[?25hDownloading nvidia_cuda_cupti_cu12-12.4.127-py3-none-manylinux2014_x86_64.whl (13.8 MB)\n",
            "\u001b[2K   \u001b[90m━━━━━━━━━━━━━━━━━━━━━━━━━━━━━━━━━━━━━━━━\u001b[0m \u001b[32m13.8/13.8 MB\u001b[0m \u001b[31m123.9 MB/s\u001b[0m eta \u001b[36m0:00:00\u001b[0m\n",
            "\u001b[?25hDownloading nvidia_cuda_nvrtc_cu12-12.4.127-py3-none-manylinux2014_x86_64.whl (24.6 MB)\n",
            "\u001b[2K   \u001b[90m━━━━━━━━━━━━━━━━━━━━━━━━━━━━━━━━━━━━━━━━\u001b[0m \u001b[32m24.6/24.6 MB\u001b[0m \u001b[31m99.6 MB/s\u001b[0m eta \u001b[36m0:00:00\u001b[0m\n",
            "\u001b[?25hDownloading nvidia_cuda_runtime_cu12-12.4.127-py3-none-manylinux2014_x86_64.whl (883 kB)\n",
            "\u001b[2K   \u001b[90m━━━━━━━━━━━━━━━━━━━━━━━━━━━━━━━━━━━━━━━━\u001b[0m \u001b[32m883.7/883.7 kB\u001b[0m \u001b[31m57.1 MB/s\u001b[0m eta \u001b[36m0:00:00\u001b[0m\n",
            "\u001b[?25hDownloading nvidia_cudnn_cu12-9.1.0.70-py3-none-manylinux2014_x86_64.whl (664.8 MB)\n",
            "\u001b[2K   \u001b[90m━━━━━━━━━━━━━━━━━━━━━━━━━━━━━━━━━━━━━━━━\u001b[0m \u001b[32m664.8/664.8 MB\u001b[0m \u001b[31m2.8 MB/s\u001b[0m eta \u001b[36m0:00:00\u001b[0m\n",
            "\u001b[?25hDownloading nvidia_cufft_cu12-11.2.1.3-py3-none-manylinux2014_x86_64.whl (211.5 MB)\n",
            "\u001b[2K   \u001b[90m━━━━━━━━━━━━━━━━━━━━━━━━━━━━━━━━━━━━━━━━\u001b[0m \u001b[32m211.5/211.5 MB\u001b[0m \u001b[31m5.1 MB/s\u001b[0m eta \u001b[36m0:00:00\u001b[0m\n",
            "\u001b[?25hDownloading nvidia_curand_cu12-10.3.5.147-py3-none-manylinux2014_x86_64.whl (56.3 MB)\n",
            "\u001b[2K   \u001b[90m━━━━━━━━━━━━━━━━━━━━━━━━━━━━━━━━━━━━━━━━\u001b[0m \u001b[32m56.3/56.3 MB\u001b[0m \u001b[31m12.4 MB/s\u001b[0m eta \u001b[36m0:00:00\u001b[0m\n",
            "\u001b[?25hDownloading nvidia_cusolver_cu12-11.6.1.9-py3-none-manylinux2014_x86_64.whl (127.9 MB)\n",
            "\u001b[2K   \u001b[90m━━━━━━━━━━━━━━━━━━━━━━━━━━━━━━━━━━━━━━━━\u001b[0m \u001b[32m127.9/127.9 MB\u001b[0m \u001b[31m7.6 MB/s\u001b[0m eta \u001b[36m0:00:00\u001b[0m\n",
            "\u001b[?25hDownloading nvidia_cusparse_cu12-12.3.1.170-py3-none-manylinux2014_x86_64.whl (207.5 MB)\n",
            "\u001b[2K   \u001b[90m━━━━━━━━━━━━━━━━━━━━━━━━━━━━━━━━━━━━━━━━\u001b[0m \u001b[32m207.5/207.5 MB\u001b[0m \u001b[31m5.5 MB/s\u001b[0m eta \u001b[36m0:00:00\u001b[0m\n",
            "\u001b[?25hDownloading nvidia_nvjitlink_cu12-12.4.127-py3-none-manylinux2014_x86_64.whl (21.1 MB)\n",
            "\u001b[2K   \u001b[90m━━━━━━━━━━━━━━━━━━━━━━━━━━━━━━━━━━━━━━━━\u001b[0m \u001b[32m21.1/21.1 MB\u001b[0m \u001b[31m111.7 MB/s\u001b[0m eta \u001b[36m0:00:00\u001b[0m\n",
            "\u001b[?25hDownloading ultralytics_thop-2.0.14-py3-none-any.whl (26 kB)\n",
            "Installing collected packages: nvidia-nvjitlink-cu12, nvidia-curand-cu12, nvidia-cufft-cu12, nvidia-cuda-runtime-cu12, nvidia-cuda-nvrtc-cu12, nvidia-cuda-cupti-cu12, nvidia-cublas-cu12, nvidia-cusparse-cu12, nvidia-cudnn-cu12, nvidia-cusolver-cu12, ultralytics-thop, ultralytics\n",
            "  Attempting uninstall: nvidia-nvjitlink-cu12\n",
            "    Found existing installation: nvidia-nvjitlink-cu12 12.5.82\n",
            "    Uninstalling nvidia-nvjitlink-cu12-12.5.82:\n",
            "      Successfully uninstalled nvidia-nvjitlink-cu12-12.5.82\n",
            "  Attempting uninstall: nvidia-curand-cu12\n",
            "    Found existing installation: nvidia-curand-cu12 10.3.6.82\n",
            "    Uninstalling nvidia-curand-cu12-10.3.6.82:\n",
            "      Successfully uninstalled nvidia-curand-cu12-10.3.6.82\n",
            "  Attempting uninstall: nvidia-cufft-cu12\n",
            "    Found existing installation: nvidia-cufft-cu12 11.2.3.61\n",
            "    Uninstalling nvidia-cufft-cu12-11.2.3.61:\n",
            "      Successfully uninstalled nvidia-cufft-cu12-11.2.3.61\n",
            "  Attempting uninstall: nvidia-cuda-runtime-cu12\n",
            "    Found existing installation: nvidia-cuda-runtime-cu12 12.5.82\n",
            "    Uninstalling nvidia-cuda-runtime-cu12-12.5.82:\n",
            "      Successfully uninstalled nvidia-cuda-runtime-cu12-12.5.82\n",
            "  Attempting uninstall: nvidia-cuda-nvrtc-cu12\n",
            "    Found existing installation: nvidia-cuda-nvrtc-cu12 12.5.82\n",
            "    Uninstalling nvidia-cuda-nvrtc-cu12-12.5.82:\n",
            "      Successfully uninstalled nvidia-cuda-nvrtc-cu12-12.5.82\n",
            "  Attempting uninstall: nvidia-cuda-cupti-cu12\n",
            "    Found existing installation: nvidia-cuda-cupti-cu12 12.5.82\n",
            "    Uninstalling nvidia-cuda-cupti-cu12-12.5.82:\n",
            "      Successfully uninstalled nvidia-cuda-cupti-cu12-12.5.82\n",
            "  Attempting uninstall: nvidia-cublas-cu12\n",
            "    Found existing installation: nvidia-cublas-cu12 12.5.3.2\n",
            "    Uninstalling nvidia-cublas-cu12-12.5.3.2:\n",
            "      Successfully uninstalled nvidia-cublas-cu12-12.5.3.2\n",
            "  Attempting uninstall: nvidia-cusparse-cu12\n",
            "    Found existing installation: nvidia-cusparse-cu12 12.5.1.3\n",
            "    Uninstalling nvidia-cusparse-cu12-12.5.1.3:\n",
            "      Successfully uninstalled nvidia-cusparse-cu12-12.5.1.3\n",
            "  Attempting uninstall: nvidia-cudnn-cu12\n",
            "    Found existing installation: nvidia-cudnn-cu12 9.3.0.75\n",
            "    Uninstalling nvidia-cudnn-cu12-9.3.0.75:\n",
            "      Successfully uninstalled nvidia-cudnn-cu12-9.3.0.75\n",
            "  Attempting uninstall: nvidia-cusolver-cu12\n",
            "    Found existing installation: nvidia-cusolver-cu12 11.6.3.83\n",
            "    Uninstalling nvidia-cusolver-cu12-11.6.3.83:\n",
            "      Successfully uninstalled nvidia-cusolver-cu12-11.6.3.83\n",
            "Successfully installed nvidia-cublas-cu12-12.4.5.8 nvidia-cuda-cupti-cu12-12.4.127 nvidia-cuda-nvrtc-cu12-12.4.127 nvidia-cuda-runtime-cu12-12.4.127 nvidia-cudnn-cu12-9.1.0.70 nvidia-cufft-cu12-11.2.1.3 nvidia-curand-cu12-10.3.5.147 nvidia-cusolver-cu12-11.6.1.9 nvidia-cusparse-cu12-12.3.1.170 nvidia-nvjitlink-cu12-12.4.127 ultralytics-8.3.168 ultralytics-thop-2.0.14\n"
          ]
        }
      ]
    },
    {
      "cell_type": "code",
      "source": [
        "import torch\n",
        "\n",
        "print(\"CUDA Available:\", torch.cuda.is_available())\n",
        "print(\"GPU Name:\", torch.cuda.get_device_name(0) if torch.cuda.is_available() else \"No GPU\")\n"
      ],
      "metadata": {
        "colab": {
          "base_uri": "https://localhost:8080/"
        },
        "id": "RIZn6yZm9pi7",
        "outputId": "6cd34897-8ea1-4c3d-c133-4398fdc6a557"
      },
      "execution_count": null,
      "outputs": [
        {
          "output_type": "stream",
          "name": "stdout",
          "text": [
            "CUDA Available: True\n",
            "GPU Name: Tesla T4\n"
          ]
        }
      ]
    },
    {
      "cell_type": "code",
      "source": [
        "pip install torch torchvision torchaudio --index-url https://download.pytorch.org/whl/cu118"
      ],
      "metadata": {
        "colab": {
          "base_uri": "https://localhost:8080/"
        },
        "id": "suzgSChQ-Gud",
        "outputId": "dd728191-8cb0-4979-8d71-c8b670cb94d8"
      },
      "execution_count": null,
      "outputs": [
        {
          "output_type": "stream",
          "name": "stdout",
          "text": [
            "Looking in indexes: https://download.pytorch.org/whl/cu118\n",
            "Requirement already satisfied: torch in /usr/local/lib/python3.11/dist-packages (2.6.0+cu124)\n",
            "Requirement already satisfied: torchvision in /usr/local/lib/python3.11/dist-packages (0.21.0+cu124)\n",
            "Requirement already satisfied: torchaudio in /usr/local/lib/python3.11/dist-packages (2.6.0+cu124)\n",
            "Requirement already satisfied: filelock in /usr/local/lib/python3.11/dist-packages (from torch) (3.18.0)\n",
            "Requirement already satisfied: typing-extensions>=4.10.0 in /usr/local/lib/python3.11/dist-packages (from torch) (4.14.1)\n",
            "Requirement already satisfied: networkx in /usr/local/lib/python3.11/dist-packages (from torch) (3.5)\n",
            "Requirement already satisfied: jinja2 in /usr/local/lib/python3.11/dist-packages (from torch) (3.1.6)\n",
            "Requirement already satisfied: fsspec in /usr/local/lib/python3.11/dist-packages (from torch) (2025.3.2)\n",
            "Requirement already satisfied: nvidia-cuda-nvrtc-cu12==12.4.127 in /usr/local/lib/python3.11/dist-packages (from torch) (12.4.127)\n",
            "Requirement already satisfied: nvidia-cuda-runtime-cu12==12.4.127 in /usr/local/lib/python3.11/dist-packages (from torch) (12.4.127)\n",
            "Requirement already satisfied: nvidia-cuda-cupti-cu12==12.4.127 in /usr/local/lib/python3.11/dist-packages (from torch) (12.4.127)\n",
            "Requirement already satisfied: nvidia-cudnn-cu12==9.1.0.70 in /usr/local/lib/python3.11/dist-packages (from torch) (9.1.0.70)\n",
            "Requirement already satisfied: nvidia-cublas-cu12==12.4.5.8 in /usr/local/lib/python3.11/dist-packages (from torch) (12.4.5.8)\n",
            "Requirement already satisfied: nvidia-cufft-cu12==11.2.1.3 in /usr/local/lib/python3.11/dist-packages (from torch) (11.2.1.3)\n",
            "Requirement already satisfied: nvidia-curand-cu12==10.3.5.147 in /usr/local/lib/python3.11/dist-packages (from torch) (10.3.5.147)\n",
            "Requirement already satisfied: nvidia-cusolver-cu12==11.6.1.9 in /usr/local/lib/python3.11/dist-packages (from torch) (11.6.1.9)\n",
            "Requirement already satisfied: nvidia-cusparse-cu12==12.3.1.170 in /usr/local/lib/python3.11/dist-packages (from torch) (12.3.1.170)\n",
            "Requirement already satisfied: nvidia-cusparselt-cu12==0.6.2 in /usr/local/lib/python3.11/dist-packages (from torch) (0.6.2)\n",
            "Requirement already satisfied: nvidia-nccl-cu12==2.21.5 in /usr/local/lib/python3.11/dist-packages (from torch) (2.21.5)\n",
            "Requirement already satisfied: nvidia-nvtx-cu12==12.4.127 in /usr/local/lib/python3.11/dist-packages (from torch) (12.4.127)\n",
            "Requirement already satisfied: nvidia-nvjitlink-cu12==12.4.127 in /usr/local/lib/python3.11/dist-packages (from torch) (12.4.127)\n",
            "Requirement already satisfied: triton==3.2.0 in /usr/local/lib/python3.11/dist-packages (from torch) (3.2.0)\n",
            "Requirement already satisfied: sympy==1.13.1 in /usr/local/lib/python3.11/dist-packages (from torch) (1.13.1)\n",
            "Requirement already satisfied: mpmath<1.4,>=1.1.0 in /usr/local/lib/python3.11/dist-packages (from sympy==1.13.1->torch) (1.3.0)\n",
            "Requirement already satisfied: numpy in /usr/local/lib/python3.11/dist-packages (from torchvision) (2.0.2)\n",
            "Requirement already satisfied: pillow!=8.3.*,>=5.3.0 in /usr/local/lib/python3.11/dist-packages (from torchvision) (11.2.1)\n",
            "Requirement already satisfied: MarkupSafe>=2.0 in /usr/local/lib/python3.11/dist-packages (from jinja2->torch) (3.0.2)\n"
          ]
        }
      ]
    },
    {
      "cell_type": "code",
      "source": [
        "from ultralytics import YOLO\n",
        "\n",
        "model = YOLO(\"yolov8n.pt\")\n",
        "results = model.train(\n",
        "    data='Tomato-Leaf-Disease-Detection-6/data.yaml',\n",
        "    epochs=1,        # Faster for testing\n",
        "    batch=8,         # Reasonable batch size for T4\n",
        "    imgsz=416        # Smaller image size = faster training\n",
        ")\n"
      ],
      "metadata": {
        "colab": {
          "base_uri": "https://localhost:8080/"
        },
        "id": "EnuZ6TKR-_0t",
        "outputId": "e29c7549-e182-4c0a-bef5-c8fcb94201f4"
      },
      "execution_count": null,
      "outputs": [
        {
          "output_type": "stream",
          "name": "stdout",
          "text": [
            "Creating new Ultralytics Settings v0.0.6 file ✅ \n",
            "View Ultralytics Settings with 'yolo settings' or at '/root/.config/Ultralytics/settings.json'\n",
            "Update Settings with 'yolo settings key=value', i.e. 'yolo settings runs_dir=path/to/dir'. For help see https://docs.ultralytics.com/quickstart/#ultralytics-settings.\n",
            "Downloading https://github.com/ultralytics/assets/releases/download/v8.3.0/yolov8n.pt to 'yolov8n.pt'...\n"
          ]
        },
        {
          "output_type": "stream",
          "name": "stderr",
          "text": [
            "100%|██████████| 6.25M/6.25M [00:00<00:00, 361MB/s]"
          ]
        },
        {
          "output_type": "stream",
          "name": "stdout",
          "text": [
            "Ultralytics 8.3.168 🚀 Python-3.11.13 torch-2.6.0+cu124 CUDA:0 (Tesla T4, 15095MiB)\n"
          ]
        },
        {
          "output_type": "stream",
          "name": "stderr",
          "text": [
            "\n"
          ]
        },
        {
          "output_type": "stream",
          "name": "stdout",
          "text": [
            "\u001b[34m\u001b[1mengine/trainer: \u001b[0magnostic_nms=False, amp=True, augment=False, auto_augment=randaugment, batch=8, bgr=0.0, box=7.5, cache=False, cfg=None, classes=None, close_mosaic=10, cls=0.5, conf=None, copy_paste=0.0, copy_paste_mode=flip, cos_lr=False, cutmix=0.0, data=Tomato-Leaf-Disease-Detection-6/data.yaml, degrees=0.0, deterministic=True, device=None, dfl=1.5, dnn=False, dropout=0.0, dynamic=False, embed=None, epochs=1, erasing=0.4, exist_ok=False, fliplr=0.5, flipud=0.0, format=torchscript, fraction=1.0, freeze=None, half=False, hsv_h=0.015, hsv_s=0.7, hsv_v=0.4, imgsz=416, int8=False, iou=0.7, keras=False, kobj=1.0, line_width=None, lr0=0.01, lrf=0.01, mask_ratio=4, max_det=300, mixup=0.0, mode=train, model=yolov8n.pt, momentum=0.937, mosaic=1.0, multi_scale=False, name=train, nbs=64, nms=False, opset=None, optimize=False, optimizer=auto, overlap_mask=True, patience=100, perspective=0.0, plots=True, pose=12.0, pretrained=True, profile=False, project=None, rect=False, resume=False, retina_masks=False, save=True, save_conf=False, save_crop=False, save_dir=runs/detect/train, save_frames=False, save_json=False, save_period=-1, save_txt=False, scale=0.5, seed=0, shear=0.0, show=False, show_boxes=True, show_conf=True, show_labels=True, simplify=True, single_cls=False, source=None, split=val, stream_buffer=False, task=detect, time=None, tracker=botsort.yaml, translate=0.1, val=True, verbose=True, vid_stride=1, visualize=False, warmup_bias_lr=0.1, warmup_epochs=3.0, warmup_momentum=0.8, weight_decay=0.0005, workers=8, workspace=None\n",
            "Downloading https://ultralytics.com/assets/Arial.ttf to '/root/.config/Ultralytics/Arial.ttf'...\n"
          ]
        },
        {
          "output_type": "stream",
          "name": "stderr",
          "text": [
            "100%|██████████| 755k/755k [00:00<00:00, 104MB/s]"
          ]
        },
        {
          "output_type": "stream",
          "name": "stdout",
          "text": [
            "Overriding model.yaml nc=80 with nc=9\n",
            "\n",
            "                   from  n    params  module                                       arguments                     \n",
            "  0                  -1  1       464  ultralytics.nn.modules.conv.Conv             [3, 16, 3, 2]                 \n",
            "  1                  -1  1      4672  ultralytics.nn.modules.conv.Conv             [16, 32, 3, 2]                \n",
            "  2                  -1  1      7360  ultralytics.nn.modules.block.C2f             [32, 32, 1, True]             \n",
            "  3                  -1  1     18560  ultralytics.nn.modules.conv.Conv             [32, 64, 3, 2]                \n",
            "  4                  -1  2     49664  ultralytics.nn.modules.block.C2f             [64, 64, 2, True]             \n",
            "  5                  -1  1     73984  ultralytics.nn.modules.conv.Conv             [64, 128, 3, 2]               \n",
            "  6                  -1  2    197632  ultralytics.nn.modules.block.C2f             [128, 128, 2, True]           \n",
            "  7                  -1  1    295424  ultralytics.nn.modules.conv.Conv             [128, 256, 3, 2]              \n",
            "  8                  -1  1    460288  ultralytics.nn.modules.block.C2f             [256, 256, 1, True]           \n",
            "  9                  -1  1    164608  ultralytics.nn.modules.block.SPPF            [256, 256, 5]                 \n",
            " 10                  -1  1         0  torch.nn.modules.upsampling.Upsample         [None, 2, 'nearest']          \n",
            " 11             [-1, 6]  1         0  ultralytics.nn.modules.conv.Concat           [1]                           \n",
            " 12                  -1  1    148224  ultralytics.nn.modules.block.C2f             [384, 128, 1]                 \n",
            " 13                  -1  1         0  torch.nn.modules.upsampling.Upsample         [None, 2, 'nearest']          \n",
            " 14             [-1, 4]  1         0  ultralytics.nn.modules.conv.Concat           [1]                           \n",
            " 15                  -1  1     37248  ultralytics.nn.modules.block.C2f             [192, 64, 1]                  \n",
            " 16                  -1  1     36992  ultralytics.nn.modules.conv.Conv             [64, 64, 3, 2]                \n",
            " 17            [-1, 12]  1         0  ultralytics.nn.modules.conv.Concat           [1]                           \n",
            " 18                  -1  1    123648  ultralytics.nn.modules.block.C2f             [192, 128, 1]                 \n",
            " 19                  -1  1    147712  ultralytics.nn.modules.conv.Conv             [128, 128, 3, 2]              \n",
            " 20             [-1, 9]  1         0  ultralytics.nn.modules.conv.Concat           [1]                           \n",
            " 21                  -1  1    493056  ultralytics.nn.modules.block.C2f             [384, 256, 1]                 \n",
            " 22        [15, 18, 21]  1    753067  ultralytics.nn.modules.head.Detect           [9, [64, 128, 256]]           \n"
          ]
        },
        {
          "output_type": "stream",
          "name": "stderr",
          "text": [
            "\n"
          ]
        },
        {
          "output_type": "stream",
          "name": "stdout",
          "text": [
            "Model summary: 129 layers, 3,012,603 parameters, 3,012,587 gradients, 8.2 GFLOPs\n",
            "\n",
            "Transferred 319/355 items from pretrained weights\n",
            "Freezing layer 'model.22.dfl.conv.weight'\n",
            "\u001b[34m\u001b[1mAMP: \u001b[0mrunning Automatic Mixed Precision (AMP) checks...\n",
            "Downloading https://github.com/ultralytics/assets/releases/download/v8.3.0/yolo11n.pt to 'yolo11n.pt'...\n"
          ]
        },
        {
          "output_type": "stream",
          "name": "stderr",
          "text": [
            "100%|██████████| 5.35M/5.35M [00:00<00:00, 133MB/s]\n"
          ]
        },
        {
          "output_type": "stream",
          "name": "stdout",
          "text": [
            "\u001b[34m\u001b[1mAMP: \u001b[0mchecks passed ✅\n",
            "\u001b[34m\u001b[1mtrain: \u001b[0mFast image access ✅ (ping: 0.0±0.0 ms, read: 30.8±6.0 MB/s, size: 66.7 KB)\n"
          ]
        },
        {
          "output_type": "stream",
          "name": "stderr",
          "text": [
            "\u001b[34m\u001b[1mtrain: \u001b[0mScanning /content/Tomato-Leaf-Disease-Detection-6/train/labels... 9249 images, 3 backgrounds, 0 corrupt: 100%|██████████| 9249/9249 [00:17<00:00, 542.49it/s]\n"
          ]
        },
        {
          "output_type": "stream",
          "name": "stdout",
          "text": [
            "\u001b[34m\u001b[1mtrain: \u001b[0mNew cache created: /content/Tomato-Leaf-Disease-Detection-6/train/labels.cache\n",
            "\u001b[34m\u001b[1malbumentations: \u001b[0mBlur(p=0.01, blur_limit=(3, 7)), MedianBlur(p=0.01, blur_limit=(3, 7)), ToGray(p=0.01, method='weighted_average', num_output_channels=3), CLAHE(p=0.01, clip_limit=(1.0, 4.0), tile_grid_size=(8, 8))\n",
            "\u001b[34m\u001b[1mval: \u001b[0mFast image access ✅ (ping: 0.0±0.0 ms, read: 30.1±13.3 MB/s, size: 75.6 KB)\n"
          ]
        },
        {
          "output_type": "stream",
          "name": "stderr",
          "text": [
            "\u001b[34m\u001b[1mval: \u001b[0mScanning /content/Tomato-Leaf-Disease-Detection-6/valid/labels... 896 images, 0 backgrounds, 0 corrupt: 100%|██████████| 896/896 [00:01<00:00, 513.46it/s]"
          ]
        },
        {
          "output_type": "stream",
          "name": "stdout",
          "text": [
            "\u001b[34m\u001b[1mval: \u001b[0mNew cache created: /content/Tomato-Leaf-Disease-Detection-6/valid/labels.cache\n"
          ]
        },
        {
          "output_type": "stream",
          "name": "stderr",
          "text": [
            "\n"
          ]
        },
        {
          "output_type": "stream",
          "name": "stdout",
          "text": [
            "Plotting labels to runs/detect/train/labels.jpg... \n",
            "\u001b[34m\u001b[1moptimizer:\u001b[0m 'optimizer=auto' found, ignoring 'lr0=0.01' and 'momentum=0.937' and determining best 'optimizer', 'lr0' and 'momentum' automatically... \n",
            "\u001b[34m\u001b[1moptimizer:\u001b[0m AdamW(lr=0.000769, momentum=0.9) with parameter groups 57 weight(decay=0.0), 64 weight(decay=0.0005), 63 bias(decay=0.0)\n",
            "Image sizes 416 train, 416 val\n",
            "Using 2 dataloader workers\n",
            "Logging results to \u001b[1mruns/detect/train\u001b[0m\n",
            "Starting training for 1 epochs...\n",
            "\n",
            "      Epoch    GPU_mem   box_loss   cls_loss   dfl_loss  Instances       Size\n"
          ]
        },
        {
          "output_type": "stream",
          "name": "stderr",
          "text": [
            "        1/1     0.592G     0.9648      2.319      1.221          9        416: 100%|██████████| 1157/1157 [02:27<00:00,  7.86it/s]\n",
            "                 Class     Images  Instances      Box(P          R      mAP50  mAP50-95): 100%|██████████| 56/56 [00:10<00:00,  5.48it/s]\n"
          ]
        },
        {
          "output_type": "stream",
          "name": "stdout",
          "text": [
            "                   all        896       2858       0.71      0.678      0.755      0.641\n",
            "\n",
            "1 epochs completed in 0.045 hours.\n",
            "Optimizer stripped from runs/detect/train/weights/last.pt, 6.2MB\n",
            "Optimizer stripped from runs/detect/train/weights/best.pt, 6.2MB\n",
            "\n",
            "Validating runs/detect/train/weights/best.pt...\n",
            "Ultralytics 8.3.168 🚀 Python-3.11.13 torch-2.6.0+cu124 CUDA:0 (Tesla T4, 15095MiB)\n",
            "Model summary (fused): 72 layers, 3,007,403 parameters, 0 gradients, 8.1 GFLOPs\n"
          ]
        },
        {
          "output_type": "stream",
          "name": "stderr",
          "text": [
            "                 Class     Images  Instances      Box(P          R      mAP50  mAP50-95): 100%|██████████| 56/56 [00:07<00:00,  7.10it/s]\n"
          ]
        },
        {
          "output_type": "stream",
          "name": "stdout",
          "text": [
            "                   all        896       2858      0.714      0.677      0.755      0.641\n",
            "          Early Blight        211        251      0.491      0.622      0.635      0.569\n",
            "               Healthy         73        273      0.476       0.71      0.608      0.472\n",
            "           Late Blight        245        354      0.952      0.666      0.877      0.757\n",
            "            Leaf Miner        203        257      0.425      0.946      0.848      0.705\n",
            "             Leaf Mold        221        361      0.762      0.595      0.729      0.619\n",
            "          Mosaic Virus        290        367      0.916      0.869      0.912      0.797\n",
            "              Septoria        236        369      0.894      0.616      0.822      0.719\n",
            "          Spider Mites        154        292      0.937      0.356      0.654       0.56\n",
            "Yellow Leaf Curl Virus        170        334       0.57       0.71      0.711      0.571\n",
            "Speed: 0.2ms preprocess, 1.7ms inference, 0.0ms loss, 2.0ms postprocess per image\n",
            "Results saved to \u001b[1mruns/detect/train\u001b[0m\n"
          ]
        }
      ]
    },
    {
      "cell_type": "code",
      "source": [
        " model = YOLO(\"runs/detect/train/weights/best.pt\")\n",
        "\n",
        "results=model.predict(source=\"/content/Tomato-Leaf-Disease-Detection-6/test/images\", save=True ,stream=True)\n",
        "\n",
        "for result in results:\n",
        "  pass\n"
      ],
      "metadata": {
        "id": "wr9A2xtB-_xS",
        "colab": {
          "base_uri": "https://localhost:8080/"
        },
        "outputId": "82b45d95-47f6-47c9-f46f-a2c3ad7608f3"
      },
      "execution_count": null,
      "outputs": [
        {
          "output_type": "stream",
          "name": "stdout",
          "text": [
            "\n",
            "image 1/449 /content/Tomato-Leaf-Disease-Detection-6/test/images/039b47d574bc4bb8a14259a1cd96a741_jpg.rf.11bb045ef094ce208b2def4d8fa4f196.jpg: 416x416 1 Early Blight, 1 Leaf Miner, 11.8ms\n",
            "image 2/449 /content/Tomato-Leaf-Disease-Detection-6/test/images/151b36defa8ccfe2fd90f4a342affd5a-tobacco-mosaic-virus-the-two_jpg.rf.e424f435b2fdc5358b1f3fde9788814d.jpg: 416x416 7 Healthys, 1 Leaf Miner, 1 Leaf Mold, 13.2ms\n",
            "image 3/449 /content/Tomato-Leaf-Disease-Detection-6/test/images/1c6727083428411181e9b58b4778c6b7_jpg.rf.b1c7fde2e0152c84aebff255a8930771.jpg: 416x416 1 Leaf Miner, 13.6ms\n",
            "image 4/449 /content/Tomato-Leaf-Disease-Detection-6/test/images/1cee26b4-0ba1-4371-8c7e-c641e6ca311d___PSU_CG-2283_JPG.rf.c0e1f4b7196fedcca9dfda36a699112a.jpg: 416x416 1 Mosaic Virus, 11.9ms\n",
            "image 5/449 /content/Tomato-Leaf-Disease-Detection-6/test/images/1d89d788-438c-4cee-9403-6fd8ac9863de___PSU_CG-2254_JPG.rf.8c4bfd5aac6d4f17526e2bfd0c0250de.jpg: 416x416 1 Mosaic Virus, 13.4ms\n",
            "image 6/449 /content/Tomato-Leaf-Disease-Detection-6/test/images/306808_20210913_2_2_b6_3_2_12_1_12_jpg.rf.ba746bb2cbea7a6bb0f4849c3e29be65.jpg: 416x416 2 Leaf Miners, 13.1ms\n",
            "image 7/449 /content/Tomato-Leaf-Disease-Detection-6/test/images/310195_20210914_2_2_b6_3_2_12_1_37_jpg.rf.bc470733ff6750424a01c27555e1a66f.jpg: 416x416 2 Leaf Miners, 6.6ms\n",
            "image 8/449 /content/Tomato-Leaf-Disease-Detection-6/test/images/3b0a3f5d-ff2c-4c7b-a8b9-71d8daa6dd4f___PSU_CG-2097_JPG.rf.689e64e20712426c7f1f66d9fc27e518.jpg: 416x416 1 Mosaic Virus, 6.6ms\n",
            "image 9/449 /content/Tomato-Leaf-Disease-Detection-6/test/images/5086-early_jpg.rf.cca7b170016c3427cb43a2a01ac5a5d2.jpg: 416x416 1 Leaf Miner, 6.7ms\n",
            "image 10/449 /content/Tomato-Leaf-Disease-Detection-6/test/images/581b7a7290918-image_jpg.rf.1c65a1488945d9a7bed02f9e423b9b65.jpg: 416x416 2 Leaf Miners, 2 Septorias, 3 Yellow Leaf Curl Viruss, 13.2ms\n",
            "image 11/449 /content/Tomato-Leaf-Disease-Detection-6/test/images/Early-Blight-809-_JPG.rf.3609cf14ed6fce6a770fe0aca7378f66.jpg: 416x416 1 Early Blight, 11.4ms\n",
            "image 12/449 /content/Tomato-Leaf-Disease-Detection-6/test/images/Early-Blight-830-_JPG.rf.bef0df3bd3583380d2aed595f2c5af4c.jpg: 416x416 1 Early Blight, 12.5ms\n",
            "image 13/449 /content/Tomato-Leaf-Disease-Detection-6/test/images/Early-Blight-851-_JPG.rf.4bdc7f32449a855aeb43eee0dfd0b3c1.jpg: 416x416 1 Early Blight, 1 Yellow Leaf Curl Virus, 11.6ms\n",
            "image 14/449 /content/Tomato-Leaf-Disease-Detection-6/test/images/Early-Blight-870-_JPG.rf.93182c4df87e0b80cbc7b843a7a24555.jpg: 416x416 1 Early Blight, 13.7ms\n",
            "image 15/449 /content/Tomato-Leaf-Disease-Detection-6/test/images/Early-Blight-872-_JPG.rf.fc8b0f54abf44897d20fa3d48da6265c.jpg: 416x416 2 Early Blights, 12.2ms\n",
            "image 16/449 /content/Tomato-Leaf-Disease-Detection-6/test/images/Early-Blight-922-_JPG.rf.68b5649a90b7d7f96d48ef426425aba1.jpg: 416x416 1 Early Blight, 16.5ms\n",
            "image 17/449 /content/Tomato-Leaf-Disease-Detection-6/test/images/IMG_20221123_122905_7_jpg.rf.a779a368d3d4e16409b5488b5e573290.jpg: 416x416 5 Healthys, 4 Leaf Miners, 12.2ms\n",
            "image 18/449 /content/Tomato-Leaf-Disease-Detection-6/test/images/Lb68_JPG.rf.8956dce8ce670a6dea9066f7097385d6.jpg: 416x416 1 Early Blight, 1 Late Blight, 11.7ms\n",
            "image 19/449 /content/Tomato-Leaf-Disease-Detection-6/test/images/Leaf-Miner-16-_jpg.rf.f3e926283581dd971f63a4b7dd966891.jpg: 416x416 2 Leaf Miners, 11.4ms\n",
            "image 20/449 /content/Tomato-Leaf-Disease-Detection-6/test/images/Leaf-Miner-31-_jpg.rf.044fc4c7899eab5ceaece1f75add0762.jpg: 416x416 2 Healthys, 4 Leaf Miners, 12.0ms\n",
            "image 21/449 /content/Tomato-Leaf-Disease-Detection-6/test/images/Leaf-mold-tomato-25282-2529_JPG_jpg.rf.94a8f6f9ebb14c0e65998a22f904f949.jpg: 416x416 8 Healthys, 5 Leaf Miners, 1 Leaf Mold, 1 Mosaic Virus, 13.2ms\n",
            "image 22/449 /content/Tomato-Leaf-Disease-Detection-6/test/images/Leaf_Blight-1-_jpg.rf.91be556018160c4d7613877aca51f11e.jpg: 416x416 2 Leaf Miners, 14.8ms\n",
            "image 23/449 /content/Tomato-Leaf-Disease-Detection-6/test/images/Leaf_Blight-27-_jpg.rf.ec9f64db8c4a69a44d737dc5d641e633.jpg: 416x416 2 Leaf Miners, 11.2ms\n",
            "image 24/449 /content/Tomato-Leaf-Disease-Detection-6/test/images/Leaf_Blight-59-_jpg.rf.8fb8962a044cf2be88fa4a3592d371e9.jpg: 416x416 1 Early Blight, 1 Leaf Miner, 22.6ms\n",
            "image 25/449 /content/Tomato-Leaf-Disease-Detection-6/test/images/Mosaic-Virus-13-_JPG.rf.5feadfedadb24dfc566526d7e8b4e8d4.jpg: 416x416 1 Mosaic Virus, 1 Spider Mites, 12.5ms\n",
            "image 26/449 /content/Tomato-Leaf-Disease-Detection-6/test/images/Mosaic-Virus-182-_JPG.rf.766adb016a050eb78a3ca68a58838fa7.jpg: 416x416 1 Mosaic Virus, 12.3ms\n",
            "image 27/449 /content/Tomato-Leaf-Disease-Detection-6/test/images/Mosaic-Virus-243-_JPG.rf.0044b0cc5e235794e62b56fda54ee7b4.jpg: 416x416 1 Mosaic Virus, 12.3ms\n",
            "image 28/449 /content/Tomato-Leaf-Disease-Detection-6/test/images/Mosaic-Virus-247-_JPG.rf.cfad44d14b57bad46b78a18246e36d85.jpg: 416x416 1 Mosaic Virus, 12.7ms\n",
            "image 29/449 /content/Tomato-Leaf-Disease-Detection-6/test/images/Mosaic-Virus-78-_JPG.rf.c07a5b28efa49f1b4e8f91707fa958c3.jpg: 416x416 2 Leaf Molds, 1 Mosaic Virus, 11.5ms\n",
            "image 30/449 /content/Tomato-Leaf-Disease-Detection-6/test/images/Mosaic-Virus-83-_JPG.rf.41adc2480bbf1bd32a1c03efcc57005f.jpg: 416x416 2 Mosaic Viruss, 12.2ms\n",
            "image 31/449 /content/Tomato-Leaf-Disease-Detection-6/test/images/Screenshot-208-_png.rf.64597425c40a9055f0ea4a8caaae4c95.jpg: 416x416 2 Healthys, 1 Leaf Miner, 12.4ms\n",
            "image 32/449 /content/Tomato-Leaf-Disease-Detection-6/test/images/Shoemaker_7068_JPG_jpg.rf.b3e166d3ddb1d5070d4f7a3d2b26fb3d.jpg: 416x416 1 Early Blight, 1 Leaf Miner, 12.9ms\n",
            "image 33/449 /content/Tomato-Leaf-Disease-Detection-6/test/images/Tomato-leaf-48-transformed_jpeg.rf.0832acafdea3c651c3a335d55a60b744.jpg: 416x416 15 Healthys, 1 Leaf Miner, 10.9ms\n",
            "image 34/449 /content/Tomato-Leaf-Disease-Detection-6/test/images/V001_tom1_36_083_a4_00_20210908_01_00102717_38102607_png_jpg.rf.82d531d663d5547f171be90b7951320b.jpg: 416x416 17 Healthys, 11.2ms\n",
            "image 35/449 /content/Tomato-Leaf-Disease-Detection-6/test/images/V001_tom1_36_098_a4_00_20210908_01_00082624_40158887_png_jpg.rf.9460e0b54dae80b2f3446c49dafd6182.jpg: 416x416 18 Healthys, 14.5ms\n",
            "image 36/449 /content/Tomato-Leaf-Disease-Detection-6/test/images/V001_tom1_39_012_a4_00_20210930_14_00122437_49122255_png_jpg.rf.c63828a27e17ef56f469c5f19cd65a97.jpg: 416x416 20 Healthys, 17.8ms\n",
            "image 37/449 /content/Tomato-Leaf-Disease-Detection-6/test/images/V001_tom1_39_014_a4_00_20210930_14_00121053_49122255_png_jpg.rf.8e22e093e40f0d2edd8c827272598229.jpg: 416x416 21 Healthys, 12.4ms\n",
            "image 38/449 /content/Tomato-Leaf-Disease-Detection-6/test/images/V006_77_1_18_11_03_13_2_9008w_20200921_12_jpg.rf.2a2479e7a52a686b0e636abb5331961c.jpg: 416x416 1 Leaf Mold, 11.1ms\n",
            "image 39/449 /content/Tomato-Leaf-Disease-Detection-6/test/images/V006_77_1_18_11_03_13_2_9605w_20200925_44_jpg.rf.7a5b68b96f836f47f253fdc9f4c5383b.jpg: 416x416 20 Healthys, 5 Leaf Miners, 13.9ms\n",
            "image 40/449 /content/Tomato-Leaf-Disease-Detection-6/test/images/V006_77_1_18_11_03_13_3_3467b_20201027_47_jpg.rf.d36109565bd2e0c273cbce1ad3630b00.jpg: 416x416 1 Leaf Miner, 1 Leaf Mold, 37.5ms\n",
            "image 41/449 /content/Tomato-Leaf-Disease-Detection-6/test/images/V006_77_1_18_11_03_13_3_9720w_20201012_72_jpg.rf.9ec1130ca69d80e86d57508f042a44c9.jpg: 416x416 19 Healthys, 1 Leaf Miner, 1 Mosaic Virus, 2 Yellow Leaf Curl Viruss, 11.5ms\n",
            "image 42/449 /content/Tomato-Leaf-Disease-Detection-6/test/images/V006_79_0_00_07_03_12_0_c02_20201013_0032_S01_1_JPG_jpg.rf.faaf04983f001ecebe41335373515e4d.jpg: 416x416 3 Healthys, 1 Leaf Miner, 11.3ms\n",
            "image 43/449 /content/Tomato-Leaf-Disease-Detection-6/test/images/V006_79_0_00_07_03_12_0_c16_20201103_0000_S01_1_JPG_jpg.rf.2d7bce2734a52883d8712530112ececd.jpg: 416x416 6 Healthys, 2 Leaf Miners, 11.0ms\n",
            "image 44/449 /content/Tomato-Leaf-Disease-Detection-6/test/images/V006_79_0_00_07_03_12_0_c16_20201111_0013_S01_1_JPG_jpg.rf.e8478b4a3d7b22646699a38e56b812ea.jpg: 416x416 1 Healthy, 1 Leaf Miner, 11.0ms\n",
            "image 45/449 /content/Tomato-Leaf-Disease-Detection-6/test/images/Worm-104_jpg.rf.9891d370470f21aaabd5a3802f4a0916.jpg: 416x416 2 Leaf Miners, 9.8ms\n",
            "image 46/449 /content/Tomato-Leaf-Disease-Detection-6/test/images/Worm-109_jpg.rf.df12d54ac1ca9ef1e7fc00bc254a3670.jpg: 416x416 2 Leaf Miners, 11.0ms\n",
            "image 47/449 /content/Tomato-Leaf-Disease-Detection-6/test/images/Worm-11_jpg.rf.31e30bac0cad83aadaead02fc7c4ece4.jpg: 416x416 3 Leaf Miners, 11.8ms\n",
            "image 48/449 /content/Tomato-Leaf-Disease-Detection-6/test/images/Worm-14_jpg.rf.9149d73cb5cb518807a67f2c4a3a4024.jpg: 416x416 3 Leaf Miners, 12.3ms\n",
            "image 49/449 /content/Tomato-Leaf-Disease-Detection-6/test/images/Worm-20_jpg.rf.69b8d3928c78edecdaa371ebe86f235c.jpg: 416x416 2 Leaf Miners, 10.2ms\n",
            "image 50/449 /content/Tomato-Leaf-Disease-Detection-6/test/images/Worm-29_jpg.rf.1a01344f0020985b861f5d24a509056f.jpg: 416x416 3 Leaf Miners, 12.5ms\n",
            "image 51/449 /content/Tomato-Leaf-Disease-Detection-6/test/images/Worm-36_jpg.rf.396848996a4d267bf751ebbf08dcae87.jpg: 416x416 2 Leaf Miners, 12.5ms\n",
            "image 52/449 /content/Tomato-Leaf-Disease-Detection-6/test/images/Worm-40_jpg.rf.b5a9c0f201f449e9cdd8051e110cc9ec.jpg: 416x416 1 Leaf Miner, 11.3ms\n",
            "image 53/449 /content/Tomato-Leaf-Disease-Detection-6/test/images/Worm-45_jpg.rf.cfe884a4ae02c8a0a5b736cb01535897.jpg: 416x416 4 Leaf Miners, 11.8ms\n",
            "image 54/449 /content/Tomato-Leaf-Disease-Detection-6/test/images/Worm-53_jpg.rf.1315b73d4ec15024b400967c676f7895.jpg: 416x416 2 Leaf Miners, 9.1ms\n",
            "image 55/449 /content/Tomato-Leaf-Disease-Detection-6/test/images/Worm-67_jpg.rf.4a2b70b1d14b065c39f8ed242aacdad0.jpg: 416x416 9 Leaf Miners, 32.0ms\n",
            "image 56/449 /content/Tomato-Leaf-Disease-Detection-6/test/images/Worm-82_jpg.rf.995b2b633995687753868867aff01291.jpg: 416x416 1 Leaf Miner, 11.7ms\n",
            "image 57/449 /content/Tomato-Leaf-Disease-Detection-6/test/images/b3a52d4eda0deedc34260c4dee847a5b_jpg.rf.b158bf01188ea299342d90aca1d4279f.jpg: 416x416 1 Early Blight, 11.0ms\n",
            "image 58/449 /content/Tomato-Leaf-Disease-Detection-6/test/images/collage_1039_jpg.rf.bb4b08017753fac904a33527a480dad3.jpg: 416x416 2 Leaf Miners, 2 Leaf Molds, 1 Mosaic Virus, 1 Septoria, 15.1ms\n",
            "image 59/449 /content/Tomato-Leaf-Disease-Detection-6/test/images/collage_1040_jpg.rf.40cea5bf07baa909840582478c082b49.jpg: 416x416 2 Early Blights, 1 Mosaic Virus, 1 Septoria, 10.6ms\n",
            "image 60/449 /content/Tomato-Leaf-Disease-Detection-6/test/images/collage_1046_jpg.rf.76cbdb1851fb24c7d69c387c3d0a8054.jpg: 416x416 1 Late Blight, 3 Leaf Molds, 1 Mosaic Virus, 1 Septoria, 27.3ms\n",
            "image 61/449 /content/Tomato-Leaf-Disease-Detection-6/test/images/collage_1047_jpg.rf.13d3771dd055fe62a4ea32703709d7c3.jpg: 416x416 2 Leaf Molds, 1 Mosaic Virus, 1 Septoria, 1 Yellow Leaf Curl Virus, 18.2ms\n",
            "image 62/449 /content/Tomato-Leaf-Disease-Detection-6/test/images/collage_1048_jpg.rf.c654368d4b254e25ec6c88b98e686104.jpg: 416x416 1 Early Blight, 2 Leaf Miners, 1 Mosaic Virus, 1 Septoria, 10.7ms\n",
            "image 63/449 /content/Tomato-Leaf-Disease-Detection-6/test/images/collage_1049_jpg.rf.88041d7aa1c3fa8f4924b4f5e7e5e622.jpg: 416x416 1 Late Blight, 1 Mosaic Virus, 2 Spider Mitess, 1 Yellow Leaf Curl Virus, 11.3ms\n",
            "image 64/449 /content/Tomato-Leaf-Disease-Detection-6/test/images/collage_1054_jpg.rf.58eacb8a27e83bcbe6f8c56af36c3c62.jpg: 416x416 1 Late Blight, 1 Leaf Miner, 1 Leaf Mold, 1 Mosaic Virus, 10.6ms\n",
            "image 65/449 /content/Tomato-Leaf-Disease-Detection-6/test/images/collage_1056_jpg.rf.84f1752e1feb5b31069b962428037186.jpg: 416x416 1 Early Blight, 1 Late Blight, 2 Mosaic Viruss, 1 Septoria, 2 Yellow Leaf Curl Viruss, 10.9ms\n",
            "image 66/449 /content/Tomato-Leaf-Disease-Detection-6/test/images/collage_1058_jpg.rf.3b81b858eced118250da1c1fcc8536f9.jpg: 416x416 3 Early Blights, 1 Healthy, 1 Late Blight, 2 Leaf Molds, 1 Mosaic Virus, 1 Septoria, 15.3ms\n",
            "image 67/449 /content/Tomato-Leaf-Disease-Detection-6/test/images/collage_1061_jpg.rf.e3931ced17a8e6f9716df41ce6f87bdd.jpg: 416x416 1 Late Blight, 2 Leaf Molds, 2 Yellow Leaf Curl Viruss, 11.9ms\n",
            "image 68/449 /content/Tomato-Leaf-Disease-Detection-6/test/images/collage_1063_jpg.rf.69be7a6d777d7a8e2bda19769c06355f.jpg: 416x416 1 Early Blight, 1 Late Blight, 1 Leaf Mold, 2 Septorias, 9.2ms\n",
            "image 69/449 /content/Tomato-Leaf-Disease-Detection-6/test/images/collage_1065_jpg.rf.eee9db660b3509b1518a6703c43dc46f.jpg: 416x416 2 Septorias, 4 Yellow Leaf Curl Viruss, 10.8ms\n",
            "image 70/449 /content/Tomato-Leaf-Disease-Detection-6/test/images/collage_1067_jpg.rf.00a98e8ec182c105795ea277178ab543.jpg: 416x416 3 Early Blights, 1 Late Blight, 1 Mosaic Virus, 12.3ms\n",
            "image 71/449 /content/Tomato-Leaf-Disease-Detection-6/test/images/collage_1068_jpg.rf.6059f9101db04273216a2914b6ce56ce.jpg: 416x416 1 Mosaic Virus, 1 Septoria, 3 Yellow Leaf Curl Viruss, 10.7ms\n",
            "image 72/449 /content/Tomato-Leaf-Disease-Detection-6/test/images/collage_1070_jpg.rf.950a0b9cac745d1550395beb4222e6e5.jpg: 416x416 1 Early Blight, 4 Late Blights, 20.9ms\n",
            "image 73/449 /content/Tomato-Leaf-Disease-Detection-6/test/images/collage_1071_jpg.rf.2bd0aeabe10f79a376be87689d1a38bf.jpg: 416x416 1 Early Blight, 2 Leaf Molds, 1 Septoria, 2 Spider Mitess, 1 Yellow Leaf Curl Virus, 20.2ms\n",
            "image 74/449 /content/Tomato-Leaf-Disease-Detection-6/test/images/collage_1074_jpg.rf.102cb5a6fb79ff0660ab7fb1151cb765.jpg: 416x416 2 Late Blights, 1 Leaf Mold, 1 Septoria, 10.3ms\n",
            "image 75/449 /content/Tomato-Leaf-Disease-Detection-6/test/images/collage_1075_jpg.rf.69a96fab16b50141827d719e237e4e8a.jpg: 416x416 2 Early Blights, 1 Leaf Miner, 1 Mosaic Virus, 1 Septoria, 14.9ms\n",
            "image 76/449 /content/Tomato-Leaf-Disease-Detection-6/test/images/collage_1076_jpg.rf.32bdbf919484e2ca54bbe52473700af2.jpg: 416x416 2 Early Blights, 1 Late Blight, 1 Leaf Mold, 11.6ms\n",
            "image 77/449 /content/Tomato-Leaf-Disease-Detection-6/test/images/collage_1077_jpg.rf.dfeb5a774a66dcb0e71facf115a038a9.jpg: 416x416 1 Early Blight, 1 Late Blight, 2 Leaf Miners, 2 Septorias, 1 Spider Mites, 10.1ms\n",
            "image 78/449 /content/Tomato-Leaf-Disease-Detection-6/test/images/collage_1078_jpg.rf.8404895261aebafea4877b3a564c08c6.jpg: 416x416 1 Early Blight, 1 Late Blight, 3 Yellow Leaf Curl Viruss, 18.6ms\n",
            "image 79/449 /content/Tomato-Leaf-Disease-Detection-6/test/images/collage_1079_jpg.rf.11a06fe7b36ed3a84186b1200ff4ff17.jpg: 416x416 1 Healthy, 9 Leaf Miners, 4 Septorias, 10.3ms\n",
            "image 80/449 /content/Tomato-Leaf-Disease-Detection-6/test/images/collage_1080_jpg.rf.f986c391f17bd380cf01dc8332c32203.jpg: 416x416 1 Early Blight, 1 Leaf Mold, 2 Mosaic Viruss, 1 Yellow Leaf Curl Virus, 11.9ms\n",
            "image 81/449 /content/Tomato-Leaf-Disease-Detection-6/test/images/collage_1081_jpg.rf.1c582e363938483ddb7ec8fe039825ca.jpg: 416x416 1 Early Blight, 2 Septorias, 1 Yellow Leaf Curl Virus, 14.8ms\n",
            "image 82/449 /content/Tomato-Leaf-Disease-Detection-6/test/images/collage_1082_jpg.rf.6a857d454738d4adef81ebbf415da2ef.jpg: 416x416 2 Early Blights, 1 Leaf Mold, 1 Mosaic Virus, 22.1ms\n",
            "image 83/449 /content/Tomato-Leaf-Disease-Detection-6/test/images/collage_1083_jpg.rf.a331e305621ccbd5a21bb1d17b1783d4.jpg: 416x416 2 Leaf Molds, 1 Mosaic Virus, 1 Septoria, 2 Spider Mitess, 2 Yellow Leaf Curl Viruss, 15.8ms\n",
            "image 84/449 /content/Tomato-Leaf-Disease-Detection-6/test/images/collage_1084_jpg.rf.c00c94b2dabfec5657b4f771316eeffe.jpg: 416x416 2 Early Blights, 2 Late Blights, 2 Yellow Leaf Curl Viruss, 12.5ms\n",
            "image 85/449 /content/Tomato-Leaf-Disease-Detection-6/test/images/collage_1085_jpg.rf.226881808aa16bb09cdb7f48a6c4c3f5.jpg: 416x416 1 Early Blight, 2 Septorias, 1 Yellow Leaf Curl Virus, 10.6ms\n",
            "image 86/449 /content/Tomato-Leaf-Disease-Detection-6/test/images/collage_1086_jpg.rf.4ee5531d3479ab18bbff3e92c4f96ed7.jpg: 416x416 2 Early Blights, 2 Late Blights, 1 Leaf Mold, 1 Yellow Leaf Curl Virus, 10.6ms\n",
            "image 87/449 /content/Tomato-Leaf-Disease-Detection-6/test/images/collage_1087_jpg.rf.d2b8eb8bc9d5b4ba8ddb6dc351a7b4f0.jpg: 416x416 1 Healthy, 2 Late Blights, 1 Leaf Mold, 1 Mosaic Virus, 1 Septoria, 10.9ms\n",
            "image 88/449 /content/Tomato-Leaf-Disease-Detection-6/test/images/collage_1088_jpg.rf.8ed239a25f494f45496f42b7e5089039.jpg: 416x416 1 Early Blight, 1 Leaf Mold, 3 Mosaic Viruss, 10.2ms\n",
            "image 89/449 /content/Tomato-Leaf-Disease-Detection-6/test/images/collage_1089_jpg.rf.629de791e581d7c439127e7e0555d982.jpg: 416x416 1 Leaf Mold, 3 Septorias, 1 Spider Mites, 1 Yellow Leaf Curl Virus, 11.3ms\n",
            "image 90/449 /content/Tomato-Leaf-Disease-Detection-6/test/images/collage_108_jpg.rf.bca37f5ab370ae3fdb8a3f29277a7468.jpg: 416x416 1 Early Blight, 2 Leaf Miners, 1 Spider Mites, 29.9ms\n",
            "image 91/449 /content/Tomato-Leaf-Disease-Detection-6/test/images/collage_1090_jpg.rf.16eba688148ba4b7325a55f09a01dc94.jpg: 416x416 2 Late Blights, 1 Leaf Mold, 1 Spider Mites, 25.7ms\n",
            "image 92/449 /content/Tomato-Leaf-Disease-Detection-6/test/images/collage_1091_jpg.rf.348cf96212280fbb76d519b76cbe94ff.jpg: 416x416 1 Healthy, 1 Leaf Miner, 2 Leaf Molds, 2 Septorias, 1 Yellow Leaf Curl Virus, 36.4ms\n",
            "image 93/449 /content/Tomato-Leaf-Disease-Detection-6/test/images/collage_1092_jpg.rf.b208b1f76842c5e350c91b5957a7bcd4.jpg: 416x416 2 Early Blights, 1 Late Blight, 1 Mosaic Virus, 15.8ms\n",
            "image 94/449 /content/Tomato-Leaf-Disease-Detection-6/test/images/collage_1093_jpg.rf.09a840b8f36cf7c5e73e85a267ab2a20.jpg: 416x416 1 Leaf Miner, 1 Leaf Mold, 1 Spider Mites, 1 Yellow Leaf Curl Virus, 20.5ms\n",
            "image 95/449 /content/Tomato-Leaf-Disease-Detection-6/test/images/collage_1094_jpg.rf.ad040dca2fcb0df3498054642c70c578.jpg: 416x416 1 Early Blight, 2 Septorias, 1 Spider Mites, 1 Yellow Leaf Curl Virus, 22.4ms\n",
            "image 96/449 /content/Tomato-Leaf-Disease-Detection-6/test/images/collage_1095_jpg.rf.5d8bd0214d6bdee3f222a3fe72c52830.jpg: 416x416 1 Late Blight, 2 Mosaic Viruss, 1 Septoria, 1 Yellow Leaf Curl Virus, 35.3ms\n",
            "image 97/449 /content/Tomato-Leaf-Disease-Detection-6/test/images/collage_1096_jpg.rf.a2265940465a14ce8903747b6053106c.jpg: 416x416 1 Mosaic Virus, 2 Septorias, 1 Yellow Leaf Curl Virus, 24.7ms\n",
            "image 98/449 /content/Tomato-Leaf-Disease-Detection-6/test/images/collage_1097_jpg.rf.c7c6f9e6a1b9a39571b4a73f03a1a5a1.jpg: 416x416 1 Late Blight, 1 Leaf Miner, 2 Leaf Molds, 28.0ms\n",
            "image 99/449 /content/Tomato-Leaf-Disease-Detection-6/test/images/collage_1098_jpg.rf.38642dc24e5ee16f728551ceb18394e6.jpg: 416x416 1 Late Blight, 1 Leaf Mold, 1 Mosaic Virus, 1 Yellow Leaf Curl Virus, 23.6ms\n",
            "image 100/449 /content/Tomato-Leaf-Disease-Detection-6/test/images/collage_1099_jpg.rf.a8a89c9a526df870bde5518c1381deb4.jpg: 416x416 1 Early Blight, 2 Late Blights, 2 Leaf Molds, 23.8ms\n",
            "image 101/449 /content/Tomato-Leaf-Disease-Detection-6/test/images/collage_109_jpg.rf.130b868eba70cdd9347657ab721f9870.jpg: 416x416 3 Early Blights, 2 Late Blights, 1 Mosaic Virus, 35.1ms\n",
            "image 102/449 /content/Tomato-Leaf-Disease-Detection-6/test/images/collage_1100_jpg.rf.7410d21bb43305190809f4bc9f9cad48.jpg: 416x416 2 Early Blights, 1 Healthy, 1 Late Blight, 2 Leaf Miners, 1 Leaf Mold, 1 Spider Mites, 1 Yellow Leaf Curl Virus, 11.6ms\n",
            "image 103/449 /content/Tomato-Leaf-Disease-Detection-6/test/images/collage_1101_jpg.rf.523946b7d9a4048a328663d9ae986bc7.jpg: 416x416 1 Early Blight, 1 Leaf Miner, 1 Leaf Mold, 1 Mosaic Virus, 1 Septoria, 10.4ms\n",
            "image 104/449 /content/Tomato-Leaf-Disease-Detection-6/test/images/collage_1102_jpg.rf.689986d5f0ba7f83fde81bf03ee875cb.jpg: 416x416 1 Early Blight, 1 Late Blight, 1 Leaf Miner, 2 Yellow Leaf Curl Viruss, 11.2ms\n",
            "image 105/449 /content/Tomato-Leaf-Disease-Detection-6/test/images/collage_1103_jpg.rf.fa9f780f57d0179484e3c33d43427fc8.jpg: 416x416 1 Early Blight, 2 Late Blights, 1 Spider Mites, 1 Yellow Leaf Curl Virus, 16.8ms\n",
            "image 106/449 /content/Tomato-Leaf-Disease-Detection-6/test/images/collage_1104_jpg.rf.68d97061a5f9f1248fbb52fb420caa52.jpg: 416x416 2 Early Blights, 2 Leaf Miners, 1 Mosaic Virus, 1 Septoria, 26.0ms\n",
            "image 107/449 /content/Tomato-Leaf-Disease-Detection-6/test/images/collage_1105_jpg.rf.df6195217a4abaacf40a62aff6534ec1.jpg: 416x416 1 Late Blight, 1 Leaf Miner, 1 Mosaic Virus, 1 Septoria, 10.7ms\n",
            "image 108/449 /content/Tomato-Leaf-Disease-Detection-6/test/images/collage_1106_jpg.rf.7259e889307acea6161907f760174d6d.jpg: 416x416 1 Early Blight, 1 Late Blight, 1 Mosaic Virus, 2 Yellow Leaf Curl Viruss, 10.5ms\n",
            "image 109/449 /content/Tomato-Leaf-Disease-Detection-6/test/images/collage_1107_jpg.rf.d073186bce02d099347cab00b8daedce.jpg: 416x416 2 Early Blights, 2 Late Blights, 1 Mosaic Virus, 1 Spider Mites, 1 Yellow Leaf Curl Virus, 22.5ms\n",
            "image 110/449 /content/Tomato-Leaf-Disease-Detection-6/test/images/collage_1108_jpg.rf.b341f3a099e005dc2fc9ac14142961b0.jpg: 416x416 1 Late Blight, 2 Mosaic Viruss, 1 Yellow Leaf Curl Virus, 33.0ms\n",
            "image 111/449 /content/Tomato-Leaf-Disease-Detection-6/test/images/collage_1109_jpg.rf.604b843f49d7dd58159425e1ca5cf8ba.jpg: 416x416 2 Early Blights, 3 Late Blights, 1 Yellow Leaf Curl Virus, 12.7ms\n",
            "image 112/449 /content/Tomato-Leaf-Disease-Detection-6/test/images/collage_110_jpg.rf.edbb148c76b6de5f6e528d1856f9cc13.jpg: 416x416 3 Early Blights, 1 Healthy, 1 Late Blight, 2 Yellow Leaf Curl Viruss, 30.6ms\n",
            "image 113/449 /content/Tomato-Leaf-Disease-Detection-6/test/images/collage_1110_jpg.rf.b7cb62bb9a024bde823c8b76384c7ce9.jpg: 416x416 1 Late Blight, 2 Leaf Miners, 1 Leaf Mold, 1 Mosaic Virus, 11.4ms\n",
            "image 114/449 /content/Tomato-Leaf-Disease-Detection-6/test/images/collage_1111_jpg.rf.a730355725af2a3137259b9749def4e8.jpg: 416x416 1 Early Blight, 2 Late Blights, 1 Leaf Mold, 1 Yellow Leaf Curl Virus, 13.7ms\n",
            "image 115/449 /content/Tomato-Leaf-Disease-Detection-6/test/images/collage_1112_jpg.rf.6cad2ef19d94d108b57fe4b43243559c.jpg: 416x416 2 Early Blights, 2 Late Blights, 1 Leaf Miner, 24.5ms\n",
            "image 116/449 /content/Tomato-Leaf-Disease-Detection-6/test/images/collage_1113_jpg.rf.7a56969aca5800c4d41f163b0d252c3b.jpg: 416x416 1 Late Blight, 1 Leaf Mold, 2 Mosaic Viruss, 1 Septoria, 1 Yellow Leaf Curl Virus, 16.0ms\n",
            "image 117/449 /content/Tomato-Leaf-Disease-Detection-6/test/images/collage_1114_jpg.rf.e67b7c014519b6f355a0cd55a9171a01.jpg: 416x416 2 Mosaic Viruss, 2 Septorias, 33.1ms\n",
            "image 118/449 /content/Tomato-Leaf-Disease-Detection-6/test/images/collage_1115_jpg.rf.f19d7a34a487dd6bbc0aaeecf9109c2b.jpg: 416x416 2 Leaf Molds, 1 Mosaic Virus, 3 Yellow Leaf Curl Viruss, 41.7ms\n",
            "image 119/449 /content/Tomato-Leaf-Disease-Detection-6/test/images/collage_1116_jpg.rf.920556ad85763b91a2e7e07af99ddaae.jpg: 416x416 1 Early Blight, 1 Leaf Miner, 1 Mosaic Virus, 1 Yellow Leaf Curl Virus, 23.3ms\n",
            "image 120/449 /content/Tomato-Leaf-Disease-Detection-6/test/images/collage_1117_jpg.rf.7af4728e12781afc658ffc8b8a78da7c.jpg: 416x416 1 Early Blight, 1 Late Blight, 1 Leaf Mold, 1 Mosaic Virus, 1 Spider Mites, 1 Yellow Leaf Curl Virus, 23.5ms\n",
            "image 121/449 /content/Tomato-Leaf-Disease-Detection-6/test/images/collage_1118_jpg.rf.69dbb65ef8272c588c63cf46ef6fb5b0.jpg: 416x416 2 Leaf Molds, 1 Mosaic Virus, 1 Septoria, 18.0ms\n",
            "image 122/449 /content/Tomato-Leaf-Disease-Detection-6/test/images/collage_1119_jpg.rf.df08c44256224eee98740660610206b7.jpg: 416x416 1 Late Blight, 2 Leaf Miners, 1 Mosaic Virus, 1 Septoria, 11.5ms\n",
            "image 123/449 /content/Tomato-Leaf-Disease-Detection-6/test/images/collage_111_jpg.rf.0543c4501f5c7652ceb896bd2a295da6.jpg: 416x416 1 Leaf Miner, 1 Leaf Mold, 1 Mosaic Virus, 1 Spider Mites, 2 Yellow Leaf Curl Viruss, 11.6ms\n",
            "image 124/449 /content/Tomato-Leaf-Disease-Detection-6/test/images/collage_1120_jpg.rf.be8a1c5d1c55df2c5bbbca860efb0016.jpg: 416x416 2 Early Blights, 2 Yellow Leaf Curl Viruss, 11.0ms\n",
            "image 125/449 /content/Tomato-Leaf-Disease-Detection-6/test/images/collage_1121_jpg.rf.203427c60941d99ade210bb0248bacd2.jpg: 416x416 1 Early Blight, 2 Late Blights, 2 Septorias, 1 Yellow Leaf Curl Virus, 11.4ms\n",
            "image 126/449 /content/Tomato-Leaf-Disease-Detection-6/test/images/collage_1122_jpg.rf.71fd7427ff4c6182fb4270a860e7f4ef.jpg: 416x416 1 Early Blight, 1 Leaf Miner, 2 Septorias, 9.0ms\n",
            "image 127/449 /content/Tomato-Leaf-Disease-Detection-6/test/images/collage_1123_jpg.rf.18001b7c76949504ae038c6f63fdf3ba.jpg: 416x416 2 Mosaic Viruss, 2 Yellow Leaf Curl Viruss, 11.9ms\n",
            "image 128/449 /content/Tomato-Leaf-Disease-Detection-6/test/images/collage_1124_jpg.rf.435e41132df5d0e2a01c7ceddb6ed70b.jpg: 416x416 1 Early Blight, 1 Late Blight, 1 Mosaic Virus, 2 Septorias, 11.2ms\n",
            "image 129/449 /content/Tomato-Leaf-Disease-Detection-6/test/images/collage_1125_jpg.rf.16bbc62edb196277bf7ed1a3748aa0d6.jpg: 416x416 2 Mosaic Viruss, 1 Septoria, 1 Spider Mites, 2 Yellow Leaf Curl Viruss, 18.8ms\n",
            "image 130/449 /content/Tomato-Leaf-Disease-Detection-6/test/images/collage_1126_jpg.rf.bfa3efc467fa904e0910d950f2ddb153.jpg: 416x416 1 Early Blight, 1 Leaf Miner, 1 Mosaic Virus, 1 Yellow Leaf Curl Virus, 33.1ms\n",
            "image 131/449 /content/Tomato-Leaf-Disease-Detection-6/test/images/collage_1127_jpg.rf.108ee1a5f983c685c4350e9b24e78eba.jpg: 416x416 1 Late Blight, 1 Leaf Miner, 2 Leaf Molds, 1 Septoria, 11.2ms\n",
            "image 132/449 /content/Tomato-Leaf-Disease-Detection-6/test/images/collage_1128_jpg.rf.50d2e49d662e60c47303fde50fcfa365.jpg: 416x416 1 Late Blight, 1 Leaf Mold, 2 Mosaic Viruss, 2 Septorias, 2 Yellow Leaf Curl Viruss, 12.2ms\n",
            "image 133/449 /content/Tomato-Leaf-Disease-Detection-6/test/images/collage_1129_jpg.rf.d1c1a1377659ebc58ad03f75adfac3a6.jpg: 416x416 1 Septoria, 1 Spider Mites, 4 Yellow Leaf Curl Viruss, 18.1ms\n",
            "image 134/449 /content/Tomato-Leaf-Disease-Detection-6/test/images/collage_112_jpg.rf.ea124d9576790f1cf7b339f8f2b028bf.jpg: 416x416 1 Leaf Miner, 2 Leaf Molds, 1 Yellow Leaf Curl Virus, 14.0ms\n",
            "image 135/449 /content/Tomato-Leaf-Disease-Detection-6/test/images/collage_1130_jpg.rf.f14dae969545cf78f0c9cc0a5d9e4d57.jpg: 416x416 2 Early Blights, 1 Late Blight, 1 Spider Mites, 1 Yellow Leaf Curl Virus, 26.3ms\n",
            "image 136/449 /content/Tomato-Leaf-Disease-Detection-6/test/images/collage_1131_jpg.rf.5d76ec81d66ef16171400191b54b9ff2.jpg: 416x416 1 Early Blight, 1 Mosaic Virus, 2 Yellow Leaf Curl Viruss, 13.0ms\n",
            "image 137/449 /content/Tomato-Leaf-Disease-Detection-6/test/images/collage_1132_jpg.rf.6cf89a4c947ddedd472cef6866ffd7f8.jpg: 416x416 2 Early Blights, 1 Late Blight, 1 Leaf Miner, 1 Leaf Mold, 1 Mosaic Virus, 26.2ms\n",
            "image 138/449 /content/Tomato-Leaf-Disease-Detection-6/test/images/collage_1133_jpg.rf.6ef898da74ee5430a6fe11f9fbbdf4fc.jpg: 416x416 1 Late Blight, 1 Leaf Miner, 1 Mosaic Virus, 1 Septoria, 14.7ms\n",
            "image 139/449 /content/Tomato-Leaf-Disease-Detection-6/test/images/collage_1134_jpg.rf.da156dca9d1b4a2434077800d4790ed6.jpg: 416x416 1 Late Blight, 1 Leaf Mold, 1 Spider Mites, 3 Yellow Leaf Curl Viruss, 69.5ms\n",
            "image 140/449 /content/Tomato-Leaf-Disease-Detection-6/test/images/collage_1135_jpg.rf.fdc2fe7890045ee8ca707f395c80987b.jpg: 416x416 1 Leaf Miner, 1 Leaf Mold, 1 Mosaic Virus, 1 Spider Mites, 1 Yellow Leaf Curl Virus, 32.0ms\n",
            "image 141/449 /content/Tomato-Leaf-Disease-Detection-6/test/images/collage_1136_jpg.rf.21fa09f37114222737cfb0e929d5b67a.jpg: 416x416 3 Leaf Miners, 1 Leaf Mold, 1 Mosaic Virus, 1 Yellow Leaf Curl Virus, 24.8ms\n",
            "image 142/449 /content/Tomato-Leaf-Disease-Detection-6/test/images/collage_1137_jpg.rf.7655dccf226831217038fcf1722e62b8.jpg: 416x416 1 Early Blight, 2 Late Blights, 1 Septoria, 14.7ms\n",
            "image 143/449 /content/Tomato-Leaf-Disease-Detection-6/test/images/collage_1138_jpg.rf.5678982c140bbc2e6eccb7995d6958ae.jpg: 416x416 1 Leaf Mold, 2 Mosaic Viruss, 1 Spider Mites, 10.3ms\n",
            "image 144/449 /content/Tomato-Leaf-Disease-Detection-6/test/images/collage_1139_jpg.rf.ffce5f98bad004139cf61104be69ae8a.jpg: 416x416 2 Leaf Miners, 2 Leaf Molds, 1 Mosaic Virus, 25.7ms\n",
            "image 145/449 /content/Tomato-Leaf-Disease-Detection-6/test/images/collage_113_jpg.rf.5ac5403753936eb769b136dc21d4d75b.jpg: 416x416 1 Early Blight, 2 Late Blights, 1 Leaf Mold, 1 Septoria, 1 Yellow Leaf Curl Virus, 17.6ms\n",
            "image 146/449 /content/Tomato-Leaf-Disease-Detection-6/test/images/collage_1140_jpg.rf.60c0202e3a4a0ea73bbcf29e56d22867.jpg: 416x416 1 Leaf Miner, 1 Mosaic Virus, 1 Spider Mites, 3 Yellow Leaf Curl Viruss, 20.5ms\n",
            "image 147/449 /content/Tomato-Leaf-Disease-Detection-6/test/images/collage_1141_jpg.rf.63ec0b91db7cc2081df5cf179c4683be.jpg: 416x416 1 Leaf Mold, 1 Mosaic Virus, 1 Spider Mites, 3 Yellow Leaf Curl Viruss, 27.7ms\n",
            "image 148/449 /content/Tomato-Leaf-Disease-Detection-6/test/images/collage_1142_jpg.rf.cfdb5ab77ca796523058e64e8bdffdef.jpg: 416x416 1 Early Blight, 1 Healthy, 4 Leaf Miners, 1 Leaf Mold, 27.1ms\n",
            "image 149/449 /content/Tomato-Leaf-Disease-Detection-6/test/images/collage_1143_jpg.rf.c7c1d997a002c86ab46885c4bc940fa3.jpg: 416x416 2 Early Blights, 1 Septoria, 3 Yellow Leaf Curl Viruss, 27.2ms\n",
            "image 150/449 /content/Tomato-Leaf-Disease-Detection-6/test/images/collage_1144_jpg.rf.dd21c74a675b581b9458290d3f31cb86.jpg: 416x416 1 Septoria, 3 Spider Mitess, 2 Yellow Leaf Curl Viruss, 28.5ms\n",
            "image 151/449 /content/Tomato-Leaf-Disease-Detection-6/test/images/collage_1145_jpg.rf.6f71868961e9e370f5adbb76be7a044e.jpg: 416x416 2 Early Blights, 2 Late Blights, 1 Spider Mites, 2 Yellow Leaf Curl Viruss, 37.6ms\n",
            "image 152/449 /content/Tomato-Leaf-Disease-Detection-6/test/images/collage_1146_jpg.rf.d31e677eb5778d94b2cd95aa6fc8f6af.jpg: 416x416 1 Mosaic Virus, 2 Septorias, 2 Spider Mitess, 1 Yellow Leaf Curl Virus, 11.8ms\n",
            "image 153/449 /content/Tomato-Leaf-Disease-Detection-6/test/images/collage_1147_jpg.rf.d17fe6fdcf130ef497b412702a1f8b38.jpg: 416x416 3 Leaf Molds, 2 Mosaic Viruss, 1 Septoria, 1 Yellow Leaf Curl Virus, 20.7ms\n",
            "image 154/449 /content/Tomato-Leaf-Disease-Detection-6/test/images/collage_1148_jpg.rf.7e0b32febcaddb4629fc6be6bf943045.jpg: 416x416 3 Early Blights, 1 Late Blight, 1 Leaf Miner, 1 Leaf Mold, 19.0ms\n",
            "image 155/449 /content/Tomato-Leaf-Disease-Detection-6/test/images/collage_1149_jpg.rf.4837ed161340c44241697b4ccd16fc95.jpg: 416x416 1 Early Blight, 1 Septoria, 3 Yellow Leaf Curl Viruss, 40.0ms\n",
            "image 156/449 /content/Tomato-Leaf-Disease-Detection-6/test/images/collage_114_jpg.rf.1360dfba5f9c3b9e33390a8ccc22808c.jpg: 416x416 3 Early Blights, 2 Late Blights, 1 Leaf Mold, 26.1ms\n",
            "image 157/449 /content/Tomato-Leaf-Disease-Detection-6/test/images/collage_1150_jpg.rf.48083fe4c2f5c7e7a1b655a4b528ea31.jpg: 416x416 1 Late Blight, 2 Leaf Molds, 1 Spider Mites, 1 Yellow Leaf Curl Virus, 31.6ms\n",
            "image 158/449 /content/Tomato-Leaf-Disease-Detection-6/test/images/collage_1151_jpg.rf.f1f690267c349a423585faf53aae1992.jpg: 416x416 1 Mosaic Virus, 2 Septorias, 2 Yellow Leaf Curl Viruss, 20.0ms\n",
            "image 159/449 /content/Tomato-Leaf-Disease-Detection-6/test/images/collage_1152_jpg.rf.fc6babe7ccecc4e27dbdf5b8b7d23028.jpg: 416x416 3 Early Blights, 1 Late Blight, 1 Leaf Mold, 26.3ms\n",
            "image 160/449 /content/Tomato-Leaf-Disease-Detection-6/test/images/collage_1153_jpg.rf.d4e5fddf8818e995c1410793734d992f.jpg: 416x416 2 Late Blights, 2 Leaf Molds, 1 Spider Mites, 1 Yellow Leaf Curl Virus, 16.1ms\n",
            "image 161/449 /content/Tomato-Leaf-Disease-Detection-6/test/images/collage_1154_jpg.rf.82374b21ccc86fcbb282d3a3960dfa54.jpg: 416x416 1 Mosaic Virus, 1 Septoria, 3 Yellow Leaf Curl Viruss, 11.0ms\n",
            "image 162/449 /content/Tomato-Leaf-Disease-Detection-6/test/images/collage_1155_jpg.rf.c66196031da4bdaf882f02f78a486773.jpg: 416x416 1 Early Blight, 1 Leaf Miner, 2 Leaf Molds, 53.3ms\n",
            "image 163/449 /content/Tomato-Leaf-Disease-Detection-6/test/images/collage_1156_jpg.rf.ea004c0ba4235be668c0cae7a4ad5f71.jpg: 416x416 1 Healthy, 1 Late Blight, 2 Leaf Miners, 3 Septorias, 11.5ms\n",
            "image 164/449 /content/Tomato-Leaf-Disease-Detection-6/test/images/collage_1157_jpg.rf.49b009b26b80c75d00eb1cfbd55eeb38.jpg: 416x416 3 Late Blights, 2 Spider Mitess, 2 Yellow Leaf Curl Viruss, 17.3ms\n",
            "image 165/449 /content/Tomato-Leaf-Disease-Detection-6/test/images/collage_1158_jpg.rf.5d27b064fbc58ad052373f0c81439265.jpg: 416x416 2 Late Blights, 2 Yellow Leaf Curl Viruss, 12.9ms\n",
            "image 166/449 /content/Tomato-Leaf-Disease-Detection-6/test/images/collage_1159_jpg.rf.355d8e6e12d8fd3adf8e48e3d661787b.jpg: 416x416 1 Early Blight, 1 Late Blight, 1 Leaf Mold, 4 Yellow Leaf Curl Viruss, 11.2ms\n",
            "image 167/449 /content/Tomato-Leaf-Disease-Detection-6/test/images/collage_115_jpg.rf.77c291ad05da1780eec99bfe67831bda.jpg: 416x416 1 Leaf Mold, 1 Septoria, 1 Spider Mites, 2 Yellow Leaf Curl Viruss, 32.6ms\n",
            "image 168/449 /content/Tomato-Leaf-Disease-Detection-6/test/images/collage_1160_jpg.rf.94d6026e9398914c5310f5751bf9b891.jpg: 416x416 2 Early Blights, 1 Late Blight, 2 Leaf Molds, 1 Spider Mites, 33.4ms\n",
            "image 169/449 /content/Tomato-Leaf-Disease-Detection-6/test/images/collage_1161_jpg.rf.026ddc87ea39c238f77485304260b45b.jpg: 416x416 2 Leaf Miners, 2 Septorias, 19.0ms\n",
            "image 170/449 /content/Tomato-Leaf-Disease-Detection-6/test/images/collage_1162_jpg.rf.200e43976f28fa3443913725e8b518af.jpg: 416x416 1 Leaf Mold, 1 Septoria, 1 Spider Mites, 3 Yellow Leaf Curl Viruss, 48.6ms\n",
            "image 171/449 /content/Tomato-Leaf-Disease-Detection-6/test/images/collage_1163_jpg.rf.20b40f4d6a703a1e75420fda7e5640b1.jpg: 416x416 3 Early Blights, 1 Late Blight, 1 Spider Mites, 51.8ms\n",
            "image 172/449 /content/Tomato-Leaf-Disease-Detection-6/test/images/collage_1164_jpg.rf.2e9e9288c38dec8989ee9768208bf78e.jpg: 416x416 1 Early Blight, 1 Late Blight, 1 Leaf Mold, 2 Septorias, 1 Spider Mites, 1 Yellow Leaf Curl Virus, 47.8ms\n",
            "image 173/449 /content/Tomato-Leaf-Disease-Detection-6/test/images/collage_1165_jpg.rf.a1aa41670e6756c20a08df6b3eca0e6b.jpg: 416x416 1 Mosaic Virus, 2 Septorias, 1 Spider Mites, 48.0ms\n",
            "image 174/449 /content/Tomato-Leaf-Disease-Detection-6/test/images/collage_1166_jpg.rf.daffd352dc49a16cbc86d9db552801d5.jpg: 416x416 1 Early Blight, 1 Late Blight, 1 Leaf Miner, 1 Mosaic Virus, 40.5ms\n",
            "image 175/449 /content/Tomato-Leaf-Disease-Detection-6/test/images/collage_1167_jpg.rf.4fa6b31c136a2c11ae5e937f4aed07eb.jpg: 416x416 1 Early Blight, 1 Late Blight, 1 Leaf Miner, 1 Mosaic Virus, 1 Septoria, 1 Yellow Leaf Curl Virus, 59.7ms\n",
            "image 176/449 /content/Tomato-Leaf-Disease-Detection-6/test/images/collage_1168_jpg.rf.ce8af01008ea7652322c42c4a37575a9.jpg: 416x416 1 Early Blight, 1 Late Blight, 3 Leaf Miners, 1 Septoria, 1 Yellow Leaf Curl Virus, 54.4ms\n",
            "image 177/449 /content/Tomato-Leaf-Disease-Detection-6/test/images/collage_1169_jpg.rf.3df72a4ce3c1fbbfc1b9012282513f6e.jpg: 416x416 2 Leaf Molds, 1 Mosaic Virus, 1 Yellow Leaf Curl Virus, 16.5ms\n",
            "image 178/449 /content/Tomato-Leaf-Disease-Detection-6/test/images/collage_116_jpg.rf.59e652022af845470f22d3515f78be6a.jpg: 416x416 2 Early Blights, 1 Mosaic Virus, 1 Spider Mites, 1 Yellow Leaf Curl Virus, 18.1ms\n",
            "image 179/449 /content/Tomato-Leaf-Disease-Detection-6/test/images/collage_1170_jpg.rf.7efd9821dd0e614c05ccba263ba170b6.jpg: 416x416 3 Leaf Molds, 1 Yellow Leaf Curl Virus, 24.4ms\n",
            "image 180/449 /content/Tomato-Leaf-Disease-Detection-6/test/images/collage_1171_jpg.rf.9be45ab17cfbd2c2daa99b701b870c86.jpg: 416x416 1 Leaf Miner, 1 Leaf Mold, 2 Mosaic Viruss, 2 Yellow Leaf Curl Viruss, 26.5ms\n",
            "image 181/449 /content/Tomato-Leaf-Disease-Detection-6/test/images/collage_1172_jpg.rf.d2cb1f50b0b6db9fbdc493b5d7b92488.jpg: 416x416 1 Early Blight, 1 Mosaic Virus, 1 Spider Mites, 3 Yellow Leaf Curl Viruss, 16.2ms\n",
            "image 182/449 /content/Tomato-Leaf-Disease-Detection-6/test/images/collage_1173_jpg.rf.c8b3d1dcc20702a11f5cc3eeb174632d.jpg: 416x416 1 Early Blight, 1 Leaf Mold, 2 Spider Mitess, 1 Yellow Leaf Curl Virus, 24.8ms\n",
            "image 183/449 /content/Tomato-Leaf-Disease-Detection-6/test/images/collage_1174_jpg.rf.4a2c22e2cfa22f292f790cc75b59b91e.jpg: 416x416 1 Early Blight, 2 Late Blights, 2 Septorias, 108.4ms\n",
            "image 184/449 /content/Tomato-Leaf-Disease-Detection-6/test/images/collage_1175_jpg.rf.39163ba1ed04c4d16ba6f0cc72caa77e.jpg: 416x416 2 Late Blights, 1 Leaf Mold, 1 Septoria, 26.7ms\n",
            "image 185/449 /content/Tomato-Leaf-Disease-Detection-6/test/images/collage_1176_jpg.rf.32d7cad2cb35f664662b7517959c36f7.jpg: 416x416 1 Leaf Mold, 3 Mosaic Viruss, 1 Septoria, 37.3ms\n",
            "image 186/449 /content/Tomato-Leaf-Disease-Detection-6/test/images/collage_1177_jpg.rf.6864edf87a33fd0c51e0d9f4f083d946.jpg: 416x416 2 Early Blights, 1 Mosaic Virus, 1 Septoria, 41.8ms\n",
            "image 187/449 /content/Tomato-Leaf-Disease-Detection-6/test/images/collage_1178_jpg.rf.928138462d8726e9b0a18a09f0bc5734.jpg: 416x416 3 Early Blights, 3 Late Blights, 1 Leaf Miner, 32.0ms\n",
            "image 188/449 /content/Tomato-Leaf-Disease-Detection-6/test/images/collage_1179_jpg.rf.aaa7ae026b617043fe825395a4ef7dd1.jpg: 416x416 2 Early Blights, 2 Late Blights, 1 Mosaic Virus, 1 Spider Mites, 71.8ms\n",
            "image 189/449 /content/Tomato-Leaf-Disease-Detection-6/test/images/collage_117_jpg.rf.da47a2549e4a503f274cdf35f18d5512.jpg: 416x416 2 Leaf Molds, 3 Mosaic Viruss, 33.5ms\n",
            "image 190/449 /content/Tomato-Leaf-Disease-Detection-6/test/images/collage_1180_jpg.rf.7d0f77eaf2b144f6a44747d1f00c1111.jpg: 416x416 2 Late Blights, 1 Leaf Mold, 2 Yellow Leaf Curl Viruss, 16.9ms\n",
            "image 191/449 /content/Tomato-Leaf-Disease-Detection-6/test/images/collage_1181_jpg.rf.30bce29d9d5671a76a8d70e6d3f9f214.jpg: 416x416 1 Healthy, 2 Late Blights, 1 Leaf Miner, 1 Leaf Mold, 51.2ms\n",
            "image 192/449 /content/Tomato-Leaf-Disease-Detection-6/test/images/collage_1182_jpg.rf.67d0288e36c7ea6f9127067bbffdfd6e.jpg: 416x416 1 Early Blight, 2 Late Blights, 1 Leaf Mold, 1 Mosaic Virus, 73.2ms\n",
            "image 193/449 /content/Tomato-Leaf-Disease-Detection-6/test/images/collage_1183_jpg.rf.44bdc1c38fd48408c0ea289e16d65d20.jpg: 416x416 1 Early Blight, 2 Mosaic Viruss, 2 Septorias, 49.1ms\n",
            "image 194/449 /content/Tomato-Leaf-Disease-Detection-6/test/images/collage_1184_jpg.rf.1a73dc52a4b26ba4533f5f3d88d8fb70.jpg: 416x416 1 Early Blight, 1 Leaf Mold, 2 Mosaic Viruss, 1 Septoria, 55.6ms\n",
            "image 195/449 /content/Tomato-Leaf-Disease-Detection-6/test/images/collage_1185_jpg.rf.a4a124b485266b332280fb261eac8aa4.jpg: 416x416 1 Healthy, 1 Late Blight, 1 Leaf Mold, 1 Septoria, 2 Yellow Leaf Curl Viruss, 65.5ms\n",
            "image 196/449 /content/Tomato-Leaf-Disease-Detection-6/test/images/collage_1186_jpg.rf.13c57c67b92a710a568cd7be09ccc752.jpg: 416x416 1 Leaf Mold, 1 Spider Mites, 4 Yellow Leaf Curl Viruss, 62.6ms\n",
            "image 197/449 /content/Tomato-Leaf-Disease-Detection-6/test/images/collage_1187_jpg.rf.95b77c390f20a20076e2be34d48336c0.jpg: 416x416 1 Early Blight, 1 Leaf Mold, 2 Mosaic Viruss, 79.1ms\n",
            "image 198/449 /content/Tomato-Leaf-Disease-Detection-6/test/images/collage_1188_jpg.rf.7f94d5308ad8417ccc31e34fb8f514d4.jpg: 416x416 1 Early Blight, 2 Leaf Molds, 2 Mosaic Viruss, 1 Yellow Leaf Curl Virus, 48.8ms\n",
            "image 199/449 /content/Tomato-Leaf-Disease-Detection-6/test/images/collage_1189_jpg.rf.6f23cc23d104ca23c3861308e5d2b072.jpg: 416x416 1 Early Blight, 1 Late Blight, 2 Spider Mitess, 2 Yellow Leaf Curl Viruss, 58.2ms\n",
            "image 200/449 /content/Tomato-Leaf-Disease-Detection-6/test/images/collage_118_jpg.rf.84c14c7a41e7eca3f643cd7ca8468df2.jpg: 416x416 2 Early Blights, 1 Late Blight, 1 Leaf Miner, 32.1ms\n",
            "image 201/449 /content/Tomato-Leaf-Disease-Detection-6/test/images/collage_1190_jpg.rf.2c1d8bef31f2d6d90d174e2bbe28a69a.jpg: 416x416 1 Early Blight, 1 Leaf Mold, 1 Mosaic Virus, 1 Septoria, 40.7ms\n",
            "image 202/449 /content/Tomato-Leaf-Disease-Detection-6/test/images/collage_1191_jpg.rf.da1063c7125bdc570fa1bedc52602ab9.jpg: 416x416 1 Healthy, 1 Leaf Mold, 2 Mosaic Viruss, 1 Spider Mites, 1 Yellow Leaf Curl Virus, 21.7ms\n",
            "image 203/449 /content/Tomato-Leaf-Disease-Detection-6/test/images/collage_1192_jpg.rf.812c47f0787f3238be7eee4654e4f00c.jpg: 416x416 1 Early Blight, 1 Late Blight, 2 Leaf Miners, 2 Mosaic Viruss, 60.5ms\n",
            "image 204/449 /content/Tomato-Leaf-Disease-Detection-6/test/images/collage_1193_jpg.rf.39d56549b75b961768b34a8f973bc154.jpg: 416x416 1 Early Blight, 1 Late Blight, 1 Leaf Mold, 1 Septoria, 1 Spider Mites, 1 Yellow Leaf Curl Virus, 31.9ms\n",
            "image 205/449 /content/Tomato-Leaf-Disease-Detection-6/test/images/collage_1194_jpg.rf.ef0b7ee94ff369b8304b611b6024b462.jpg: 416x416 2 Early Blights, 2 Late Blights, 1 Leaf Mold, 1 Mosaic Virus, 1 Septoria, 1 Spider Mites, 38.6ms\n",
            "image 206/449 /content/Tomato-Leaf-Disease-Detection-6/test/images/collage_1195_jpg.rf.91dfd2d91cb8d8ff763a62f4cf03984c.jpg: 416x416 1 Late Blight, 1 Leaf Miner, 1 Leaf Mold, 1 Mosaic Virus, 1 Septoria, 38.4ms\n",
            "image 207/449 /content/Tomato-Leaf-Disease-Detection-6/test/images/collage_1196_jpg.rf.00a858f7b06726834a2b905f3253e594.jpg: 416x416 1 Early Blight, 2 Late Blights, 1 Mosaic Virus, 25.9ms\n",
            "image 208/449 /content/Tomato-Leaf-Disease-Detection-6/test/images/collage_1197_jpg.rf.0c27bff28e6d08acc7e244a391aad776.jpg: 416x416 3 Early Blights, 1 Yellow Leaf Curl Virus, 33.6ms\n",
            "image 209/449 /content/Tomato-Leaf-Disease-Detection-6/test/images/collage_1198_jpg.rf.7bfef7e892ee49518bab33fc450f33c0.jpg: 416x416 2 Early Blights, 1 Late Blight, 1 Leaf Miner, 1 Mosaic Virus, 34.2ms\n",
            "image 210/449 /content/Tomato-Leaf-Disease-Detection-6/test/images/collage_1199_jpg.rf.066d902e40b8e3a70d438aefeccc7bcb.jpg: 416x416 2 Early Blights, 3 Leaf Molds, 1 Yellow Leaf Curl Virus, 22.6ms\n",
            "image 211/449 /content/Tomato-Leaf-Disease-Detection-6/test/images/collage_119_jpg.rf.f14df62c8c1e49d662b9df1b01b7d10a.jpg: 416x416 1 Early Blight, 1 Healthy, 1 Leaf Miner, 1 Leaf Mold, 2 Yellow Leaf Curl Viruss, 21.6ms\n",
            "image 212/449 /content/Tomato-Leaf-Disease-Detection-6/test/images/collage_11_jpg.rf.51a59bab9c7f756c319b36621aac26fb.jpg: 416x416 1 Early Blight, 1 Late Blight, 1 Mosaic Virus, 2 Spider Mitess, 2 Yellow Leaf Curl Viruss, 17.9ms\n",
            "image 213/449 /content/Tomato-Leaf-Disease-Detection-6/test/images/collage_1200_jpg.rf.ab68dfe069d73ec2e566e2713f851578.jpg: 416x416 3 Leaf Molds, 1 Mosaic Virus, 1 Spider Mites, 2 Yellow Leaf Curl Viruss, 22.5ms\n",
            "image 214/449 /content/Tomato-Leaf-Disease-Detection-6/test/images/collage_1201_jpg.rf.2518154756a26f2cc1b7c73c97bec40d.jpg: 416x416 2 Late Blights, 1 Leaf Mold, 2 Mosaic Viruss, 13.4ms\n",
            "image 215/449 /content/Tomato-Leaf-Disease-Detection-6/test/images/collage_1202_jpg.rf.d57c2e64e932d9dce0d8b5a8aa81b2e9.jpg: 416x416 1 Early Blight, 1 Late Blight, 2 Leaf Molds, 1 Yellow Leaf Curl Virus, 23.4ms\n",
            "image 216/449 /content/Tomato-Leaf-Disease-Detection-6/test/images/collage_1203_jpg.rf.2ab36eb97c94e0ff0e2904b6958c9b02.jpg: 416x416 1 Early Blight, 1 Leaf Mold, 3 Yellow Leaf Curl Viruss, 23.3ms\n",
            "image 217/449 /content/Tomato-Leaf-Disease-Detection-6/test/images/collage_1204_jpg.rf.ccaae29f650f75aba65ed085d49a8f6f.jpg: 416x416 1 Early Blight, 1 Late Blight, 1 Leaf Mold, 2 Septorias, 1 Yellow Leaf Curl Virus, 21.5ms\n",
            "image 218/449 /content/Tomato-Leaf-Disease-Detection-6/test/images/collage_1205_jpg.rf.e0b4c194224ec9b11fc5a6141aa1cca9.jpg: 416x416 1 Early Blight, 2 Late Blights, 1 Leaf Miner, 1 Mosaic Virus, 34.1ms\n",
            "image 219/449 /content/Tomato-Leaf-Disease-Detection-6/test/images/collage_1206_jpg.rf.bdbb0f542a97f9a72b7c88093fe39bcc.jpg: 416x416 1 Early Blight, 1 Late Blight, 1 Leaf Mold, 1 Septoria, 10.4ms\n",
            "image 220/449 /content/Tomato-Leaf-Disease-Detection-6/test/images/collage_1207_jpg.rf.a37b5e9f32096a8ea19d8df321133342.jpg: 416x416 1 Early Blight, 1 Late Blight, 2 Septorias, 1 Yellow Leaf Curl Virus, 20.8ms\n",
            "image 221/449 /content/Tomato-Leaf-Disease-Detection-6/test/images/collage_1208_jpg.rf.28e3a30a0efaf4d39d41c6f966b68209.jpg: 416x416 1 Early Blight, 1 Leaf Mold, 1 Mosaic Virus, 1 Septoria, 1 Spider Mites, 1 Yellow Leaf Curl Virus, 11.7ms\n",
            "image 222/449 /content/Tomato-Leaf-Disease-Detection-6/test/images/collage_1209_jpg.rf.505f180bdda833c3e28cd9bff5842325.jpg: 416x416 2 Early Blights, 1 Leaf Mold, 1 Mosaic Virus, 1 Spider Mites, 11.1ms\n",
            "image 223/449 /content/Tomato-Leaf-Disease-Detection-6/test/images/collage_120_jpg.rf.26bce178af5ddc609ef7325f5f73cc93.jpg: 416x416 1 Leaf Miner, 1 Mosaic Virus, 2 Spider Mitess, 1 Yellow Leaf Curl Virus, 11.5ms\n",
            "image 224/449 /content/Tomato-Leaf-Disease-Detection-6/test/images/collage_1210_jpg.rf.59c0e0ec74232a77f2b0d62e0b270580.jpg: 416x416 1 Leaf Miner, 1 Leaf Mold, 1 Septoria, 1 Yellow Leaf Curl Virus, 18.0ms\n",
            "image 225/449 /content/Tomato-Leaf-Disease-Detection-6/test/images/collage_1211_jpg.rf.b5262cb6157b633564df39bec19fb138.jpg: 416x416 1 Early Blight, 1 Late Blight, 2 Leaf Molds, 1 Septoria, 1 Yellow Leaf Curl Virus, 27.2ms\n",
            "image 226/449 /content/Tomato-Leaf-Disease-Detection-6/test/images/collage_1212_jpg.rf.e5f9eefab14b5ecb21b00f6c2757a9bf.jpg: 416x416 1 Early Blight, 1 Late Blight, 1 Leaf Miner, 1 Leaf Mold, 1 Septoria, 25.5ms\n",
            "image 227/449 /content/Tomato-Leaf-Disease-Detection-6/test/images/collage_1213_jpg.rf.7ee86625e2c5f9f344c82ec3eb33ef60.jpg: 416x416 2 Early Blights, 1 Leaf Mold, 1 Spider Mites, 1 Yellow Leaf Curl Virus, 16.0ms\n",
            "image 228/449 /content/Tomato-Leaf-Disease-Detection-6/test/images/collage_1214_jpg.rf.cf94df87d27ada85bbc9d674fda59b36.jpg: 416x416 2 Early Blights, 1 Late Blight, 2 Leaf Molds, 1 Septoria, 31.7ms\n",
            "image 229/449 /content/Tomato-Leaf-Disease-Detection-6/test/images/collage_1215_jpg.rf.c468027ef98bcf9e99467e68b21b8f77.jpg: 416x416 1 Early Blight, 3 Healthys, 2 Late Blights, 5 Leaf Miners, 1 Leaf Mold, 1 Septoria, 14.5ms\n",
            "image 230/449 /content/Tomato-Leaf-Disease-Detection-6/test/images/collage_1216_jpg.rf.06898082c1383694d5a70ff4036de6e3.jpg: 416x416 1 Leaf Mold, 2 Mosaic Viruss, 1 Yellow Leaf Curl Virus, 11.2ms\n",
            "image 231/449 /content/Tomato-Leaf-Disease-Detection-6/test/images/collage_1217_jpg.rf.a553e77229611d74104651541a9feb42.jpg: 416x416 1 Early Blight, 1 Healthy, 1 Late Blight, 1 Leaf Mold, 1 Mosaic Virus, 12.0ms\n",
            "image 232/449 /content/Tomato-Leaf-Disease-Detection-6/test/images/collage_1218_jpg.rf.68591837355117ecde3ffb6415276b4f.jpg: 416x416 1 Early Blight, 2 Late Blights, 1 Leaf Mold, 1 Mosaic Virus, 1 Spider Mites, 20.9ms\n",
            "image 233/449 /content/Tomato-Leaf-Disease-Detection-6/test/images/collage_1219_jpg.rf.ab00a83c479ce0705fcaddd4b5b4e119.jpg: 416x416 1 Early Blight, 2 Late Blights, 1 Leaf Mold, 1 Spider Mites, 1 Yellow Leaf Curl Virus, 11.0ms\n",
            "image 234/449 /content/Tomato-Leaf-Disease-Detection-6/test/images/collage_121_jpg.rf.622fdf6e2b19b12795f81638f3a0fada.jpg: 416x416 1 Leaf Miner, 2 Spider Mitess, 2 Yellow Leaf Curl Viruss, 27.0ms\n",
            "image 235/449 /content/Tomato-Leaf-Disease-Detection-6/test/images/collage_1220_jpg.rf.30ee7b6634376a28a5f4e56aa2aadd93.jpg: 416x416 2 Early Blights, 2 Septorias, 1 Spider Mites, 15.9ms\n",
            "image 236/449 /content/Tomato-Leaf-Disease-Detection-6/test/images/collage_1221_jpg.rf.c89c53fb4898b1d5fa8be11e2ae58590.jpg: 416x416 1 Early Blight, 1 Late Blight, 1 Leaf Miner, 2 Spider Mitess, 1 Yellow Leaf Curl Virus, 19.4ms\n",
            "image 237/449 /content/Tomato-Leaf-Disease-Detection-6/test/images/collage_1222_jpg.rf.46896a664c74cb9c944e47267ddee03a.jpg: 416x416 1 Early Blight, 1 Leaf Mold, 1 Mosaic Virus, 1 Yellow Leaf Curl Virus, 18.2ms\n",
            "image 238/449 /content/Tomato-Leaf-Disease-Detection-6/test/images/collage_1223_jpg.rf.ba7b71de5d673d134b975ae5b60fe862.jpg: 416x416 1 Late Blight, 2 Septorias, 1 Spider Mites, 1 Yellow Leaf Curl Virus, 13.2ms\n",
            "image 239/449 /content/Tomato-Leaf-Disease-Detection-6/test/images/collage_1224_jpg.rf.c2a1ca2fe71877f8c08270afcd6cd258.jpg: 416x416 1 Early Blight, 2 Leaf Miners, 1 Septoria, 1 Spider Mites, 1 Yellow Leaf Curl Virus, 42.9ms\n",
            "image 240/449 /content/Tomato-Leaf-Disease-Detection-6/test/images/collage_1225_jpg.rf.2c9a17724faf5efebe0bdb1987e8c520.jpg: 416x416 1 Early Blight, 1 Mosaic Virus, 1 Septoria, 2 Yellow Leaf Curl Viruss, 58.9ms\n",
            "image 241/449 /content/Tomato-Leaf-Disease-Detection-6/test/images/collage_1226_jpg.rf.1fe24ef2b3b328cf249dfe8297ef90de.jpg: 416x416 1 Early Blight, 3 Leaf Molds, 2 Mosaic Viruss, 18.9ms\n",
            "image 242/449 /content/Tomato-Leaf-Disease-Detection-6/test/images/collage_1227_jpg.rf.379a3971176284c1594b277b15cf56ed.jpg: 416x416 1 Early Blight, 3 Late Blights, 2 Mosaic Viruss, 37.4ms\n",
            "image 243/449 /content/Tomato-Leaf-Disease-Detection-6/test/images/collage_1228_jpg.rf.e05f5bf31c2c62dd142dfc3edc62f6f3.jpg: 416x416 1 Leaf Miner, 1 Leaf Mold, 1 Spider Mites, 1 Yellow Leaf Curl Virus, 46.0ms\n",
            "image 244/449 /content/Tomato-Leaf-Disease-Detection-6/test/images/collage_1229_jpg.rf.889f8c12beb10922ad5efc51afa2a881.jpg: 416x416 2 Early Blights, 1 Late Blight, 2 Septorias, 1 Yellow Leaf Curl Virus, 32.2ms\n",
            "image 245/449 /content/Tomato-Leaf-Disease-Detection-6/test/images/collage_122_jpg.rf.cad7a51a37a7e160db7a7f744d608eb1.jpg: 416x416 1 Early Blight, 2 Healthys, 2 Late Blights, 2 Leaf Miners, 32.1ms\n",
            "image 246/449 /content/Tomato-Leaf-Disease-Detection-6/test/images/collage_1230_jpg.rf.f50dbbf22256e157b534ce038f531854.jpg: 416x416 1 Late Blight, 1 Leaf Mold, 1 Septoria, 1 Spider Mites, 2 Yellow Leaf Curl Viruss, 21.9ms\n",
            "image 247/449 /content/Tomato-Leaf-Disease-Detection-6/test/images/collage_1231_jpg.rf.87e42d9427e5ee0dec98a18117f0c683.jpg: 416x416 2 Early Blights, 1 Late Blight, 1 Leaf Mold, 1 Yellow Leaf Curl Virus, 43.1ms\n",
            "image 248/449 /content/Tomato-Leaf-Disease-Detection-6/test/images/collage_1232_jpg.rf.64967f40ec7855b0381e0aa2c8dcab59.jpg: 416x416 1 Late Blight, 1 Leaf Mold, 2 Septorias, 24.8ms\n",
            "image 249/449 /content/Tomato-Leaf-Disease-Detection-6/test/images/collage_1233_jpg.rf.4948ea2184f3a13cb7bfe658a3c6226d.jpg: 416x416 2 Early Blights, 1 Late Blight, 1 Leaf Miner, 1 Leaf Mold, 1 Mosaic Virus, 1 Septoria, 26.4ms\n",
            "image 250/449 /content/Tomato-Leaf-Disease-Detection-6/test/images/collage_1234_jpg.rf.807e5ed40182701f82a5c033d6baa8dd.jpg: 416x416 1 Early Blight, 1 Late Blight, 1 Leaf Mold, 1 Mosaic Virus, 1 Yellow Leaf Curl Virus, 20.8ms\n",
            "image 251/449 /content/Tomato-Leaf-Disease-Detection-6/test/images/collage_1235_jpg.rf.8bb305fc6180af2d602f03482e53b1b3.jpg: 416x416 4 Mosaic Viruss, 1 Yellow Leaf Curl Virus, 17.2ms\n",
            "image 252/449 /content/Tomato-Leaf-Disease-Detection-6/test/images/collage_1236_jpg.rf.63b586336b5aa8d21c367ac49cd5f07d.jpg: 416x416 1 Leaf Miner, 3 Leaf Molds, 1 Mosaic Virus, 18.3ms\n",
            "image 253/449 /content/Tomato-Leaf-Disease-Detection-6/test/images/collage_1237_jpg.rf.9faa07b0da84635aa026ea00ac445472.jpg: 416x416 2 Early Blights, 1 Late Blight, 2 Leaf Molds, 1 Mosaic Virus, 27.4ms\n",
            "image 254/449 /content/Tomato-Leaf-Disease-Detection-6/test/images/collage_1238_jpg.rf.d5b525110f834c3897db3b421f84ce65.jpg: 416x416 3 Early Blights, 1 Leaf Mold, 1 Mosaic Virus, 23.8ms\n",
            "image 255/449 /content/Tomato-Leaf-Disease-Detection-6/test/images/collage_1239_jpg.rf.1be29f3224cbb2d9e8aa01dd80023ab3.jpg: 416x416 1 Early Blight, 1 Leaf Mold, 1 Mosaic Virus, 1 Septoria, 31.4ms\n",
            "image 256/449 /content/Tomato-Leaf-Disease-Detection-6/test/images/collage_123_jpg.rf.693df3a6940530a11ba3f751cc095f62.jpg: 416x416 1 Early Blight, 1 Late Blight, 2 Mosaic Viruss, 1 Spider Mites, 17.5ms\n",
            "image 257/449 /content/Tomato-Leaf-Disease-Detection-6/test/images/collage_1240_jpg.rf.ec34ff48b3b6c404cbadaf283b55ec55.jpg: 416x416 1 Healthy, 2 Late Blights, 2 Leaf Miners, 1 Mosaic Virus, 1 Yellow Leaf Curl Virus, 28.9ms\n",
            "image 258/449 /content/Tomato-Leaf-Disease-Detection-6/test/images/collage_1241_jpg.rf.befc72306d620215a34f2bee26a06d2f.jpg: 416x416 1 Early Blight, 1 Leaf Mold, 2 Mosaic Viruss, 1 Yellow Leaf Curl Virus, 28.9ms\n",
            "image 259/449 /content/Tomato-Leaf-Disease-Detection-6/test/images/collage_1242_jpg.rf.d6b489c91c8e9138f28493c35c90abaa.jpg: 416x416 1 Late Blight, 1 Leaf Miner, 1 Leaf Mold, 1 Yellow Leaf Curl Virus, 27.8ms\n",
            "image 260/449 /content/Tomato-Leaf-Disease-Detection-6/test/images/collage_1243_jpg.rf.df11f5a590e38cb66bf47fa12106e206.jpg: 416x416 1 Late Blight, 1 Leaf Mold, 1 Mosaic Virus, 1 Spider Mites, 1 Yellow Leaf Curl Virus, 31.2ms\n",
            "image 261/449 /content/Tomato-Leaf-Disease-Detection-6/test/images/collage_1244_jpg.rf.db677e7d1473fd662103d36349465c35.jpg: 416x416 1 Early Blight, 1 Late Blight, 1 Septoria, 1 Spider Mites, 1 Yellow Leaf Curl Virus, 32.1ms\n",
            "image 262/449 /content/Tomato-Leaf-Disease-Detection-6/test/images/collage_1245_jpg.rf.8e096e4276c14d82bb81d86bcc016d1a.jpg: 416x416 1 Early Blight, 1 Leaf Mold, 2 Mosaic Viruss, 1 Spider Mites, 30.3ms\n",
            "image 263/449 /content/Tomato-Leaf-Disease-Detection-6/test/images/collage_1246_jpg.rf.1eb6f62284ceade06e7db8f4c527a02a.jpg: 416x416 1 Leaf Mold, 4 Mosaic Viruss, 1 Yellow Leaf Curl Virus, 19.7ms\n",
            "image 264/449 /content/Tomato-Leaf-Disease-Detection-6/test/images/collage_1247_jpg.rf.262dc29ba2f9f0b62058a3456876fd8a.jpg: 416x416 1 Early Blight, 1 Late Blight, 1 Leaf Mold, 2 Yellow Leaf Curl Viruss, 28.7ms\n",
            "image 265/449 /content/Tomato-Leaf-Disease-Detection-6/test/images/collage_1248_jpg.rf.219394afc8c10ff5870e313b6d606148.jpg: 416x416 1 Mosaic Virus, 3 Septorias, 34.6ms\n",
            "image 266/449 /content/Tomato-Leaf-Disease-Detection-6/test/images/collage_1249_jpg.rf.3a879f674ded2e881ae63e3eb3b681d6.jpg: 416x416 2 Early Blights, 1 Late Blight, 2 Spider Mitess, 2 Yellow Leaf Curl Viruss, 27.1ms\n",
            "image 267/449 /content/Tomato-Leaf-Disease-Detection-6/test/images/collage_124_jpg.rf.3d80db4eab99d9fe92662c58503c570d.jpg: 416x416 1 Early Blight, 1 Late Blight, 1 Septoria, 1 Yellow Leaf Curl Virus, 26.3ms\n",
            "image 268/449 /content/Tomato-Leaf-Disease-Detection-6/test/images/collage_1250_jpg.rf.88a096dec5d15ca7b5db5f3d559732c5.jpg: 416x416 2 Leaf Molds, 1 Spider Mites, 3 Yellow Leaf Curl Viruss, 27.4ms\n",
            "image 269/449 /content/Tomato-Leaf-Disease-Detection-6/test/images/collage_1251_jpg.rf.3e65a811f271305f9797f436a308f0fe.jpg: 416x416 2 Early Blights, 2 Late Blights, 1 Leaf Miner, 1 Mosaic Virus, 1 Spider Mites, 58.1ms\n",
            "image 270/449 /content/Tomato-Leaf-Disease-Detection-6/test/images/collage_1252_jpg.rf.800a6370d8d811d610b1165e07ba3669.jpg: 416x416 1 Leaf Miner, 1 Leaf Mold, 2 Yellow Leaf Curl Viruss, 49.9ms\n",
            "image 271/449 /content/Tomato-Leaf-Disease-Detection-6/test/images/collage_1253_jpg.rf.3a2c643660432f96783acd19b001db2c.jpg: 416x416 1 Leaf Miner, 1 Mosaic Virus, 2 Septorias, 29.0ms\n",
            "image 272/449 /content/Tomato-Leaf-Disease-Detection-6/test/images/collage_1254_jpg.rf.19672043d4ac09e3579d532d0d637b5c.jpg: 416x416 1 Early Blight, 2 Mosaic Viruss, 1 Septoria, 20.6ms\n",
            "image 273/449 /content/Tomato-Leaf-Disease-Detection-6/test/images/collage_1255_jpg.rf.605779e37e493aa83b09495ca68847a5.jpg: 416x416 1 Late Blight, 2 Mosaic Viruss, 1 Yellow Leaf Curl Virus, 34.3ms\n",
            "image 274/449 /content/Tomato-Leaf-Disease-Detection-6/test/images/collage_1256_jpg.rf.0a6d7575d06e1032d73427c7b2062956.jpg: 416x416 2 Early Blights, 1 Late Blight, 1 Leaf Miner, 2 Leaf Molds, 1 Septoria, 23.0ms\n",
            "image 275/449 /content/Tomato-Leaf-Disease-Detection-6/test/images/collage_1257_jpg.rf.257cd68aaf801f6a2b3e582e8aabe240.jpg: 416x416 2 Early Blights, 2 Late Blights, 1 Septoria, 1 Spider Mites, 1 Yellow Leaf Curl Virus, 41.8ms\n",
            "image 276/449 /content/Tomato-Leaf-Disease-Detection-6/test/images/collage_1258_jpg.rf.8be1e0b6ca7362b0427e9c4959493f55.jpg: 416x416 1 Leaf Miner, 1 Leaf Mold, 1 Mosaic Virus, 2 Yellow Leaf Curl Viruss, 21.4ms\n",
            "image 277/449 /content/Tomato-Leaf-Disease-Detection-6/test/images/collage_1259_jpg.rf.44c4d30422847bf03cdc9168a771579d.jpg: 416x416 2 Leaf Miners, 1 Leaf Mold, 1 Septoria, 1 Yellow Leaf Curl Virus, 23.4ms\n",
            "image 278/449 /content/Tomato-Leaf-Disease-Detection-6/test/images/collage_125_jpg.rf.739060efd1a7e42986baeca66876933f.jpg: 416x416 1 Early Blight, 2 Late Blights, 1 Leaf Mold, 1 Spider Mites, 1 Yellow Leaf Curl Virus, 52.1ms\n",
            "image 279/449 /content/Tomato-Leaf-Disease-Detection-6/test/images/collage_1260_jpg.rf.66e87d994f953798be5f1903843eb6de.jpg: 416x416 1 Early Blight, 2 Late Blights, 1 Leaf Mold, 45.1ms\n",
            "image 280/449 /content/Tomato-Leaf-Disease-Detection-6/test/images/collage_1261_jpg.rf.3da2f12412f61509d7f70511c1730cdd.jpg: 416x416 1 Early Blight, 1 Late Blight, 1 Leaf Mold, 1 Spider Mites, 2 Yellow Leaf Curl Viruss, 32.8ms\n",
            "image 281/449 /content/Tomato-Leaf-Disease-Detection-6/test/images/collage_1262_jpg.rf.d5cfb7bda181a283fecdc49f22f3c3a4.jpg: 416x416 2 Leaf Molds, 2 Septorias, 1 Yellow Leaf Curl Virus, 34.9ms\n",
            "image 282/449 /content/Tomato-Leaf-Disease-Detection-6/test/images/collage_1263_jpg.rf.bd1c947fe8aed60847e83b288a813a1b.jpg: 416x416 1 Early Blight, 1 Healthy, 1 Late Blight, 1 Leaf Miner, 2 Mosaic Viruss, 1 Spider Mites, 11.0ms\n",
            "image 283/449 /content/Tomato-Leaf-Disease-Detection-6/test/images/collage_1264_jpg.rf.b6f197254431a915b78ed50457ae0233.jpg: 416x416 1 Early Blight, 1 Late Blight, 1 Septoria, 1 Spider Mites, 1 Yellow Leaf Curl Virus, 10.7ms\n",
            "image 284/449 /content/Tomato-Leaf-Disease-Detection-6/test/images/collage_1265_jpg.rf.08c147faabba2f31f877a1e6502f3406.jpg: 416x416 1 Early Blight, 2 Late Blights, 1 Leaf Mold, 1 Spider Mites, 10.5ms\n",
            "image 285/449 /content/Tomato-Leaf-Disease-Detection-6/test/images/collage_1266_jpg.rf.f34554e57ac95fc3c678e9e73624e01b.jpg: 416x416 2 Leaf Molds, 1 Mosaic Virus, 2 Septorias, 1 Spider Mites, 9.5ms\n",
            "image 286/449 /content/Tomato-Leaf-Disease-Detection-6/test/images/collage_1267_jpg.rf.10012f24a7706f9fbd977dd258b285d4.jpg: 416x416 1 Leaf Miner, 1 Leaf Mold, 1 Septoria, 1 Spider Mites, 10.6ms\n",
            "image 287/449 /content/Tomato-Leaf-Disease-Detection-6/test/images/collage_1268_jpg.rf.c5409ab16592a668c2594fb260a9a477.jpg: 416x416 1 Early Blight, 1 Late Blight, 2 Mosaic Viruss, 1 Septoria, 10.8ms\n",
            "image 288/449 /content/Tomato-Leaf-Disease-Detection-6/test/images/collage_1269_jpg.rf.74db47687e485d651de409d1fb838e1a.jpg: 416x416 3 Leaf Miners, 1 Mosaic Virus, 1 Spider Mites, 2 Yellow Leaf Curl Viruss, 24.3ms\n",
            "image 289/449 /content/Tomato-Leaf-Disease-Detection-6/test/images/collage_126_jpg.rf.24f7647dc3b1543f0ebc3b4bf2b546eb.jpg: 416x416 1 Early Blight, 1 Late Blight, 1 Leaf Miner, 1 Yellow Leaf Curl Virus, 12.9ms\n",
            "image 290/449 /content/Tomato-Leaf-Disease-Detection-6/test/images/collage_1270_jpg.rf.92b7bd7a204cb61a867b3a524c17f48d.jpg: 416x416 2 Early Blights, 1 Leaf Mold, 1 Mosaic Virus, 11.8ms\n",
            "image 291/449 /content/Tomato-Leaf-Disease-Detection-6/test/images/collage_1271_jpg.rf.1856f2ebc5027a2d9c647eb8435b2add.jpg: 416x416 2 Early Blights, 2 Late Blights, 1 Yellow Leaf Curl Virus, 11.2ms\n",
            "image 292/449 /content/Tomato-Leaf-Disease-Detection-6/test/images/collage_1272_jpg.rf.038b025d3aefed107210f79cac85fd8b.jpg: 416x416 1 Leaf Mold, 1 Mosaic Virus, 2 Yellow Leaf Curl Viruss, 38.4ms\n",
            "image 293/449 /content/Tomato-Leaf-Disease-Detection-6/test/images/collage_1273_jpg.rf.d10aaf2046960570ca671405ae533307.jpg: 416x416 2 Early Blights, 1 Mosaic Virus, 1 Yellow Leaf Curl Virus, 10.9ms\n",
            "image 294/449 /content/Tomato-Leaf-Disease-Detection-6/test/images/collage_1274_jpg.rf.46477ce443d31c0e44164416aebc38a0.jpg: 416x416 2 Early Blights, 1 Late Blight, 2 Mosaic Viruss, 24.6ms\n",
            "image 295/449 /content/Tomato-Leaf-Disease-Detection-6/test/images/collage_1275_jpg.rf.baba4128a1f9fcb429bfe774a3653863.jpg: 416x416 1 Early Blight, 2 Mosaic Viruss, 1 Spider Mites, 15.1ms\n",
            "image 296/449 /content/Tomato-Leaf-Disease-Detection-6/test/images/collage_1276_jpg.rf.991203cec37714437ef642eaed6677b0.jpg: 416x416 1 Leaf Miner, 1 Leaf Mold, 2 Septorias, 3 Yellow Leaf Curl Viruss, 22.5ms\n",
            "image 297/449 /content/Tomato-Leaf-Disease-Detection-6/test/images/collage_1277_jpg.rf.256b807e3b6d5b8e249080b2318e1125.jpg: 416x416 1 Early Blight, 1 Late Blight, 1 Leaf Mold, 1 Spider Mites, 1 Yellow Leaf Curl Virus, 23.7ms\n",
            "image 298/449 /content/Tomato-Leaf-Disease-Detection-6/test/images/collage_1278_jpg.rf.a155942574694267456bee51aa0eca2f.jpg: 416x416 1 Early Blight, 1 Late Blight, 2 Leaf Miners, 1 Leaf Mold, 1 Mosaic Virus, 1 Spider Mites, 1 Yellow Leaf Curl Virus, 14.0ms\n",
            "image 299/449 /content/Tomato-Leaf-Disease-Detection-6/test/images/collage_1279_jpg.rf.687bb8d468b29f9b0245f04f90ccb17c.jpg: 416x416 1 Early Blight, 1 Late Blight, 3 Yellow Leaf Curl Viruss, 14.1ms\n",
            "image 300/449 /content/Tomato-Leaf-Disease-Detection-6/test/images/collage_127_jpg.rf.29b1853878dd6c98ea61000f5971cbd3.jpg: 416x416 2 Early Blights, 1 Healthy, 2 Late Blights, 4 Leaf Miners, 16.2ms\n",
            "image 301/449 /content/Tomato-Leaf-Disease-Detection-6/test/images/collage_1280_jpg.rf.71535818066d5fb1049c06aced2c66f5.jpg: 416x416 1 Early Blight, 1 Leaf Mold, 1 Septoria, 1 Spider Mites, 1 Yellow Leaf Curl Virus, 19.2ms\n",
            "image 302/449 /content/Tomato-Leaf-Disease-Detection-6/test/images/collage_1281_jpg.rf.8e3cfefad17851a2ec2f49a16df44ec9.jpg: 416x416 3 Early Blights, 1 Late Blight, 1 Mosaic Virus, 1 Septoria, 10.7ms\n",
            "image 303/449 /content/Tomato-Leaf-Disease-Detection-6/test/images/collage_1282_jpg.rf.fc638183bb07bc9543e6ba507c9a5228.jpg: 416x416 1 Early Blight, 1 Mosaic Virus, 1 Septoria, 2 Yellow Leaf Curl Viruss, 18.3ms\n",
            "image 304/449 /content/Tomato-Leaf-Disease-Detection-6/test/images/collage_1283_jpg.rf.a4e8c93a4d01eabf19d7b26b61dcd08c.jpg: 416x416 2 Late Blights, 1 Septoria, 1 Yellow Leaf Curl Virus, 10.7ms\n",
            "image 305/449 /content/Tomato-Leaf-Disease-Detection-6/test/images/collage_1284_jpg.rf.a44d09341aa5cfbd74ef63ffbb8c7033.jpg: 416x416 1 Early Blight, 1 Leaf Mold, 7 Yellow Leaf Curl Viruss, 20.8ms\n",
            "image 306/449 /content/Tomato-Leaf-Disease-Detection-6/test/images/collage_1285_jpg.rf.2e08c3ca142d341db2fcaa0b952c6a24.jpg: 416x416 1 Late Blight, 2 Mosaic Viruss, 1 Septoria, 1 Spider Mites, 2 Yellow Leaf Curl Viruss, 12.6ms\n",
            "image 307/449 /content/Tomato-Leaf-Disease-Detection-6/test/images/collage_1286_jpg.rf.7def6cc18e7503c8464fba6d9cda268f.jpg: 416x416 3 Late Blights, 1 Leaf Miner, 1 Leaf Mold, 15.9ms\n",
            "image 308/449 /content/Tomato-Leaf-Disease-Detection-6/test/images/collage_1287_jpg.rf.7b12d2cfcb5995af49fda675d5d2beb7.jpg: 416x416 1 Leaf Miner, 1 Mosaic Virus, 3 Septorias, 1 Spider Mites, 1 Yellow Leaf Curl Virus, 13.2ms\n",
            "image 309/449 /content/Tomato-Leaf-Disease-Detection-6/test/images/collage_1288_jpg.rf.efcac7cf34eb770a8f70442dfd8512b0.jpg: 416x416 1 Early Blight, 1 Healthy, 1 Spider Mites, 2 Yellow Leaf Curl Viruss, 11.4ms\n",
            "image 310/449 /content/Tomato-Leaf-Disease-Detection-6/test/images/collage_1289_jpg.rf.6d6c668715fde4445a9a113022baf1e9.jpg: 416x416 1 Early Blight, 1 Late Blight, 1 Mosaic Virus, 3 Septorias, 12.3ms\n",
            "image 311/449 /content/Tomato-Leaf-Disease-Detection-6/test/images/collage_128_jpg.rf.cd69714bcc7cac42ab07f28b1b9011c2.jpg: 416x416 2 Early Blights, 1 Leaf Mold, 1 Septoria, 17.9ms\n",
            "image 312/449 /content/Tomato-Leaf-Disease-Detection-6/test/images/collage_1290_jpg.rf.68878aa32b46f7bb60b2114360e86ac3.jpg: 416x416 1 Healthy, 2 Late Blights, 1 Leaf Mold, 1 Mosaic Virus, 1 Yellow Leaf Curl Virus, 12.6ms\n",
            "image 313/449 /content/Tomato-Leaf-Disease-Detection-6/test/images/collage_1291_jpg.rf.7a26bdcae6ee2397057e4cb6de93dbae.jpg: 416x416 1 Leaf Miner, 1 Mosaic Virus, 2 Septorias, 1 Yellow Leaf Curl Virus, 11.1ms\n",
            "image 314/449 /content/Tomato-Leaf-Disease-Detection-6/test/images/collage_1292_jpg.rf.22bcaa6791df48729313256307d053a2.jpg: 416x416 2 Early Blights, 2 Late Blights, 1 Leaf Mold, 1 Mosaic Virus, 12.6ms\n",
            "image 315/449 /content/Tomato-Leaf-Disease-Detection-6/test/images/collage_1293_jpg.rf.c203ca4261ae9f5927b01bddbfaeb919.jpg: 416x416 1 Early Blight, 1 Leaf Mold, 1 Septoria, 1 Spider Mites, 1 Yellow Leaf Curl Virus, 22.4ms\n",
            "image 316/449 /content/Tomato-Leaf-Disease-Detection-6/test/images/collage_1294_jpg.rf.7e43f575ae66f69ff75aaa417162bdc7.jpg: 416x416 1 Late Blight, 2 Mosaic Viruss, 2 Yellow Leaf Curl Viruss, 10.5ms\n",
            "image 317/449 /content/Tomato-Leaf-Disease-Detection-6/test/images/collage_1295_jpg.rf.f266bffa9b184879006a11bd33f8bfa9.jpg: 416x416 1 Leaf Mold, 2 Mosaic Viruss, 1 Yellow Leaf Curl Virus, 13.6ms\n",
            "image 318/449 /content/Tomato-Leaf-Disease-Detection-6/test/images/collage_1297_jpg.rf.b72f7b5593dae2530b7302ee2ad6e519.jpg: 416x416 1 Early Blight, 1 Late Blight, 1 Leaf Miner, 1 Leaf Mold, 1 Mosaic Virus, 2 Yellow Leaf Curl Viruss, 14.0ms\n",
            "image 319/449 /content/Tomato-Leaf-Disease-Detection-6/test/images/collage_1298_jpg.rf.4a25ae0d76e889d5d3c0151021058c68.jpg: 416x416 2 Leaf Molds, 2 Mosaic Viruss, 1 Yellow Leaf Curl Virus, 21.1ms\n",
            "image 320/449 /content/Tomato-Leaf-Disease-Detection-6/test/images/collage_1299_jpg.rf.77d7df30f6f9edbde4e770e708612f8f.jpg: 416x416 2 Late Blights, 1 Mosaic Virus, 2 Yellow Leaf Curl Viruss, 22.1ms\n",
            "image 321/449 /content/Tomato-Leaf-Disease-Detection-6/test/images/collage_129_jpg.rf.e4f13a1a0e2843f0080a0d25998c273d.jpg: 416x416 1 Early Blight, 1 Late Blight, 2 Leaf Molds, 1 Mosaic Virus, 1 Septoria, 1 Yellow Leaf Curl Virus, 31.1ms\n",
            "image 322/449 /content/Tomato-Leaf-Disease-Detection-6/test/images/collage_12_jpg.rf.4d8c258b20f6cfdecff30ac4f9a1a94c.jpg: 416x416 1 Early Blight, 1 Leaf Mold, 2 Mosaic Viruss, 1 Septoria, 13.5ms\n",
            "image 323/449 /content/Tomato-Leaf-Disease-Detection-6/test/images/collage_1300_jpg.rf.49dce024bca72b8e4d683f8542e3314a.jpg: 416x416 1 Early Blight, 3 Leaf Molds, 2 Mosaic Viruss, 1 Septoria, 15.4ms\n",
            "image 324/449 /content/Tomato-Leaf-Disease-Detection-6/test/images/collage_1301_jpg.rf.d9a0dcbfe362badc4095f284b0214cd4.jpg: 416x416 1 Mosaic Virus, 3 Septorias, 2 Yellow Leaf Curl Viruss, 21.3ms\n",
            "image 325/449 /content/Tomato-Leaf-Disease-Detection-6/test/images/collage_1302_jpg.rf.b557a53c0ee258a89f04155fcecc1fff.jpg: 416x416 2 Early Blights, 2 Late Blights, 1 Leaf Miner, 1 Mosaic Virus, 35.2ms\n",
            "image 326/449 /content/Tomato-Leaf-Disease-Detection-6/test/images/collage_1303_jpg.rf.cec901c5fefdf9a314c2e958369c8a3b.jpg: 416x416 3 Early Blights, 2 Late Blights, 1 Mosaic Virus, 20.8ms\n",
            "image 327/449 /content/Tomato-Leaf-Disease-Detection-6/test/images/collage_1304_jpg.rf.01e2a32872ff3c9355067a07e135a83b.jpg: 416x416 2 Late Blights, 1 Leaf Miner, 1 Mosaic Virus, 11.5ms\n",
            "image 328/449 /content/Tomato-Leaf-Disease-Detection-6/test/images/collage_1305_jpg.rf.c956ec99a9cb73cfa3ab9fb26962ac1d.jpg: 416x416 1 Early Blight, 1 Late Blight, 1 Leaf Mold, 1 Septoria, 17.0ms\n",
            "image 329/449 /content/Tomato-Leaf-Disease-Detection-6/test/images/collage_1306_jpg.rf.d70bc383a0b63d57e75da9823a67ba7a.jpg: 416x416 2 Late Blights, 1 Leaf Mold, 1 Mosaic Virus, 24.0ms\n",
            "image 330/449 /content/Tomato-Leaf-Disease-Detection-6/test/images/collage_1307_jpg.rf.31b94ea0ec94a10b83a20e6cce767113.jpg: 416x416 1 Early Blight, 1 Late Blight, 1 Leaf Miner, 1 Leaf Mold, 1 Mosaic Virus, 1 Yellow Leaf Curl Virus, 25.3ms\n",
            "image 331/449 /content/Tomato-Leaf-Disease-Detection-6/test/images/collage_1308_jpg.rf.068fd1611c466d8cdbfb646881edfddb.jpg: 416x416 3 Early Blights, 2 Late Blights, 1 Spider Mites, 1 Yellow Leaf Curl Virus, 14.5ms\n",
            "image 332/449 /content/Tomato-Leaf-Disease-Detection-6/test/images/collage_1309_jpg.rf.355669e878a5b91a9fc964b1833f83b3.jpg: 416x416 1 Early Blight, 1 Leaf Miner, 1 Leaf Mold, 2 Septorias, 7.5ms\n",
            "image 333/449 /content/Tomato-Leaf-Disease-Detection-6/test/images/collage_130_jpg.rf.8a62c3ec97283278903bbf06aff63b21.jpg: 416x416 1 Early Blight, 1 Leaf Mold, 2 Mosaic Viruss, 7.0ms\n",
            "image 334/449 /content/Tomato-Leaf-Disease-Detection-6/test/images/collage_1310_jpg.rf.e0b150ef33607de106f780d4d40544a6.jpg: 416x416 5 Leaf Molds, 2 Yellow Leaf Curl Viruss, 6.8ms\n",
            "image 335/449 /content/Tomato-Leaf-Disease-Detection-6/test/images/collage_1311_jpg.rf.798cd043e59fa0b86c5b80914e720d79.jpg: 416x416 1 Early Blight, 1 Mosaic Virus, 1 Septoria, 1 Yellow Leaf Curl Virus, 6.5ms\n",
            "image 336/449 /content/Tomato-Leaf-Disease-Detection-6/test/images/collage_1312_jpg.rf.ff7dfbc7a3fac31281b176302f2d65d6.jpg: 416x416 3 Early Blights, 4 Late Blights, 6.7ms\n",
            "image 337/449 /content/Tomato-Leaf-Disease-Detection-6/test/images/collage_1313_jpg.rf.886530a1c1e16620db86f8bfa8be7bc2.jpg: 416x416 1 Early Blight, 1 Healthy, 1 Late Blight, 3 Leaf Miners, 2 Spider Mitess, 6.8ms\n",
            "image 338/449 /content/Tomato-Leaf-Disease-Detection-6/test/images/collage_1314_jpg.rf.7718dba5ec4e260281c0cb79a227d3e5.jpg: 416x416 1 Healthy, 1 Late Blight, 1 Leaf Miner, 1 Leaf Mold, 1 Spider Mites, 1 Yellow Leaf Curl Virus, 7.5ms\n",
            "image 339/449 /content/Tomato-Leaf-Disease-Detection-6/test/images/collage_1315_jpg.rf.0a9b86fc9662a73700994edf517d89bf.jpg: 416x416 1 Early Blight, 3 Mosaic Viruss, 7.4ms\n",
            "image 340/449 /content/Tomato-Leaf-Disease-Detection-6/test/images/collage_1316_jpg.rf.2a04af4e0e6d7f700dc84489ad0d95a8.jpg: 416x416 1 Early Blight, 1 Late Blight, 2 Septorias, 1 Yellow Leaf Curl Virus, 6.6ms\n",
            "image 341/449 /content/Tomato-Leaf-Disease-Detection-6/test/images/collage_1317_jpg.rf.c9d87dc5f02b63e3b291ae3167bd8593.jpg: 416x416 2 Early Blights, 3 Late Blights, 1 Mosaic Virus, 1 Yellow Leaf Curl Virus, 7.0ms\n",
            "image 342/449 /content/Tomato-Leaf-Disease-Detection-6/test/images/collage_1319_jpg.rf.977650bf459533d6472cfb6fc4e59696.jpg: 416x416 1 Leaf Miner, 1 Mosaic Virus, 1 Septoria, 1 Yellow Leaf Curl Virus, 7.0ms\n",
            "image 343/449 /content/Tomato-Leaf-Disease-Detection-6/test/images/collage_131_jpg.rf.7bd5ca56d7056517fc25931bc5efc52a.jpg: 416x416 1 Early Blight, 1 Leaf Mold, 1 Mosaic Virus, 4 Septorias, 6.8ms\n",
            "image 344/449 /content/Tomato-Leaf-Disease-Detection-6/test/images/collage_1320_jpg.rf.b67d49935ad893c7fe043e4925dbaf27.jpg: 416x416 7 Leaf Miners, 2 Leaf Molds, 1 Mosaic Virus, 6.7ms\n",
            "image 345/449 /content/Tomato-Leaf-Disease-Detection-6/test/images/collage_1321_jpg.rf.9c5e78f254b3ffa29a6150643ecebe34.jpg: 416x416 1 Leaf Mold, 2 Mosaic Viruss, 1 Spider Mites, 6.7ms\n",
            "image 346/449 /content/Tomato-Leaf-Disease-Detection-6/test/images/collage_1322_jpg.rf.d7b2a685e6c70cbaa0f0e8b2b9b6da27.jpg: 416x416 1 Healthy, 2 Late Blights, 1 Leaf Mold, 1 Yellow Leaf Curl Virus, 6.5ms\n",
            "image 347/449 /content/Tomato-Leaf-Disease-Detection-6/test/images/collage_1323_jpg.rf.9ec953831a8172f249e84ebd92b38a60.jpg: 416x416 1 Healthy, 2 Late Blights, 2 Mosaic Viruss, 1 Septoria, 6.4ms\n",
            "image 348/449 /content/Tomato-Leaf-Disease-Detection-6/test/images/collage_1324_jpg.rf.ca91fd0c2b8e360cf8a72b8883288661.jpg: 416x416 2 Early Blights, 1 Late Blight, 1 Septoria, 1 Spider Mites, 2 Yellow Leaf Curl Viruss, 6.8ms\n",
            "image 349/449 /content/Tomato-Leaf-Disease-Detection-6/test/images/collage_1325_jpg.rf.e1b449f0845409a478548d835499ed9f.jpg: 416x416 2 Early Blights, 1 Late Blight, 1 Leaf Mold, 1 Spider Mites, 6.8ms\n",
            "image 350/449 /content/Tomato-Leaf-Disease-Detection-6/test/images/collage_1326_jpg.rf.737d6e40e24a24e535ead35a73566d30.jpg: 416x416 2 Early Blights, 1 Late Blight, 1 Leaf Miner, 1 Leaf Mold, 6.8ms\n",
            "image 351/449 /content/Tomato-Leaf-Disease-Detection-6/test/images/collage_132_jpg.rf.2bf4b583a563ac7015300491fdf22c91.jpg: 416x416 2 Leaf Molds, 1 Septoria, 2 Yellow Leaf Curl Viruss, 6.5ms\n",
            "image 352/449 /content/Tomato-Leaf-Disease-Detection-6/test/images/collage_1331_jpg.rf.ba09a0c0bbd1b9dae729fa1b397f360d.jpg: 416x416 2 Early Blights, 1 Late Blight, 1 Leaf Miner, 1 Yellow Leaf Curl Virus, 7.5ms\n",
            "image 353/449 /content/Tomato-Leaf-Disease-Detection-6/test/images/collage_1332_jpg.rf.2b834e8fbf004ca537e7079caf384a79.jpg: 416x416 1 Early Blight, 2 Late Blights, 1 Mosaic Virus, 7.2ms\n",
            "image 354/449 /content/Tomato-Leaf-Disease-Detection-6/test/images/collage_133_jpg.rf.f114e2992c7cd18a67295b6e1eaf580e.jpg: 416x416 3 Early Blights, 1 Late Blight, 2 Septorias, 1 Yellow Leaf Curl Virus, 8.4ms\n",
            "image 355/449 /content/Tomato-Leaf-Disease-Detection-6/test/images/collage_1342_jpg.rf.71bee313d5040147563c78fdbcabae17.jpg: 416x416 2 Late Blights, 1 Leaf Mold, 3 Spider Mitess, 4 Yellow Leaf Curl Viruss, 6.8ms\n",
            "image 356/449 /content/Tomato-Leaf-Disease-Detection-6/test/images/collage_1360_jpg.rf.191672a12f7796abab3216e15344ba75.jpg: 416x416 1 Early Blight, 1 Late Blight, 1 Leaf Miner, 1 Leaf Mold, 1 Septoria, 1 Yellow Leaf Curl Virus, 6.6ms\n",
            "image 357/449 /content/Tomato-Leaf-Disease-Detection-6/test/images/collage_1371_jpg.rf.1a3cd6144c5ad47dff42181568d4a75e.jpg: 416x416 2 Early Blights, 1 Late Blight, 1 Leaf Mold, 1 Mosaic Virus, 1 Spider Mites, 6.8ms\n",
            "image 358/449 /content/Tomato-Leaf-Disease-Detection-6/test/images/collage_1380_jpg.rf.da20f0c0c644309238c74405b903e1f6.jpg: 416x416 3 Leaf Molds, 3 Yellow Leaf Curl Viruss, 6.9ms\n",
            "image 359/449 /content/Tomato-Leaf-Disease-Detection-6/test/images/collage_1387_jpg.rf.56da891d639489f5f57263a32491150e.jpg: 416x416 1 Early Blight, 1 Late Blight, 1 Mosaic Virus, 1 Septoria, 9.2ms\n",
            "image 360/449 /content/Tomato-Leaf-Disease-Detection-6/test/images/collage_1396_jpg.rf.6dc45b7f41e1d1a2b39ab36cb4a0e5b2.jpg: 416x416 1 Early Blight, 1 Leaf Miner, 1 Leaf Mold, 1 Septoria, 1 Spider Mites, 1 Yellow Leaf Curl Virus, 7.1ms\n",
            "image 361/449 /content/Tomato-Leaf-Disease-Detection-6/test/images/collage_13_jpg.rf.505914960bd7ad2a2aeb3b7c4ea0848a.jpg: 416x416 2 Spider Mitess, 4 Yellow Leaf Curl Viruss, 11.1ms\n",
            "image 362/449 /content/Tomato-Leaf-Disease-Detection-6/test/images/collage_1407_jpg.rf.37fafeee7555c5e2c12a536b7cd4c59a.jpg: 416x416 1 Healthy, 1 Late Blight, 5 Leaf Miners, 1 Septoria, 11.2ms\n",
            "image 363/449 /content/Tomato-Leaf-Disease-Detection-6/test/images/collage_1409_jpg.rf.f8bd71670cde4487125c5dd413af70b6.jpg: 416x416 1 Early Blight, 1 Late Blight, 1 Leaf Mold, 1 Mosaic Virus, 1 Septoria, 2 Yellow Leaf Curl Viruss, 6.6ms\n",
            "image 364/449 /content/Tomato-Leaf-Disease-Detection-6/test/images/collage_1419_jpg.rf.f7ca795586c552b14d1959141fd64413.jpg: 416x416 1 Early Blight, 2 Mosaic Viruss, 1 Septoria, 1 Yellow Leaf Curl Virus, 7.8ms\n",
            "image 365/449 /content/Tomato-Leaf-Disease-Detection-6/test/images/collage_1429_jpg.rf.78c9ba66a9c0cfbc7d8b0264781f7b5c.jpg: 416x416 1 Late Blight, 3 Leaf Molds, 7.5ms\n",
            "image 366/449 /content/Tomato-Leaf-Disease-Detection-6/test/images/collage_1433_jpg.rf.a0c06fcd79a087aac2bad0d9e9fd6d16.jpg: 416x416 1 Early Blight, 1 Late Blight, 2 Leaf Molds, 1 Spider Mites, 1 Yellow Leaf Curl Virus, 6.6ms\n",
            "image 367/449 /content/Tomato-Leaf-Disease-Detection-6/test/images/collage_145_jpg.rf.12c006b568d4a19bf33721bf37c381c9.jpg: 416x416 1 Early Blight, 2 Spider Mitess, 2 Yellow Leaf Curl Viruss, 6.8ms\n",
            "image 368/449 /content/Tomato-Leaf-Disease-Detection-6/test/images/collage_1480_jpg.rf.925e288aaffc188cca668b4709dd46a4.jpg: 416x416 1 Late Blight, 1 Leaf Miner, 1 Leaf Mold, 1 Mosaic Virus, 1 Yellow Leaf Curl Virus, 6.8ms\n",
            "image 369/449 /content/Tomato-Leaf-Disease-Detection-6/test/images/collage_1489_jpg.rf.6f0edf6b19a1aee1d598ac2fdff2f172.jpg: 416x416 1 Leaf Mold, 2 Septorias, 1 Yellow Leaf Curl Virus, 6.9ms\n",
            "image 370/449 /content/Tomato-Leaf-Disease-Detection-6/test/images/collage_1492_jpg.rf.7d2f75604ea8cc0687b9fd235a18238d.jpg: 416x416 1 Mosaic Virus, 1 Septoria, 2 Spider Mitess, 1 Yellow Leaf Curl Virus, 7.4ms\n",
            "image 371/449 /content/Tomato-Leaf-Disease-Detection-6/test/images/collage_149_jpg.rf.f2c57abf2e94a9a6e382a1fafa90caab.jpg: 416x416 2 Late Blights, 1 Leaf Miner, 1 Spider Mites, 6.8ms\n",
            "image 372/449 /content/Tomato-Leaf-Disease-Detection-6/test/images/collage_1502_jpg.rf.df2a770a60fe82e24293e76a36f12adb.jpg: 416x416 1 Early Blight, 1 Leaf Miner, 1 Leaf Mold, 2 Yellow Leaf Curl Viruss, 6.7ms\n",
            "image 373/449 /content/Tomato-Leaf-Disease-Detection-6/test/images/collage_1531_jpg.rf.7f8a5aaf8e76bc62693e3338b9b38c5e.jpg: 416x416 1 Early Blight, 1 Late Blight, 1 Leaf Mold, 1 Septoria, 1 Spider Mites, 8.6ms\n",
            "image 374/449 /content/Tomato-Leaf-Disease-Detection-6/test/images/collage_1573_jpg.rf.fa05af3b41346a6129a54c8b622b9d7a.jpg: 416x416 1 Leaf Mold, 3 Mosaic Viruss, 1 Septoria, 6.8ms\n",
            "image 375/449 /content/Tomato-Leaf-Disease-Detection-6/test/images/collage_1589_jpg.rf.5d67a2eb9772bcd29bd790e45f618a40.jpg: 416x416 2 Late Blights, 1 Leaf Mold, 1 Spider Mites, 7.8ms\n",
            "image 376/449 /content/Tomato-Leaf-Disease-Detection-6/test/images/collage_1592_jpg.rf.537cbad145c2ee29b6763f6b1f78cc4b.jpg: 416x416 2 Late Blights, 1 Leaf Miner, 1 Spider Mites, 6.7ms\n",
            "image 377/449 /content/Tomato-Leaf-Disease-Detection-6/test/images/collage_160_jpg.rf.f3e032a21e89a30ca7725088b985b80e.jpg: 416x416 1 Late Blight, 1 Leaf Mold, 1 Mosaic Virus, 2 Septorias, 1 Yellow Leaf Curl Virus, 6.7ms\n",
            "image 378/449 /content/Tomato-Leaf-Disease-Detection-6/test/images/collage_1611_jpg.rf.587b530263aea9084717875aaac15dd2.jpg: 416x416 2 Early Blights, 1 Leaf Mold, 1 Mosaic Virus, 2 Septorias, 6.7ms\n",
            "image 379/449 /content/Tomato-Leaf-Disease-Detection-6/test/images/collage_1680_jpg.rf.51f23b6d501653e6d5addb0086e8405a.jpg: 416x416 1 Early Blight, 1 Late Blight, 2 Leaf Miners, 1 Mosaic Virus, 2 Yellow Leaf Curl Viruss, 7.2ms\n",
            "image 380/449 /content/Tomato-Leaf-Disease-Detection-6/test/images/collage_16_jpg.rf.fd6f2ab7034cdd5466417b5ee3992c77.jpg: 416x416 1 Early Blight, 1 Mosaic Virus, 1 Septoria, 1 Yellow Leaf Curl Virus, 7.6ms\n",
            "image 381/449 /content/Tomato-Leaf-Disease-Detection-6/test/images/collage_1716_jpg.rf.14ded5421b8421b2df7f4154be3b348b.jpg: 416x416 1 Early Blight, 1 Late Blight, 2 Leaf Molds, 1 Mosaic Virus, 7.3ms\n",
            "image 382/449 /content/Tomato-Leaf-Disease-Detection-6/test/images/collage_1723_jpg.rf.aec411c6124130b4d63a55f7afe354f0.jpg: 416x416 1 Healthy, 1 Leaf Miner, 1 Leaf Mold, 2 Mosaic Viruss, 1 Septoria, 7.0ms\n",
            "image 383/449 /content/Tomato-Leaf-Disease-Detection-6/test/images/collage_1772_jpg.rf.43e59d6ef7a67de3f53782af5c77113e.jpg: 416x416 1 Late Blight, 1 Leaf Miner, 1 Leaf Mold, 1 Septoria, 1 Yellow Leaf Curl Virus, 6.9ms\n",
            "image 384/449 /content/Tomato-Leaf-Disease-Detection-6/test/images/collage_1795_jpg.rf.83625a09246d84b8b297579a31f2a838.jpg: 416x416 1 Mosaic Virus, 3 Yellow Leaf Curl Viruss, 6.9ms\n",
            "image 385/449 /content/Tomato-Leaf-Disease-Detection-6/test/images/collage_1806_jpg.rf.f2d3b11bcafc603d7355ff72ac6e0ad3.jpg: 416x416 2 Early Blights, 1 Leaf Mold, 1 Mosaic Virus, 2 Yellow Leaf Curl Viruss, 7.0ms\n",
            "image 386/449 /content/Tomato-Leaf-Disease-Detection-6/test/images/collage_1825_jpg.rf.12d21a6111982841e6e2a5799b3ab5de.jpg: 416x416 1 Early Blight, 1 Leaf Mold, 1 Septoria, 1 Yellow Leaf Curl Virus, 7.3ms\n",
            "image 387/449 /content/Tomato-Leaf-Disease-Detection-6/test/images/collage_182_jpg.rf.82a786a1842314e12464fd3157a2b7c2.jpg: 416x416 1 Leaf Mold, 1 Mosaic Virus, 1 Spider Mites, 2 Yellow Leaf Curl Viruss, 6.4ms\n",
            "image 388/449 /content/Tomato-Leaf-Disease-Detection-6/test/images/collage_20_jpg.rf.8aa0b7db5148a03d559febbf2e020798.jpg: 416x416 2 Early Blights, 1 Mosaic Virus, 1 Spider Mites, 2 Yellow Leaf Curl Viruss, 6.4ms\n",
            "image 389/449 /content/Tomato-Leaf-Disease-Detection-6/test/images/collage_210_jpg.rf.658c7557ca2b6091c451be0e848f8c7e.jpg: 416x416 3 Early Blights, 2 Leaf Molds, 1 Septoria, 1 Yellow Leaf Curl Virus, 6.8ms\n",
            "image 390/449 /content/Tomato-Leaf-Disease-Detection-6/test/images/collage_213_jpg.rf.531b132c6de34d3414cede61601bb0cf.jpg: 416x416 1 Late Blight, 3 Leaf Miners, 1 Leaf Mold, 1 Mosaic Virus, 6.4ms\n",
            "image 391/449 /content/Tomato-Leaf-Disease-Detection-6/test/images/collage_229_jpg.rf.240b51055aab75a0630e369862ba3166.jpg: 416x416 1 Leaf Mold, 2 Spider Mitess, 3 Yellow Leaf Curl Viruss, 7.4ms\n",
            "image 392/449 /content/Tomato-Leaf-Disease-Detection-6/test/images/collage_268_jpg.rf.fa0a87ee859ba01a16e63c43d4c46e22.jpg: 416x416 1 Early Blight, 2 Leaf Molds, 1 Spider Mites, 8.4ms\n",
            "image 393/449 /content/Tomato-Leaf-Disease-Detection-6/test/images/collage_276_jpg.rf.90dbdbc73b535743abe72abab5ce5e77.jpg: 416x416 1 Early Blight, 1 Late Blight, 1 Leaf Mold, 1 Mosaic Virus, 1 Septoria, 1 Yellow Leaf Curl Virus, 7.0ms\n",
            "image 394/449 /content/Tomato-Leaf-Disease-Detection-6/test/images/collage_306_jpg.rf.73b746730c0eb364992f9e22fba768d4.jpg: 416x416 2 Mosaic Viruss, 1 Spider Mites, 2 Yellow Leaf Curl Viruss, 6.9ms\n",
            "image 395/449 /content/Tomato-Leaf-Disease-Detection-6/test/images/collage_320_jpg.rf.140a0a9608e63b7b48fe3b87ec9356c5.jpg: 416x416 1 Leaf Miner, 2 Leaf Molds, 1 Mosaic Virus, 6.3ms\n",
            "image 396/449 /content/Tomato-Leaf-Disease-Detection-6/test/images/collage_328_jpg.rf.8ab3e6fd79fb6990c6f985c7b0c915f2.jpg: 416x416 1 Early Blight, 1 Late Blight, 1 Leaf Mold, 2 Mosaic Viruss, 1 Yellow Leaf Curl Virus, 6.5ms\n",
            "image 397/449 /content/Tomato-Leaf-Disease-Detection-6/test/images/collage_369_jpg.rf.ba8b7e065d8794f4a6586328c99ce9af.jpg: 416x416 1 Early Blight, 2 Mosaic Viruss, 2 Yellow Leaf Curl Viruss, 6.5ms\n",
            "image 398/449 /content/Tomato-Leaf-Disease-Detection-6/test/images/collage_391_jpg.rf.e6d2bcdd225331ab96b68aab540a481c.jpg: 416x416 1 Early Blight, 1 Leaf Mold, 1 Mosaic Virus, 1 Yellow Leaf Curl Virus, 6.5ms\n",
            "image 399/449 /content/Tomato-Leaf-Disease-Detection-6/test/images/collage_392_jpg.rf.748e40ee5e6cd4c007c3dd0dfa5ad027.jpg: 416x416 2 Leaf Molds, 1 Mosaic Virus, 2 Yellow Leaf Curl Viruss, 6.5ms\n",
            "image 400/449 /content/Tomato-Leaf-Disease-Detection-6/test/images/collage_39_jpg.rf.8e55729a5ef82abda61c5170cde5f571.jpg: 416x416 1 Early Blight, 1 Late Blight, 1 Mosaic Virus, 1 Spider Mites, 2 Yellow Leaf Curl Viruss, 6.4ms\n",
            "image 401/449 /content/Tomato-Leaf-Disease-Detection-6/test/images/collage_400_jpg.rf.ffd16c658abf02a2645f7919e426c6b8.jpg: 416x416 1 Early Blight, 1 Late Blight, 1 Leaf Mold, 2 Mosaic Viruss, 6.6ms\n",
            "image 402/449 /content/Tomato-Leaf-Disease-Detection-6/test/images/collage_416_jpg.rf.a139d20db6ea50d0c26379112feddf9a.jpg: 416x416 1 Early Blight, 1 Late Blight, 2 Leaf Molds, 2 Yellow Leaf Curl Viruss, 6.4ms\n",
            "image 403/449 /content/Tomato-Leaf-Disease-Detection-6/test/images/collage_436_jpg.rf.cf9e28e1e09135032a1178be9fb4d8c7.jpg: 416x416 3 Early Blights, 1 Late Blight, 1 Septoria, 7.6ms\n",
            "image 404/449 /content/Tomato-Leaf-Disease-Detection-6/test/images/collage_476_jpg.rf.ea90f68a215e2a371e563faf12143229.jpg: 416x416 2 Early Blights, 2 Late Blights, 2 Leaf Molds, 1 Spider Mites, 6.7ms\n",
            "image 405/449 /content/Tomato-Leaf-Disease-Detection-6/test/images/collage_494_jpg.rf.023a5aeb373737c1b49b1778d0bd5766.jpg: 416x416 1 Early Blight, 1 Healthy, 1 Leaf Miner, 2 Leaf Molds, 1 Septoria, 6.2ms\n",
            "image 406/449 /content/Tomato-Leaf-Disease-Detection-6/test/images/collage_502_jpg.rf.c9383132a319190f78b89dde9cb539cd.jpg: 416x416 1 Healthy, 1 Leaf Miner, 2 Mosaic Viruss, 1 Septoria, 6.5ms\n",
            "image 407/449 /content/Tomato-Leaf-Disease-Detection-6/test/images/collage_54_jpg.rf.3770c39c12716ac3d453c8bbc489d703.jpg: 416x416 1 Healthy, 1 Late Blight, 3 Leaf Molds, 1 Mosaic Virus, 1 Septoria, 8.9ms\n",
            "image 408/449 /content/Tomato-Leaf-Disease-Detection-6/test/images/collage_55_jpg.rf.056253ae9412de04f7f9f7e19285132d.jpg: 416x416 3 Leaf Molds, 2 Mosaic Viruss, 6.5ms\n",
            "image 409/449 /content/Tomato-Leaf-Disease-Detection-6/test/images/collage_563_jpg.rf.01199c6a4558037530b757e7524e34dc.jpg: 416x416 1 Late Blight, 1 Mosaic Virus, 1 Spider Mites, 2 Yellow Leaf Curl Viruss, 7.4ms\n",
            "image 410/449 /content/Tomato-Leaf-Disease-Detection-6/test/images/collage_569_jpg.rf.2c88f2239d60a4c2edfff5efa41274cc.jpg: 416x416 3 Leaf Molds, 1 Mosaic Virus, 1 Spider Mites, 1 Yellow Leaf Curl Virus, 6.3ms\n",
            "image 411/449 /content/Tomato-Leaf-Disease-Detection-6/test/images/collage_588_jpg.rf.ca535aadba74f4886c359e7e625a10fc.jpg: 416x416 2 Early Blights, 2 Late Blights, 1 Mosaic Virus, 1 Spider Mites, 2 Yellow Leaf Curl Viruss, 6.4ms\n",
            "image 412/449 /content/Tomato-Leaf-Disease-Detection-6/test/images/collage_589_jpg.rf.91e303047443d2d17755f5abd51b6c72.jpg: 416x416 2 Early Blights, 2 Late Blights, 2 Mosaic Viruss, 8.2ms\n",
            "image 413/449 /content/Tomato-Leaf-Disease-Detection-6/test/images/collage_5_jpg.rf.959ea142fbab1ce547753584dfe2bb54.jpg: 416x416 1 Early Blight, 1 Mosaic Virus, 1 Septoria, 2 Yellow Leaf Curl Viruss, 7.0ms\n",
            "image 414/449 /content/Tomato-Leaf-Disease-Detection-6/test/images/collage_615_jpg.rf.d92a25e4d08770d8e7cc3bf283339d6b.jpg: 416x416 2 Early Blights, 1 Leaf Miner, 1 Septoria, 6.6ms\n",
            "image 415/449 /content/Tomato-Leaf-Disease-Detection-6/test/images/collage_672_jpg.rf.6a48fbec6290d30112de7c57f84f32e6.jpg: 416x416 1 Early Blight, 1 Late Blight, 2 Leaf Molds, 6.5ms\n",
            "image 416/449 /content/Tomato-Leaf-Disease-Detection-6/test/images/collage_673_jpg.rf.a04601db886c5bd39bcae94663211faf.jpg: 416x416 2 Early Blights, 2 Late Blights, 2 Leaf Molds, 1 Spider Mites, 10.6ms\n",
            "image 417/449 /content/Tomato-Leaf-Disease-Detection-6/test/images/collage_690_jpg.rf.edc0c83a33c0bd48a887843d766feae7.jpg: 416x416 1 Leaf Mold, 2 Mosaic Viruss, 1 Yellow Leaf Curl Virus, 11.0ms\n",
            "image 418/449 /content/Tomato-Leaf-Disease-Detection-6/test/images/collage_696_jpg.rf.f38477dda413e3875e2d9157e8965d31.jpg: 416x416 1 Early Blight, 1 Late Blight, 2 Spider Mitess, 1 Yellow Leaf Curl Virus, 6.4ms\n",
            "image 419/449 /content/Tomato-Leaf-Disease-Detection-6/test/images/collage_708_jpg.rf.600445b3be2c2ee13978b8d67f085b9e.jpg: 416x416 1 Late Blight, 1 Leaf Mold, 1 Mosaic Virus, 1 Septoria, 1 Yellow Leaf Curl Virus, 6.3ms\n",
            "image 420/449 /content/Tomato-Leaf-Disease-Detection-6/test/images/collage_726_jpg.rf.84f2a1f22e64b571f1807e4ed031dd39.jpg: 416x416 1 Healthy, 1 Late Blight, 3 Leaf Miners, 1 Leaf Mold, 1 Spider Mites, 2 Yellow Leaf Curl Viruss, 8.5ms\n",
            "image 421/449 /content/Tomato-Leaf-Disease-Detection-6/test/images/collage_728_jpg.rf.7fa042dbcbfe427ec9cae1262d5f62a4.jpg: 416x416 1 Early Blight, 1 Late Blight, 3 Leaf Miners, 1 Mosaic Virus, 1 Septoria, 1 Yellow Leaf Curl Virus, 8.5ms\n",
            "image 422/449 /content/Tomato-Leaf-Disease-Detection-6/test/images/collage_745_jpg.rf.cc29918f3ff33c0e01c78928a8eb82ce.jpg: 416x416 3 Early Blights, 1 Mosaic Virus, 6.4ms\n",
            "image 423/449 /content/Tomato-Leaf-Disease-Detection-6/test/images/collage_756_jpg.rf.a226bfc2f21ba6f16017d674b11c45b7.jpg: 416x416 2 Early Blights, 1 Mosaic Virus, 1 Septoria, 2 Yellow Leaf Curl Viruss, 6.5ms\n",
            "image 424/449 /content/Tomato-Leaf-Disease-Detection-6/test/images/collage_782_jpg.rf.21f5e7e5b26dfce25bf408cac2712c98.jpg: 416x416 3 Leaf Miners, 1 Leaf Mold, 1 Mosaic Virus, 1 Spider Mites, 1 Yellow Leaf Curl Virus, 6.6ms\n",
            "image 425/449 /content/Tomato-Leaf-Disease-Detection-6/test/images/collage_789_jpg.rf.c4bfc0add35924b04d672fb4aeae9466.jpg: 416x416 1 Leaf Miner, 1 Leaf Mold, 1 Septoria, 1 Spider Mites, 1 Yellow Leaf Curl Virus, 6.7ms\n",
            "image 426/449 /content/Tomato-Leaf-Disease-Detection-6/test/images/collage_812_jpg.rf.acae9abd8c7f32c6191fcf173da7a72e.jpg: 416x416 4 Leaf Miners, 1 Mosaic Virus, 1 Septoria, 6.5ms\n",
            "image 427/449 /content/Tomato-Leaf-Disease-Detection-6/test/images/collage_818_jpg.rf.7a804ef0fd5fa2cd0b0d43cf9856e3b3.jpg: 416x416 1 Early Blight, 1 Late Blight, 1 Leaf Mold, 1 Spider Mites, 1 Yellow Leaf Curl Virus, 6.6ms\n",
            "image 428/449 /content/Tomato-Leaf-Disease-Detection-6/test/images/collage_845_jpg.rf.6a0fd5bbec3bb62d36e1965d61bbf2b0.jpg: 416x416 1 Late Blight, 1 Septoria, 1 Spider Mites, 2 Yellow Leaf Curl Viruss, 6.6ms\n",
            "image 429/449 /content/Tomato-Leaf-Disease-Detection-6/test/images/collage_869_jpg.rf.169b7d9d4ea1b13d4c9a02d8ebebc44b.jpg: 416x416 2 Early Blights, 2 Late Blights, 1 Mosaic Virus, 6.9ms\n",
            "image 430/449 /content/Tomato-Leaf-Disease-Detection-6/test/images/collage_86_jpg.rf.52a06256681882f4c1b9eb3439a1260e.jpg: 416x416 1 Early Blight, 1 Late Blight, 1 Leaf Miner, 1 Mosaic Virus, 6.8ms\n",
            "image 431/449 /content/Tomato-Leaf-Disease-Detection-6/test/images/collage_885_jpg.rf.71568bb8350b36faf904becf4eb25a22.jpg: 416x416 1 Early Blight, 1 Late Blight, 1 Leaf Mold, 1 Mosaic Virus, 1 Yellow Leaf Curl Virus, 6.4ms\n",
            "image 432/449 /content/Tomato-Leaf-Disease-Detection-6/test/images/collage_985_jpg.rf.be91759c669cccd5aff26e40cbd65403.jpg: 416x416 1 Early Blight, 1 Late Blight, 1 Leaf Miner, 1 Septoria, 6.6ms\n",
            "image 433/449 /content/Tomato-Leaf-Disease-Detection-6/test/images/concentric-rings-with-chlorotic-and-necrotic-patches_jpg.rf.a74e6ad4883ae4490c59a0accfe3d70b.jpg: 416x416 3 Early Blights, 1 Healthy, 2 Leaf Miners, 1 Leaf Mold, 1 Septoria, 8.1ms\n",
            "image 434/449 /content/Tomato-Leaf-Disease-Detection-6/test/images/dscn3175_jpg.rf.85ea18eafee388393cea48d158354634.jpg: 416x416 1 Leaf Miner, 6.7ms\n",
            "image 435/449 /content/Tomato-Leaf-Disease-Detection-6/test/images/early-blight-potato-1667577101_jpg.rf.db4b825ac6fb5fcbab15f62cf903f65e.jpg: 416x416 3 Healthys, 2 Leaf Miners, 6.6ms\n",
            "image 436/449 /content/Tomato-Leaf-Disease-Detection-6/test/images/early_blight1-150x150_jpg.rf.dd2b215498ffaaa38741c6f8f247d1ea.jpg: 416x416 1 Early Blight, 1 Late Blight, 1 Leaf Miner, 6.7ms\n",
            "image 437/449 /content/Tomato-Leaf-Disease-Detection-6/test/images/fwa2013313115151_jpg.rf.594bc4b4afe2af83bf3263b9a0c7db3d.jpg: 416x416 1 Healthy, 8 Yellow Leaf Curl Viruss, 6.8ms\n",
            "image 438/449 /content/Tomato-Leaf-Disease-Detection-6/test/images/iPhone_690c0_IMG_8738_PNG_jpg.rf.60a7a9ea86051e4e99da65d551302714.jpg: 416x416 1 Healthy, 1 Leaf Miner, 6.6ms\n",
            "image 439/449 /content/Tomato-Leaf-Disease-Detection-6/test/images/iPhone_690c0_IMG_8752_PNG_jpg.rf.65130ce021d34d79ef7d76227da31933.jpg: 416x416 2 Leaf Miners, 6.5ms\n",
            "image 440/449 /content/Tomato-Leaf-Disease-Detection-6/test/images/iPhone_690c0_IMG_8827_PNG.rf.8c6f42063c779b17e5c8c63f176be584.jpg: 416x416 1 Early Blight, 1 Leaf Miner, 6.6ms\n",
            "image 441/449 /content/Tomato-Leaf-Disease-Detection-6/test/images/iPhone_690c0_IMG_8845_PNG.rf.584ed82009a95b2f7f63eabe245ce74e.jpg: 416x416 1 Leaf Miner, 6.7ms\n",
            "image 442/449 /content/Tomato-Leaf-Disease-Detection-6/test/images/iPhone_690c0_IMG_8856_PNG.rf.2ac88c53a23d14da158660886298023b.jpg: 416x416 1 Leaf Mold, 20 Yellow Leaf Curl Viruss, 7.8ms\n",
            "image 443/449 /content/Tomato-Leaf-Disease-Detection-6/test/images/image-3b31FByxo-transformed_png.rf.3bdd47b648a73e023b5d0fece502a321.jpg: 416x416 1 Healthy, 3 Leaf Miners, 6.5ms\n",
            "image 444/449 /content/Tomato-Leaf-Disease-Detection-6/test/images/image-5QWBJOcre-transformed_png.rf.1301992aef512450337a180559106c26.jpg: 416x416 4 Early Blights, 2 Healthys, 6.4ms\n",
            "image 445/449 /content/Tomato-Leaf-Disease-Detection-6/test/images/leafmold_jpg.rf.0e704de4eda07eef4567f1daee4d6e34.jpg: 416x416 1 Leaf Mold, 7.3ms\n",
            "image 446/449 /content/Tomato-Leaf-Disease-Detection-6/test/images/p1020083cs_jpg.rf.8a578194013a8a5b4d618d8e11e27ac1.jpg: 416x416 1 Early Blight, 5 Leaf Miners, 9.0ms\n",
            "image 447/449 /content/Tomato-Leaf-Disease-Detection-6/test/images/potato-early-blight-alternaria-alternata-discreet-lesions-on-a-potato-BY651F_jpg_rf_eb0896a66be2c6acf481fb42731f0b23-3sZ0Ci7Ha-transformed_jpeg.rf.1b5ef51d7bc51de0de2be994882ddf53.jpg: 416x416 1 Early Blight, 6.5ms\n",
            "image 448/449 /content/Tomato-Leaf-Disease-Detection-6/test/images/potato_late-blight_07_zoom_jpg.rf.97bcb4d54ef4bfebb8b673168763019f.jpg: 416x416 1 Leaf Miner, 6.9ms\n",
            "image 449/449 /content/Tomato-Leaf-Disease-Detection-6/test/images/tomato_early-blight_01_zoom_jpg.rf.f37da36c7faa56a1b365f5e8ecd7a579.jpg: 416x416 4 Early Blights, 1 Late Blight, 7.5ms\n",
            "Speed: 3.5ms preprocess, 18.4ms inference, 3.3ms postprocess per image at shape (1, 3, 416, 416)\n",
            "Results saved to \u001b[1mruns/detect/predict\u001b[0m\n"
          ]
        }
      ]
    },
    {
      "cell_type": "code",
      "source": [],
      "metadata": {
        "id": "uWBU1Vox-_uT"
      },
      "execution_count": null,
      "outputs": []
    },
    {
      "cell_type": "code",
      "source": [],
      "metadata": {
        "id": "FJbDts96ZW5r"
      },
      "execution_count": null,
      "outputs": []
    },
    {
      "cell_type": "code",
      "source": [
        "# ✅ 1 — Put this at the top BEFORE importing TF\n",
        "import os\n",
        "os.environ[\"CUDA_VISIBLE_DEVICES\"] = \"-1\"\n",
        "\n",
        "# ✅ 2 — Now import TF\n",
        "import tensorflow as tf\n",
        "print(\"TF sees GPU:\", tf.config.list_physical_devices('GPU'))  # should print []\n",
        "\n",
        "# ✅ 3 — Safe to build model\n",
        "from tensorflow.keras.applications import ResNet50V2\n",
        "from tensorflow.keras.models import Model\n",
        "from tensorflow.keras.layers import GlobalAveragePooling2D\n",
        "from tensorflow.keras.preprocessing import image\n",
        "from tensorflow.keras.applications.resnet_v2 import preprocess_input\n",
        "import numpy as np\n",
        "\n",
        "# ✅ 4 — Model\n",
        "resnet_base = ResNet50V2(weights='imagenet', include_top=False, input_shape=(224, 224, 3))\n",
        "feature_model = Model(inputs=resnet_base.input, outputs=resnet_base.output)\n",
        "\n",
        "# ✅ 5 — Image\n",
        "img_path = '/content/runs/detect/predict/310195_20210914_2_2_b6_3_2_12_1_37_jpg.rf.bc470733ff6750424a01c27555e1a66f.jpg'\n",
        "img = image.load_img(img_path, target_size=(224, 224))\n",
        "x = image.img_to_array(img)\n",
        "x = np.expand_dims(x, axis=0)\n",
        "x = preprocess_input(x)\n",
        "\n",
        "# ✅ 6 — Extract feature (CPU only)\n",
        "features = feature_model.predict(x)\n",
        "print(\"Feature shape:\", features.shape)\n",
        "\n",
        "\n"
      ],
      "metadata": {
        "colab": {
          "base_uri": "https://localhost:8080/"
        },
        "id": "4VG4fcj62ACb",
        "outputId": "00f70bc4-322c-4d2a-f2c3-b68fe10497be"
      },
      "execution_count": null,
      "outputs": [
        {
          "output_type": "stream",
          "name": "stdout",
          "text": [
            "TF sees GPU: []\n",
            "Downloading data from https://storage.googleapis.com/tensorflow/keras-applications/resnet/resnet50v2_weights_tf_dim_ordering_tf_kernels_notop.h5\n",
            "\u001b[1m94668760/94668760\u001b[0m \u001b[32m━━━━━━━━━━━━━━━━━━━━\u001b[0m\u001b[37m\u001b[0m \u001b[1m5s\u001b[0m 0us/step\n",
            "\u001b[1m1/1\u001b[0m \u001b[32m━━━━━━━━━━━━━━━━━━━━\u001b[0m\u001b[37m\u001b[0m \u001b[1m2s\u001b[0m 2s/step\n",
            "Feature shape: (1, 7, 7, 2048)\n"
          ]
        }
      ]
    },
    {
      "cell_type": "code",
      "source": [],
      "metadata": {
        "id": "mBRM2K6qjPqs"
      },
      "execution_count": null,
      "outputs": []
    },
    {
      "cell_type": "code",
      "source": [
        "import tensorflow as tf\n",
        "gap = tf.keras.layers.GlobalAveragePooling2D()(features)\n",
        "gap = tf.reshape(gap, (1, 1, 1, 2048))\n",
        "print(\"Final 1×1×2048 vector:\", gap.shape)\n",
        "print(gap.numpy())  # View actual vector"
      ],
      "metadata": {
        "id": "LiGvAASdNxPB",
        "colab": {
          "base_uri": "https://localhost:8080/"
        },
        "outputId": "3e56c2f0-e786-4479-abb7-250316fa37ed"
      },
      "execution_count": null,
      "outputs": [
        {
          "output_type": "stream",
          "name": "stdout",
          "text": [
            "Final 1×1×2048 vector: (1, 1, 1, 2048)\n",
            "[[[[0.52821255 0.00263148 0.73378646 ... 0.00665729 0.920653\n",
            "    1.8578216 ]]]]\n"
          ]
        }
      ]
    },
    {
      "cell_type": "code",
      "source": [],
      "metadata": {
        "id": "1P2LZr98NxMg"
      },
      "execution_count": null,
      "outputs": []
    },
    {
      "cell_type": "code",
      "source": [],
      "metadata": {
        "id": "mLB2qmn0qFPs"
      },
      "execution_count": null,
      "outputs": []
    },
    {
      "cell_type": "code",
      "source": [
        "from tensorflow.keras.applications import EfficientNetB0\n",
        "from tensorflow.keras.preprocessing import image\n",
        "from tensorflow.keras.applications.efficientnet import preprocess_input\n",
        "from tensorflow.keras.models import Model\n",
        "import numpy as np\n",
        "import tensorflow as tf\n",
        "import os"
      ],
      "metadata": {
        "id": "5Cyk_UvRqFfk"
      },
      "execution_count": null,
      "outputs": []
    },
    {
      "cell_type": "code",
      "source": [
        "efficientnet_base = EfficientNetB0(weights='imagenet', include_top=False, input_shape=(224, 224, 3))"
      ],
      "metadata": {
        "id": "8n9IOfi7qFmX",
        "colab": {
          "base_uri": "https://localhost:8080/"
        },
        "outputId": "9347f833-5475-4e1a-d479-c0dd45471285"
      },
      "execution_count": null,
      "outputs": [
        {
          "output_type": "stream",
          "name": "stdout",
          "text": [
            "Downloading data from https://storage.googleapis.com/keras-applications/efficientnetb0_notop.h5\n",
            "\u001b[1m16705208/16705208\u001b[0m \u001b[32m━━━━━━━━━━━━━━━━━━━━\u001b[0m\u001b[37m\u001b[0m \u001b[1m2s\u001b[0m 0us/step\n"
          ]
        }
      ]
    },
    {
      "cell_type": "code",
      "source": [
        "feature_model = Model(inputs=efficientnet_base.input, outputs=efficientnet_base.output)"
      ],
      "metadata": {
        "id": "kHQmpreiNw-3"
      },
      "execution_count": null,
      "outputs": []
    },
    {
      "cell_type": "code",
      "source": [
        "img_path = \"/content/runs/detect/predict/310195_20210914_2_2_b6_3_2_12_1_37_jpg.rf.bc470733ff6750424a01c27555e1a66f.jpg\"\n",
        "img = image.load_img(img_path, target_size=(224, 224))\n",
        "x = image.img_to_array(img)\n",
        "x = np.expand_dims(x, axis=0)\n",
        "x = preprocess_input(x)\n"
      ],
      "metadata": {
        "id": "MmFa4m57qWNU"
      },
      "execution_count": null,
      "outputs": []
    },
    {
      "cell_type": "code",
      "source": [
        "features = feature_model.predict(x)\n",
        "print(\"Feature shape (before pooling):\", features.shape)"
      ],
      "metadata": {
        "colab": {
          "base_uri": "https://localhost:8080/"
        },
        "id": "I8aMK3l7qWQq",
        "outputId": "183f9f53-8f99-4069-b73b-bd3303b72743"
      },
      "execution_count": null,
      "outputs": [
        {
          "output_type": "stream",
          "name": "stdout",
          "text": [
            "\u001b[1m1/1\u001b[0m \u001b[32m━━━━━━━━━━━━━━━━━━━━\u001b[0m\u001b[37m\u001b[0m \u001b[1m2s\u001b[0m 2s/step\n",
            "Feature shape (before pooling): (1, 7, 7, 1280)\n"
          ]
        }
      ]
    },
    {
      "cell_type": "code",
      "source": [
        "gap = tf.keras.layers.GlobalAveragePooling2D()(features)\n",
        "gap = tf.reshape(gap, (1, 1, 1, 1280))\n",
        "print(\"Final 1×1×1280 vector:\", gap.shape)"
      ],
      "metadata": {
        "colab": {
          "base_uri": "https://localhost:8080/"
        },
        "id": "ySdCKUv-qi2E",
        "outputId": "deae58cb-b45b-4b04-b2ec-af0e794517b8"
      },
      "execution_count": null,
      "outputs": [
        {
          "output_type": "stream",
          "name": "stdout",
          "text": [
            "Final 1×1×1280 vector: (1, 1, 1, 1280)\n"
          ]
        }
      ]
    },
    {
      "cell_type": "code",
      "source": [
        "print(gap.numpy())"
      ],
      "metadata": {
        "colab": {
          "base_uri": "https://localhost:8080/"
        },
        "id": "ayfonIfrqnjh",
        "outputId": "5afabc9a-0a4d-4709-bb8c-06e5df9b5319"
      },
      "execution_count": null,
      "outputs": [
        {
          "output_type": "stream",
          "name": "stdout",
          "text": [
            "[[[[ 0.5070625   0.13493209 -0.06485237 ... -0.06274242 -0.05780284\n",
            "     0.20416996]]]]\n"
          ]
        }
      ]
    },
    {
      "cell_type": "code",
      "source": [],
      "metadata": {
        "id": "C1ywFesVVORn"
      },
      "execution_count": null,
      "outputs": []
    },
    {
      "cell_type": "code",
      "source": [],
      "metadata": {
        "id": "JqqAwpVeWpjt"
      },
      "execution_count": null,
      "outputs": []
    },
    {
      "cell_type": "code",
      "source": [
        "# Install required packages\n",
        "!pip install ultralytics roboflow tensorflow\n",
        "\n",
        "import os\n",
        "import numpy as np\n",
        "import tensorflow as tf\n",
        "from tensorflow.keras.applications import ResNet50V2, EfficientNetB0\n",
        "from tensorflow.keras.models import Model\n",
        "from tensorflow.keras.preprocessing import image\n",
        "from tensorflow.keras.applications.resnet_v2 import preprocess_input\n",
        "from tensorflow.keras.applications.efficientnet import preprocess_input as eff_preprocess\n",
        "from sklearn.ensemble import RandomForestClassifier\n",
        "from sklearn.model_selection import train_test_split\n",
        "from sklearn.metrics import accuracy_score, classification_report\n",
        "import glob\n",
        "import yaml\n",
        "\n",
        "# Force CPU usage to avoid GPU memory issues\n",
        "os.environ[\"CUDA_VISIBLE_DEVICES\"] = \"-1\"\n",
        "print(\"Using CPU for TensorFlow\")\n"
      ],
      "metadata": {
        "colab": {
          "base_uri": "https://localhost:8080/"
        },
        "id": "_FR7dyWtWpfX",
        "outputId": "83d38d92-29af-461c-bffe-d910fcd2b8a1"
      },
      "execution_count": null,
      "outputs": [
        {
          "output_type": "stream",
          "name": "stdout",
          "text": [
            "Requirement already satisfied: ultralytics in /usr/local/lib/python3.11/dist-packages (8.3.168)\n",
            "Requirement already satisfied: roboflow in /usr/local/lib/python3.11/dist-packages (1.2.1)\n",
            "Requirement already satisfied: tensorflow in /usr/local/lib/python3.11/dist-packages (2.18.0)\n",
            "Requirement already satisfied: numpy>=1.23.0 in /usr/local/lib/python3.11/dist-packages (from ultralytics) (2.0.2)\n",
            "Requirement already satisfied: matplotlib>=3.3.0 in /usr/local/lib/python3.11/dist-packages (from ultralytics) (3.10.0)\n",
            "Requirement already satisfied: opencv-python>=4.6.0 in /usr/local/lib/python3.11/dist-packages (from ultralytics) (4.11.0.86)\n",
            "Requirement already satisfied: pillow>=7.1.2 in /usr/local/lib/python3.11/dist-packages (from ultralytics) (11.2.1)\n",
            "Requirement already satisfied: pyyaml>=5.3.1 in /usr/local/lib/python3.11/dist-packages (from ultralytics) (6.0.2)\n",
            "Requirement already satisfied: requests>=2.23.0 in /usr/local/lib/python3.11/dist-packages (from ultralytics) (2.32.3)\n",
            "Requirement already satisfied: scipy>=1.4.1 in /usr/local/lib/python3.11/dist-packages (from ultralytics) (1.15.3)\n",
            "Requirement already satisfied: torch>=1.8.0 in /usr/local/lib/python3.11/dist-packages (from ultralytics) (2.6.0+cu124)\n",
            "Requirement already satisfied: torchvision>=0.9.0 in /usr/local/lib/python3.11/dist-packages (from ultralytics) (0.21.0+cu124)\n",
            "Requirement already satisfied: tqdm>=4.64.0 in /usr/local/lib/python3.11/dist-packages (from ultralytics) (4.67.1)\n",
            "Requirement already satisfied: psutil in /usr/local/lib/python3.11/dist-packages (from ultralytics) (5.9.5)\n",
            "Requirement already satisfied: py-cpuinfo in /usr/local/lib/python3.11/dist-packages (from ultralytics) (9.0.0)\n",
            "Requirement already satisfied: pandas>=1.1.4 in /usr/local/lib/python3.11/dist-packages (from ultralytics) (2.2.2)\n",
            "Requirement already satisfied: ultralytics-thop>=2.0.0 in /usr/local/lib/python3.11/dist-packages (from ultralytics) (2.0.14)\n",
            "Requirement already satisfied: certifi in /usr/local/lib/python3.11/dist-packages (from roboflow) (2025.7.14)\n",
            "Requirement already satisfied: idna==3.7 in /usr/local/lib/python3.11/dist-packages (from roboflow) (3.7)\n",
            "Requirement already satisfied: cycler in /usr/local/lib/python3.11/dist-packages (from roboflow) (0.12.1)\n",
            "Requirement already satisfied: kiwisolver>=1.3.1 in /usr/local/lib/python3.11/dist-packages (from roboflow) (1.4.8)\n",
            "Requirement already satisfied: opencv-python-headless==4.10.0.84 in /usr/local/lib/python3.11/dist-packages (from roboflow) (4.10.0.84)\n",
            "Requirement already satisfied: pillow-heif<2 in /usr/local/lib/python3.11/dist-packages (from roboflow) (1.0.0)\n",
            "Requirement already satisfied: pillow-avif-plugin<2 in /usr/local/lib/python3.11/dist-packages (from roboflow) (1.5.2)\n",
            "Requirement already satisfied: python-dateutil in /usr/local/lib/python3.11/dist-packages (from roboflow) (2.9.0.post0)\n",
            "Requirement already satisfied: python-dotenv in /usr/local/lib/python3.11/dist-packages (from roboflow) (1.1.1)\n",
            "Requirement already satisfied: six in /usr/local/lib/python3.11/dist-packages (from roboflow) (1.17.0)\n",
            "Requirement already satisfied: urllib3>=1.26.6 in /usr/local/lib/python3.11/dist-packages (from roboflow) (2.4.0)\n",
            "Requirement already satisfied: requests-toolbelt in /usr/local/lib/python3.11/dist-packages (from roboflow) (1.0.0)\n",
            "Requirement already satisfied: filetype in /usr/local/lib/python3.11/dist-packages (from roboflow) (1.2.0)\n",
            "Requirement already satisfied: absl-py>=1.0.0 in /usr/local/lib/python3.11/dist-packages (from tensorflow) (1.4.0)\n",
            "Requirement already satisfied: astunparse>=1.6.0 in /usr/local/lib/python3.11/dist-packages (from tensorflow) (1.6.3)\n",
            "Requirement already satisfied: flatbuffers>=24.3.25 in /usr/local/lib/python3.11/dist-packages (from tensorflow) (25.2.10)\n",
            "Requirement already satisfied: gast!=0.5.0,!=0.5.1,!=0.5.2,>=0.2.1 in /usr/local/lib/python3.11/dist-packages (from tensorflow) (0.6.0)\n",
            "Requirement already satisfied: google-pasta>=0.1.1 in /usr/local/lib/python3.11/dist-packages (from tensorflow) (0.2.0)\n",
            "Requirement already satisfied: libclang>=13.0.0 in /usr/local/lib/python3.11/dist-packages (from tensorflow) (18.1.1)\n",
            "Requirement already satisfied: opt-einsum>=2.3.2 in /usr/local/lib/python3.11/dist-packages (from tensorflow) (3.4.0)\n",
            "Requirement already satisfied: packaging in /usr/local/lib/python3.11/dist-packages (from tensorflow) (25.0)\n",
            "Requirement already satisfied: protobuf!=4.21.0,!=4.21.1,!=4.21.2,!=4.21.3,!=4.21.4,!=4.21.5,<6.0.0dev,>=3.20.3 in /usr/local/lib/python3.11/dist-packages (from tensorflow) (5.29.5)\n",
            "Requirement already satisfied: setuptools in /usr/local/lib/python3.11/dist-packages (from tensorflow) (75.2.0)\n",
            "Requirement already satisfied: termcolor>=1.1.0 in /usr/local/lib/python3.11/dist-packages (from tensorflow) (3.1.0)\n",
            "Requirement already satisfied: typing-extensions>=3.6.6 in /usr/local/lib/python3.11/dist-packages (from tensorflow) (4.14.1)\n",
            "Requirement already satisfied: wrapt>=1.11.0 in /usr/local/lib/python3.11/dist-packages (from tensorflow) (1.17.2)\n",
            "Requirement already satisfied: grpcio<2.0,>=1.24.3 in /usr/local/lib/python3.11/dist-packages (from tensorflow) (1.73.1)\n",
            "Requirement already satisfied: tensorboard<2.19,>=2.18 in /usr/local/lib/python3.11/dist-packages (from tensorflow) (2.18.0)\n",
            "Requirement already satisfied: keras>=3.5.0 in /usr/local/lib/python3.11/dist-packages (from tensorflow) (3.8.0)\n",
            "Requirement already satisfied: h5py>=3.11.0 in /usr/local/lib/python3.11/dist-packages (from tensorflow) (3.14.0)\n",
            "Requirement already satisfied: ml-dtypes<0.5.0,>=0.4.0 in /usr/local/lib/python3.11/dist-packages (from tensorflow) (0.4.1)\n",
            "Requirement already satisfied: tensorflow-io-gcs-filesystem>=0.23.1 in /usr/local/lib/python3.11/dist-packages (from tensorflow) (0.37.1)\n",
            "Requirement already satisfied: wheel<1.0,>=0.23.0 in /usr/local/lib/python3.11/dist-packages (from astunparse>=1.6.0->tensorflow) (0.45.1)\n",
            "Requirement already satisfied: rich in /usr/local/lib/python3.11/dist-packages (from keras>=3.5.0->tensorflow) (13.9.4)\n",
            "Requirement already satisfied: namex in /usr/local/lib/python3.11/dist-packages (from keras>=3.5.0->tensorflow) (0.1.0)\n",
            "Requirement already satisfied: optree in /usr/local/lib/python3.11/dist-packages (from keras>=3.5.0->tensorflow) (0.16.0)\n",
            "Requirement already satisfied: contourpy>=1.0.1 in /usr/local/lib/python3.11/dist-packages (from matplotlib>=3.3.0->ultralytics) (1.3.2)\n",
            "Requirement already satisfied: fonttools>=4.22.0 in /usr/local/lib/python3.11/dist-packages (from matplotlib>=3.3.0->ultralytics) (4.58.5)\n",
            "Requirement already satisfied: pyparsing>=2.3.1 in /usr/local/lib/python3.11/dist-packages (from matplotlib>=3.3.0->ultralytics) (3.2.3)\n",
            "Requirement already satisfied: pytz>=2020.1 in /usr/local/lib/python3.11/dist-packages (from pandas>=1.1.4->ultralytics) (2025.2)\n",
            "Requirement already satisfied: tzdata>=2022.7 in /usr/local/lib/python3.11/dist-packages (from pandas>=1.1.4->ultralytics) (2025.2)\n",
            "Requirement already satisfied: charset-normalizer<4,>=2 in /usr/local/lib/python3.11/dist-packages (from requests>=2.23.0->ultralytics) (3.4.2)\n",
            "Requirement already satisfied: markdown>=2.6.8 in /usr/local/lib/python3.11/dist-packages (from tensorboard<2.19,>=2.18->tensorflow) (3.8.2)\n",
            "Requirement already satisfied: tensorboard-data-server<0.8.0,>=0.7.0 in /usr/local/lib/python3.11/dist-packages (from tensorboard<2.19,>=2.18->tensorflow) (0.7.2)\n",
            "Requirement already satisfied: werkzeug>=1.0.1 in /usr/local/lib/python3.11/dist-packages (from tensorboard<2.19,>=2.18->tensorflow) (3.1.3)\n",
            "Requirement already satisfied: filelock in /usr/local/lib/python3.11/dist-packages (from torch>=1.8.0->ultralytics) (3.18.0)\n",
            "Requirement already satisfied: networkx in /usr/local/lib/python3.11/dist-packages (from torch>=1.8.0->ultralytics) (3.5)\n",
            "Requirement already satisfied: jinja2 in /usr/local/lib/python3.11/dist-packages (from torch>=1.8.0->ultralytics) (3.1.6)\n",
            "Requirement already satisfied: fsspec in /usr/local/lib/python3.11/dist-packages (from torch>=1.8.0->ultralytics) (2025.3.2)\n",
            "Requirement already satisfied: nvidia-cuda-nvrtc-cu12==12.4.127 in /usr/local/lib/python3.11/dist-packages (from torch>=1.8.0->ultralytics) (12.4.127)\n",
            "Requirement already satisfied: nvidia-cuda-runtime-cu12==12.4.127 in /usr/local/lib/python3.11/dist-packages (from torch>=1.8.0->ultralytics) (12.4.127)\n",
            "Requirement already satisfied: nvidia-cuda-cupti-cu12==12.4.127 in /usr/local/lib/python3.11/dist-packages (from torch>=1.8.0->ultralytics) (12.4.127)\n",
            "Requirement already satisfied: nvidia-cudnn-cu12==9.1.0.70 in /usr/local/lib/python3.11/dist-packages (from torch>=1.8.0->ultralytics) (9.1.0.70)\n",
            "Requirement already satisfied: nvidia-cublas-cu12==12.4.5.8 in /usr/local/lib/python3.11/dist-packages (from torch>=1.8.0->ultralytics) (12.4.5.8)\n",
            "Requirement already satisfied: nvidia-cufft-cu12==11.2.1.3 in /usr/local/lib/python3.11/dist-packages (from torch>=1.8.0->ultralytics) (11.2.1.3)\n",
            "Requirement already satisfied: nvidia-curand-cu12==10.3.5.147 in /usr/local/lib/python3.11/dist-packages (from torch>=1.8.0->ultralytics) (10.3.5.147)\n",
            "Requirement already satisfied: nvidia-cusolver-cu12==11.6.1.9 in /usr/local/lib/python3.11/dist-packages (from torch>=1.8.0->ultralytics) (11.6.1.9)\n",
            "Requirement already satisfied: nvidia-cusparse-cu12==12.3.1.170 in /usr/local/lib/python3.11/dist-packages (from torch>=1.8.0->ultralytics) (12.3.1.170)\n",
            "Requirement already satisfied: nvidia-cusparselt-cu12==0.6.2 in /usr/local/lib/python3.11/dist-packages (from torch>=1.8.0->ultralytics) (0.6.2)\n",
            "Requirement already satisfied: nvidia-nccl-cu12==2.21.5 in /usr/local/lib/python3.11/dist-packages (from torch>=1.8.0->ultralytics) (2.21.5)\n",
            "Requirement already satisfied: nvidia-nvtx-cu12==12.4.127 in /usr/local/lib/python3.11/dist-packages (from torch>=1.8.0->ultralytics) (12.4.127)\n",
            "Requirement already satisfied: nvidia-nvjitlink-cu12==12.4.127 in /usr/local/lib/python3.11/dist-packages (from torch>=1.8.0->ultralytics) (12.4.127)\n",
            "Requirement already satisfied: triton==3.2.0 in /usr/local/lib/python3.11/dist-packages (from torch>=1.8.0->ultralytics) (3.2.0)\n",
            "Requirement already satisfied: sympy==1.13.1 in /usr/local/lib/python3.11/dist-packages (from torch>=1.8.0->ultralytics) (1.13.1)\n",
            "Requirement already satisfied: mpmath<1.4,>=1.1.0 in /usr/local/lib/python3.11/dist-packages (from sympy==1.13.1->torch>=1.8.0->ultralytics) (1.3.0)\n",
            "Requirement already satisfied: MarkupSafe>=2.1.1 in /usr/local/lib/python3.11/dist-packages (from werkzeug>=1.0.1->tensorboard<2.19,>=2.18->tensorflow) (3.0.2)\n",
            "Requirement already satisfied: markdown-it-py>=2.2.0 in /usr/local/lib/python3.11/dist-packages (from rich->keras>=3.5.0->tensorflow) (3.0.0)\n",
            "Requirement already satisfied: pygments<3.0.0,>=2.13.0 in /usr/local/lib/python3.11/dist-packages (from rich->keras>=3.5.0->tensorflow) (2.19.2)\n",
            "Requirement already satisfied: mdurl~=0.1 in /usr/local/lib/python3.11/dist-packages (from markdown-it-py>=2.2.0->rich->keras>=3.5.0->tensorflow) (0.1.2)\n",
            "Using CPU for TensorFlow\n"
          ]
        }
      ]
    },
    {
      "cell_type": "code",
      "source": [
        "# Load models with optimization\n",
        "def load_feature_extractors():\n",
        "    \"\"\"Load and prepare feature extraction models\"\"\"\n",
        "\n",
        "    print(\"Loading ResNet50V2...\")\n",
        "    resnet_base = ResNet50V2(weights='imagenet', include_top=False, input_shape=(224, 224, 3))\n",
        "    resnet_model = Model(inputs=resnet_base.input, outputs=resnet_base.output)\n",
        "\n",
        "    print(\"Loading EfficientNetB0...\")\n",
        "    efficient_base = EfficientNetB0(weights='imagenet', include_top=False, input_shape=(224, 224, 3))\n",
        "    efficient_model = Model(inputs=efficient_base.input, outputs=efficient_base.output)\n",
        "\n",
        "    return resnet_model, efficient_model\n",
        "\n",
        "# Load models\n",
        "resnet_model, efficient_model = load_feature_extractors()\n"
      ],
      "metadata": {
        "colab": {
          "base_uri": "https://localhost:8080/"
        },
        "id": "xDM5zfGpWv6h",
        "outputId": "82335fee-783f-4722-ef94-0e613ba92718"
      },
      "execution_count": null,
      "outputs": [
        {
          "output_type": "stream",
          "name": "stdout",
          "text": [
            "Loading ResNet50V2...\n",
            "Loading EfficientNetB0...\n"
          ]
        }
      ]
    },
    {
      "cell_type": "code",
      "source": [
        "def extract_features_batch(image_paths, batch_size=5):\n",
        "    \"\"\"Extract features in small batches to avoid memory issues\"\"\"\n",
        "\n",
        "    all_resnet_features = []\n",
        "    all_efficient_features = []\n",
        "\n",
        "    total_images = len(image_paths)\n",
        "    print(f\"Processing {total_images} images in batches of {batch_size}\")\n",
        "\n",
        "    for i in range(0, total_images, batch_size):\n",
        "        batch_paths = image_paths[i:i+batch_size]\n",
        "\n",
        "        print(f\"Processing batch {i//batch_size + 1}/{(total_images-1)//batch_size + 1}\")\n",
        "\n",
        "        # Process batch\n",
        "        batch_images = []\n",
        "        valid_paths = []\n",
        "\n",
        "        for img_path in batch_paths:\n",
        "            try:\n",
        "                img = image.load_img(img_path, target_size=(224, 224))\n",
        "                img_array = image.img_to_array(img)\n",
        "                batch_images.append(img_array)\n",
        "                valid_paths.append(img_path)\n",
        "            except Exception as e:\n",
        "                print(f\"Skipping {img_path}: {e}\")\n",
        "                continue\n",
        "\n",
        "        if not batch_images:\n",
        "            continue\n",
        "\n",
        "        # Convert to numpy array\n",
        "        batch_array = np.array(batch_images)\n",
        "\n",
        "        # ResNet features\n",
        "        resnet_input = preprocess_input(batch_array.copy())\n",
        "        resnet_features = resnet_model.predict(resnet_input, verbose=0)\n",
        "\n",
        "        # EfficientNet features\n",
        "        efficient_input = eff_preprocess(batch_array.copy())\n",
        "        efficient_features = efficient_model.predict(efficient_input, verbose=0)\n",
        "\n",
        "        # Apply Global Average Pooling\n",
        "        for j in range(len(batch_images)):\n",
        "            # ResNet\n",
        "            resnet_gap = tf.keras.layers.GlobalAveragePooling2D()(resnet_features[j:j+1])\n",
        "            resnet_vector = tf.reshape(resnet_gap, (2048,)).numpy()\n",
        "            all_resnet_features.append(resnet_vector)\n",
        "\n",
        "            # EfficientNet\n",
        "            efficient_gap = tf.keras.layers.GlobalAveragePooling2D()(efficient_features[j:j+1])\n",
        "            efficient_vector = tf.reshape(efficient_gap, (1280,)).numpy()\n",
        "            all_efficient_features.append(efficient_vector)\n",
        "\n",
        "        # Clear memory\n",
        "        del batch_array, resnet_features, efficient_features\n",
        "        tf.keras.backend.clear_session()\n",
        "\n",
        "    return np.array(all_resnet_features), np.array(all_efficient_features)\n",
        "\n",
        "# Get image paths (adjust path as needed)\n",
        "predict_dir = \"/content/runs/detect/predict/\"\n",
        "image_paths = glob.glob(os.path.join(predict_dir, \"*.jpg\"))[:50]  # Limit to 50 images for testing\n",
        "\n",
        "print(f\"Found {len(image_paths)} images\")\n",
        "\n",
        "# Extract features\n",
        "resnet_features, efficient_features = extract_features_batch(image_paths, batch_size=3)\n"
      ],
      "metadata": {
        "colab": {
          "base_uri": "https://localhost:8080/"
        },
        "id": "mO6ETabeW2Cw",
        "outputId": "6ad53c2c-c216-4cf0-fbb5-8e4a960735b0"
      },
      "execution_count": null,
      "outputs": [
        {
          "output_type": "stream",
          "name": "stdout",
          "text": [
            "Found 50 images\n",
            "Processing 50 images in batches of 3\n",
            "Processing batch 1/17\n",
            "Processing batch 2/17\n",
            "Processing batch 3/17\n",
            "Processing batch 4/17\n",
            "Processing batch 5/17\n",
            "Processing batch 6/17\n",
            "Processing batch 7/17\n",
            "Processing batch 8/17\n",
            "Processing batch 9/17\n",
            "Processing batch 10/17\n",
            "Processing batch 11/17\n",
            "Processing batch 12/17\n",
            "Processing batch 13/17\n",
            "Processing batch 14/17\n",
            "Processing batch 15/17\n",
            "Processing batch 16/17\n",
            "Processing batch 17/17\n"
          ]
        }
      ]
    },
    {
      "cell_type": "code",
      "source": [
        "def create_dummy_labels(num_samples, num_classes=10):\n",
        "    \"\"\"Create dummy labels for demonstration (replace with your actual labels)\"\"\"\n",
        "\n",
        "    # For demonstration - you should replace this with actual disease labels\n",
        "    np.random.seed(42)\n",
        "    labels = np.random.randint(0, num_classes, num_samples)\n",
        "\n",
        "    # Disease class names (adjust based on your dataset)\n",
        "    class_names = [\n",
        "        'Healthy', 'Bacterial_Spot', 'Early_Blight', 'Late_Blight',\n",
        "        'Leaf_Mold', 'Septoria_Leaf_Spot', 'Spider_Mites',\n",
        "        'Target_Spot', 'Yellow_Leaf_Curl_Virus', 'Mosaic_Virus'\n",
        "    ]\n",
        "\n",
        "    return labels, class_names\n",
        "\n",
        "# Create labels (replace with your actual labeling logic)\n",
        "labels, class_names = create_dummy_labels(len(resnet_features))\n",
        "print(f\"Created {len(labels)} labels\")\n"
      ],
      "metadata": {
        "colab": {
          "base_uri": "https://localhost:8080/"
        },
        "id": "Rp7uqCQrW5w1",
        "outputId": "3dc750fc-6333-4b66-874e-df156e2ca187"
      },
      "execution_count": null,
      "outputs": [
        {
          "output_type": "stream",
          "name": "stdout",
          "text": [
            "Created 50 labels\n"
          ]
        }
      ]
    },
    {
      "cell_type": "code",
      "source": [
        "def train_optimized_random_forest(resnet_feat, efficient_feat, labels):\n",
        "    \"\"\"Train Random Forest with optimized parameters\"\"\"\n",
        "\n",
        "    # Combine features\n",
        "    X = np.hstack([resnet_feat, efficient_feat])\n",
        "    y = labels\n",
        "\n",
        "    print(f\"Combined feature shape: {X.shape}\")\n",
        "\n",
        "    # Split data\n",
        "    X_train, X_test, y_train, y_test = train_test_split(\n",
        "        X, y, test_size=0.3, random_state=42\n",
        "    )\n",
        "\n",
        "    # Train Random Forest (smaller parameters for faster training)\n",
        "    rf = RandomForestClassifier(\n",
        "        n_estimators=50,      # Reduced for faster training\n",
        "        max_depth=10,         # Limit depth\n",
        "        min_samples_split=5,\n",
        "        random_state=42,\n",
        "        n_jobs=-1\n",
        "    )\n",
        "\n",
        "    print(\"Training Random Forest...\")\n",
        "    rf.fit(X_train, y_train)\n",
        "\n",
        "    # Test accuracy\n",
        "    y_pred = rf.predict(X_test)\n",
        "    accuracy = accuracy_score(y_test, y_pred)\n",
        "\n",
        "    print(f\"Accuracy: {accuracy:.4f}\")\n",
        "\n",
        "    return rf\n",
        "\n",
        "# Train model\n",
        "rf_model = train_optimized_random_forest(resnet_features, efficient_features, labels)\n"
      ],
      "metadata": {
        "colab": {
          "base_uri": "https://localhost:8080/"
        },
        "id": "pVrCPk1HW5nt",
        "outputId": "964b6c67-e745-4044-e482-fffa8bc5bdcf"
      },
      "execution_count": null,
      "outputs": [
        {
          "output_type": "stream",
          "name": "stdout",
          "text": [
            "Combined feature shape: (50, 3328)\n",
            "Training Random Forest...\n",
            "Accuracy: 0.0667\n"
          ]
        }
      ]
    },
    {
      "cell_type": "code",
      "source": [],
      "metadata": {
        "id": "s2C8JxR6W5VX"
      },
      "execution_count": null,
      "outputs": []
    }
  ]
}